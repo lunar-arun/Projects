{
 "cells": [
  {
   "cell_type": "markdown",
   "id": "9beb82cb",
   "metadata": {},
   "source": [
    "### Libraires"
   ]
  },
  {
   "cell_type": "code",
   "execution_count": 1,
   "id": "e908532f",
   "metadata": {
    "ExecuteTime": {
     "end_time": "2024-01-25T06:36:28.820848Z",
     "start_time": "2024-01-25T06:36:25.494680Z"
    }
   },
   "outputs": [],
   "source": [
    "import pandas as pd\n",
    "import numpy as np\n",
    "\n",
    "import matplotlib.pyplot as plt\n",
    "import seaborn as sns\n",
    "\n",
    "import warnings\n",
    "warnings.filterwarnings('ignore')"
   ]
  },
  {
   "cell_type": "code",
   "execution_count": 2,
   "id": "727973e4",
   "metadata": {
    "ExecuteTime": {
     "end_time": "2024-01-25T06:36:56.691843Z",
     "start_time": "2024-01-25T06:36:56.282724Z"
    }
   },
   "outputs": [],
   "source": [
    "# reading the dataset!\n",
    "data = pd.read_csv('Amazon Sales data.csv')"
   ]
  },
  {
   "cell_type": "code",
   "execution_count": 3,
   "id": "6548de8f",
   "metadata": {
    "ExecuteTime": {
     "end_time": "2024-01-25T06:37:17.441726Z",
     "start_time": "2024-01-25T06:37:17.433368Z"
    }
   },
   "outputs": [
    {
     "data": {
      "text/plain": [
       "(100, 14)"
      ]
     },
     "execution_count": 3,
     "metadata": {},
     "output_type": "execute_result"
    }
   ],
   "source": [
    "# check the size of the dataset!\n",
    "data.shape"
   ]
  },
  {
   "cell_type": "code",
   "execution_count": 4,
   "id": "9ff555b1",
   "metadata": {
    "ExecuteTime": {
     "end_time": "2024-01-25T06:37:38.641956Z",
     "start_time": "2024-01-25T06:37:38.627100Z"
    }
   },
   "outputs": [
    {
     "data": {
      "text/html": [
       "<div>\n",
       "<style scoped>\n",
       "    .dataframe tbody tr th:only-of-type {\n",
       "        vertical-align: middle;\n",
       "    }\n",
       "\n",
       "    .dataframe tbody tr th {\n",
       "        vertical-align: top;\n",
       "    }\n",
       "\n",
       "    .dataframe thead th {\n",
       "        text-align: right;\n",
       "    }\n",
       "</style>\n",
       "<table border=\"1\" class=\"dataframe\">\n",
       "  <thead>\n",
       "    <tr style=\"text-align: right;\">\n",
       "      <th></th>\n",
       "      <th>Region</th>\n",
       "      <th>Country</th>\n",
       "      <th>Item Type</th>\n",
       "      <th>Sales Channel</th>\n",
       "      <th>Order Priority</th>\n",
       "      <th>Order Date</th>\n",
       "      <th>Order ID</th>\n",
       "      <th>Ship Date</th>\n",
       "      <th>Units Sold</th>\n",
       "      <th>Unit Price</th>\n",
       "      <th>Unit Cost</th>\n",
       "      <th>Total Revenue</th>\n",
       "      <th>Total Cost</th>\n",
       "      <th>Total Profit</th>\n",
       "    </tr>\n",
       "  </thead>\n",
       "  <tbody>\n",
       "    <tr>\n",
       "      <th>0</th>\n",
       "      <td>Australia and Oceania</td>\n",
       "      <td>Tuvalu</td>\n",
       "      <td>Baby Food</td>\n",
       "      <td>Offline</td>\n",
       "      <td>H</td>\n",
       "      <td>5/28/2010</td>\n",
       "      <td>669165933</td>\n",
       "      <td>6/27/2010</td>\n",
       "      <td>9925</td>\n",
       "      <td>255.28</td>\n",
       "      <td>159.42</td>\n",
       "      <td>2533654.00</td>\n",
       "      <td>1582243.50</td>\n",
       "      <td>951410.50</td>\n",
       "    </tr>\n",
       "    <tr>\n",
       "      <th>1</th>\n",
       "      <td>Central America and the Caribbean</td>\n",
       "      <td>Grenada</td>\n",
       "      <td>Cereal</td>\n",
       "      <td>Online</td>\n",
       "      <td>C</td>\n",
       "      <td>8/22/2012</td>\n",
       "      <td>963881480</td>\n",
       "      <td>9/15/2012</td>\n",
       "      <td>2804</td>\n",
       "      <td>205.70</td>\n",
       "      <td>117.11</td>\n",
       "      <td>576782.80</td>\n",
       "      <td>328376.44</td>\n",
       "      <td>248406.36</td>\n",
       "    </tr>\n",
       "    <tr>\n",
       "      <th>2</th>\n",
       "      <td>Europe</td>\n",
       "      <td>Russia</td>\n",
       "      <td>Office Supplies</td>\n",
       "      <td>Offline</td>\n",
       "      <td>L</td>\n",
       "      <td>5/2/2014</td>\n",
       "      <td>341417157</td>\n",
       "      <td>5/8/2014</td>\n",
       "      <td>1779</td>\n",
       "      <td>651.21</td>\n",
       "      <td>524.96</td>\n",
       "      <td>1158502.59</td>\n",
       "      <td>933903.84</td>\n",
       "      <td>224598.75</td>\n",
       "    </tr>\n",
       "    <tr>\n",
       "      <th>3</th>\n",
       "      <td>Sub-Saharan Africa</td>\n",
       "      <td>Sao Tome and Principe</td>\n",
       "      <td>Fruits</td>\n",
       "      <td>Online</td>\n",
       "      <td>C</td>\n",
       "      <td>6/20/2014</td>\n",
       "      <td>514321792</td>\n",
       "      <td>7/5/2014</td>\n",
       "      <td>8102</td>\n",
       "      <td>9.33</td>\n",
       "      <td>6.92</td>\n",
       "      <td>75591.66</td>\n",
       "      <td>56065.84</td>\n",
       "      <td>19525.82</td>\n",
       "    </tr>\n",
       "    <tr>\n",
       "      <th>4</th>\n",
       "      <td>Sub-Saharan Africa</td>\n",
       "      <td>Rwanda</td>\n",
       "      <td>Office Supplies</td>\n",
       "      <td>Offline</td>\n",
       "      <td>L</td>\n",
       "      <td>2/1/2013</td>\n",
       "      <td>115456712</td>\n",
       "      <td>2/6/2013</td>\n",
       "      <td>5062</td>\n",
       "      <td>651.21</td>\n",
       "      <td>524.96</td>\n",
       "      <td>3296425.02</td>\n",
       "      <td>2657347.52</td>\n",
       "      <td>639077.50</td>\n",
       "    </tr>\n",
       "  </tbody>\n",
       "</table>\n",
       "</div>"
      ],
      "text/plain": [
       "                              Region                Country        Item Type  \\\n",
       "0              Australia and Oceania                 Tuvalu        Baby Food   \n",
       "1  Central America and the Caribbean                Grenada           Cereal   \n",
       "2                             Europe                 Russia  Office Supplies   \n",
       "3                 Sub-Saharan Africa  Sao Tome and Principe           Fruits   \n",
       "4                 Sub-Saharan Africa                 Rwanda  Office Supplies   \n",
       "\n",
       "  Sales Channel Order Priority Order Date   Order ID  Ship Date  Units Sold  \\\n",
       "0       Offline              H  5/28/2010  669165933  6/27/2010        9925   \n",
       "1        Online              C  8/22/2012  963881480  9/15/2012        2804   \n",
       "2       Offline              L   5/2/2014  341417157   5/8/2014        1779   \n",
       "3        Online              C  6/20/2014  514321792   7/5/2014        8102   \n",
       "4       Offline              L   2/1/2013  115456712   2/6/2013        5062   \n",
       "\n",
       "   Unit Price  Unit Cost  Total Revenue  Total Cost  Total Profit  \n",
       "0      255.28     159.42     2533654.00  1582243.50     951410.50  \n",
       "1      205.70     117.11      576782.80   328376.44     248406.36  \n",
       "2      651.21     524.96     1158502.59   933903.84     224598.75  \n",
       "3        9.33       6.92       75591.66    56065.84      19525.82  \n",
       "4      651.21     524.96     3296425.02  2657347.52     639077.50  "
      ]
     },
     "execution_count": 4,
     "metadata": {},
     "output_type": "execute_result"
    }
   ],
   "source": [
    "# preview the dataset!\n",
    "data.head()"
   ]
  },
  {
   "cell_type": "code",
   "execution_count": 5,
   "id": "84ed759b",
   "metadata": {
    "ExecuteTime": {
     "end_time": "2024-01-25T06:38:11.850152Z",
     "start_time": "2024-01-25T06:38:11.843421Z"
    }
   },
   "outputs": [
    {
     "data": {
      "text/plain": [
       "Index(['Region', 'Country', 'Item Type', 'Sales Channel', 'Order Priority',\n",
       "       'Order Date', 'Order ID', 'Ship Date', 'Units Sold', 'Unit Price',\n",
       "       'Unit Cost', 'Total Revenue', 'Total Cost', 'Total Profit'],\n",
       "      dtype='object')"
      ]
     },
     "execution_count": 5,
     "metadata": {},
     "output_type": "execute_result"
    }
   ],
   "source": [
    "# preview the columns names\n",
    "data.columns"
   ]
  },
  {
   "cell_type": "markdown",
   "id": "803e4a9f",
   "metadata": {},
   "source": [
    "## Data Preprocessing"
   ]
  },
  {
   "cell_type": "code",
   "execution_count": 18,
   "id": "8665cae0",
   "metadata": {
    "ExecuteTime": {
     "end_time": "2024-01-25T07:52:36.095072Z",
     "start_time": "2024-01-25T07:52:36.065748Z"
    }
   },
   "outputs": [
    {
     "name": "stdout",
     "output_type": "stream",
     "text": [
      "<class 'pandas.core.frame.DataFrame'>\n",
      "RangeIndex: 100 entries, 0 to 99\n",
      "Data columns (total 14 columns):\n",
      " #   Column          Non-Null Count  Dtype  \n",
      "---  ------          --------------  -----  \n",
      " 0   Region          100 non-null    object \n",
      " 1   Country         100 non-null    object \n",
      " 2   Item Type       100 non-null    object \n",
      " 3   Sales Channel   100 non-null    object \n",
      " 4   Order Priority  100 non-null    object \n",
      " 5   Order Date      100 non-null    object \n",
      " 6   Order ID        100 non-null    int64  \n",
      " 7   Ship Date       100 non-null    object \n",
      " 8   Units Sold      100 non-null    int64  \n",
      " 9   Unit Price      100 non-null    float64\n",
      " 10  Unit Cost       100 non-null    float64\n",
      " 11  Total Revenue   100 non-null    float64\n",
      " 12  Total Cost      100 non-null    float64\n",
      " 13  Total Profit    100 non-null    float64\n",
      "dtypes: float64(5), int64(2), object(7)\n",
      "memory usage: 11.1+ KB\n"
     ]
    }
   ],
   "source": [
    "data.info()"
   ]
  },
  {
   "cell_type": "code",
   "execution_count": 17,
   "id": "4caf536a",
   "metadata": {
    "ExecuteTime": {
     "end_time": "2024-01-25T07:52:26.384975Z",
     "start_time": "2024-01-25T07:52:26.354331Z"
    }
   },
   "outputs": [
    {
     "data": {
      "text/html": [
       "<div>\n",
       "<style scoped>\n",
       "    .dataframe tbody tr th:only-of-type {\n",
       "        vertical-align: middle;\n",
       "    }\n",
       "\n",
       "    .dataframe tbody tr th {\n",
       "        vertical-align: top;\n",
       "    }\n",
       "\n",
       "    .dataframe thead th {\n",
       "        text-align: right;\n",
       "    }\n",
       "</style>\n",
       "<table border=\"1\" class=\"dataframe\">\n",
       "  <thead>\n",
       "    <tr style=\"text-align: right;\">\n",
       "      <th></th>\n",
       "      <th>Order ID</th>\n",
       "      <th>Units Sold</th>\n",
       "      <th>Unit Price</th>\n",
       "      <th>Unit Cost</th>\n",
       "      <th>Total Revenue</th>\n",
       "      <th>Total Cost</th>\n",
       "      <th>Total Profit</th>\n",
       "    </tr>\n",
       "  </thead>\n",
       "  <tbody>\n",
       "    <tr>\n",
       "      <th>count</th>\n",
       "      <td>1.000000e+02</td>\n",
       "      <td>100.000000</td>\n",
       "      <td>100.000000</td>\n",
       "      <td>100.000000</td>\n",
       "      <td>1.000000e+02</td>\n",
       "      <td>1.000000e+02</td>\n",
       "      <td>1.000000e+02</td>\n",
       "    </tr>\n",
       "    <tr>\n",
       "      <th>mean</th>\n",
       "      <td>5.550204e+08</td>\n",
       "      <td>5128.710000</td>\n",
       "      <td>276.761300</td>\n",
       "      <td>191.048000</td>\n",
       "      <td>1.373488e+06</td>\n",
       "      <td>9.318057e+05</td>\n",
       "      <td>4.416820e+05</td>\n",
       "    </tr>\n",
       "    <tr>\n",
       "      <th>std</th>\n",
       "      <td>2.606153e+08</td>\n",
       "      <td>2794.484562</td>\n",
       "      <td>235.592241</td>\n",
       "      <td>188.208181</td>\n",
       "      <td>1.460029e+06</td>\n",
       "      <td>1.083938e+06</td>\n",
       "      <td>4.385379e+05</td>\n",
       "    </tr>\n",
       "    <tr>\n",
       "      <th>min</th>\n",
       "      <td>1.146066e+08</td>\n",
       "      <td>124.000000</td>\n",
       "      <td>9.330000</td>\n",
       "      <td>6.920000</td>\n",
       "      <td>4.870260e+03</td>\n",
       "      <td>3.612240e+03</td>\n",
       "      <td>1.258020e+03</td>\n",
       "    </tr>\n",
       "    <tr>\n",
       "      <th>25%</th>\n",
       "      <td>3.389225e+08</td>\n",
       "      <td>2836.250000</td>\n",
       "      <td>81.730000</td>\n",
       "      <td>35.840000</td>\n",
       "      <td>2.687212e+05</td>\n",
       "      <td>1.688680e+05</td>\n",
       "      <td>1.214436e+05</td>\n",
       "    </tr>\n",
       "    <tr>\n",
       "      <th>50%</th>\n",
       "      <td>5.577086e+08</td>\n",
       "      <td>5382.500000</td>\n",
       "      <td>179.880000</td>\n",
       "      <td>107.275000</td>\n",
       "      <td>7.523144e+05</td>\n",
       "      <td>3.635664e+05</td>\n",
       "      <td>2.907680e+05</td>\n",
       "    </tr>\n",
       "    <tr>\n",
       "      <th>75%</th>\n",
       "      <td>7.907551e+08</td>\n",
       "      <td>7369.000000</td>\n",
       "      <td>437.200000</td>\n",
       "      <td>263.330000</td>\n",
       "      <td>2.212045e+06</td>\n",
       "      <td>1.613870e+06</td>\n",
       "      <td>6.358288e+05</td>\n",
       "    </tr>\n",
       "    <tr>\n",
       "      <th>max</th>\n",
       "      <td>9.940222e+08</td>\n",
       "      <td>9925.000000</td>\n",
       "      <td>668.270000</td>\n",
       "      <td>524.960000</td>\n",
       "      <td>5.997055e+06</td>\n",
       "      <td>4.509794e+06</td>\n",
       "      <td>1.719922e+06</td>\n",
       "    </tr>\n",
       "  </tbody>\n",
       "</table>\n",
       "</div>"
      ],
      "text/plain": [
       "           Order ID   Units Sold  Unit Price   Unit Cost  Total Revenue  \\\n",
       "count  1.000000e+02   100.000000  100.000000  100.000000   1.000000e+02   \n",
       "mean   5.550204e+08  5128.710000  276.761300  191.048000   1.373488e+06   \n",
       "std    2.606153e+08  2794.484562  235.592241  188.208181   1.460029e+06   \n",
       "min    1.146066e+08   124.000000    9.330000    6.920000   4.870260e+03   \n",
       "25%    3.389225e+08  2836.250000   81.730000   35.840000   2.687212e+05   \n",
       "50%    5.577086e+08  5382.500000  179.880000  107.275000   7.523144e+05   \n",
       "75%    7.907551e+08  7369.000000  437.200000  263.330000   2.212045e+06   \n",
       "max    9.940222e+08  9925.000000  668.270000  524.960000   5.997055e+06   \n",
       "\n",
       "         Total Cost  Total Profit  \n",
       "count  1.000000e+02  1.000000e+02  \n",
       "mean   9.318057e+05  4.416820e+05  \n",
       "std    1.083938e+06  4.385379e+05  \n",
       "min    3.612240e+03  1.258020e+03  \n",
       "25%    1.688680e+05  1.214436e+05  \n",
       "50%    3.635664e+05  2.907680e+05  \n",
       "75%    1.613870e+06  6.358288e+05  \n",
       "max    4.509794e+06  1.719922e+06  "
      ]
     },
     "execution_count": 17,
     "metadata": {},
     "output_type": "execute_result"
    }
   ],
   "source": [
    "data.describe()"
   ]
  },
  {
   "cell_type": "markdown",
   "id": "072134f7",
   "metadata": {},
   "source": [
    "### Understanding each Columns"
   ]
  },
  {
   "cell_type": "code",
   "execution_count": 16,
   "id": "6fced72d",
   "metadata": {
    "ExecuteTime": {
     "end_time": "2024-01-25T07:31:43.291335Z",
     "start_time": "2024-01-25T07:31:43.283139Z"
    }
   },
   "outputs": [
    {
     "name": "stdout",
     "output_type": "stream",
     "text": [
      "Number of unique labels in Region : 7\n",
      "List of labels : \n",
      " ['Australia and Oceania' 'Central America and the Caribbean' 'Europe'\n",
      " 'Sub-Saharan Africa' 'Asia' 'Middle East and North Africa'\n",
      " 'North America']\n",
      "------------------------------------------\n",
      "Number of unique labels in Country : 76\n",
      "------------------------------------------\n",
      "Number of unique labels in Item Type : 12\n",
      "List of labels : \n",
      " ['Baby Food' 'Cereal' 'Office Supplies' 'Fruits' 'Household' 'Vegetables'\n",
      " 'Personal Care' 'Clothes' 'Cosmetics' 'Beverages' 'Meat' 'Snacks']\n",
      "------------------------------------------\n",
      "Number of unique labels in Sales Channel : 2\n",
      "List of labels : \n",
      " ['Offline' 'Online']\n",
      "------------------------------------------\n",
      "Number of unique labels in Order Priority : 4\n",
      "List of labels : \n",
      " ['H' 'C' 'L' 'M']\n",
      "------------------------------------------\n",
      "Number of unique labels in Order Date : 100\n",
      "------------------------------------------\n",
      "Number of unique labels in Order ID : 100\n",
      "------------------------------------------\n",
      "Number of unique labels in Ship Date : 99\n",
      "------------------------------------------\n",
      "Number of unique labels in Units Sold : 99\n",
      "------------------------------------------\n",
      "Number of unique labels in Unit Price : 12\n",
      "List of labels : \n",
      " [255.28 205.7  651.21   9.33 668.27 154.06  81.73 109.28 437.2   47.45\n",
      " 421.89 152.58]\n",
      "------------------------------------------\n",
      "Number of unique labels in Unit Cost : 12\n",
      "List of labels : \n",
      " [159.42 117.11 524.96   6.92 502.54  90.93  56.67  35.84 263.33  31.79\n",
      " 364.69  97.44]\n",
      "------------------------------------------\n",
      "Number of unique labels in Total Revenue : 100\n",
      "------------------------------------------\n",
      "Number of unique labels in Total Cost : 100\n",
      "------------------------------------------\n",
      "Number of unique labels in Total Profit : 100\n",
      "------------------------------------------\n"
     ]
    }
   ],
   "source": [
    "for cols in data.columns:\n",
    "    print(f\"Number of unique labels in {cols} : {data[cols].nunique()}\")\n",
    "    if data[cols].nunique() < 15 :\n",
    "        print(\"List of labels : \\n\",data[cols].unique())\n",
    "        \n",
    "    print(\"------------------------------------------\")"
   ]
  },
  {
   "cell_type": "markdown",
   "id": "225d900a",
   "metadata": {},
   "source": [
    "## Exploratory Data Analysis "
   ]
  },
  {
   "cell_type": "code",
   "execution_count": 19,
   "id": "f5ef7e95",
   "metadata": {
    "ExecuteTime": {
     "end_time": "2024-01-25T09:14:43.020039Z",
     "start_time": "2024-01-25T09:14:42.962279Z"
    }
   },
   "outputs": [
    {
     "name": "stdout",
     "output_type": "stream",
     "text": [
      "                Region       Country  Total Profit\n",
      "0                 Asia    Bangladesh     606834.72\n",
      "1                 Asia        Brunei     846885.00\n",
      "2                 Asia    Kyrgyzstan       7828.12\n",
      "3                 Asia          Laos     235601.16\n",
      "4                 Asia      Malaysia      15103.47\n",
      "..                 ...           ...           ...\n",
      "71  Sub-Saharan Africa       Senegal     584073.87\n",
      "72  Sub-Saharan Africa  Sierra Leone     649879.30\n",
      "73  Sub-Saharan Africa   South Sudan      53252.50\n",
      "74  Sub-Saharan Africa    The Gambia    1385883.27\n",
      "75  Sub-Saharan Africa        Zambia     225246.90\n",
      "\n",
      "[76 rows x 3 columns]\n"
     ]
    }
   ],
   "source": [
    "# Group by Region and Country, then calculate the total profit for each group\n",
    "region_country_profit = data.groupby(['Region', 'Country'])['Total Profit'].sum().reset_index()\n",
    "\n",
    "# Display the result\n",
    "print(region_country_profit)"
   ]
  },
  {
   "cell_type": "code",
   "execution_count": 20,
   "id": "feb2d977",
   "metadata": {
    "ExecuteTime": {
     "end_time": "2024-01-25T09:14:53.636615Z",
     "start_time": "2024-01-25T09:14:53.615886Z"
    }
   },
   "outputs": [
    {
     "data": {
      "text/html": [
       "<div>\n",
       "<style scoped>\n",
       "    .dataframe tbody tr th:only-of-type {\n",
       "        vertical-align: middle;\n",
       "    }\n",
       "\n",
       "    .dataframe tbody tr th {\n",
       "        vertical-align: top;\n",
       "    }\n",
       "\n",
       "    .dataframe thead th {\n",
       "        text-align: right;\n",
       "    }\n",
       "</style>\n",
       "<table border=\"1\" class=\"dataframe\">\n",
       "  <thead>\n",
       "    <tr style=\"text-align: right;\">\n",
       "      <th></th>\n",
       "      <th>Region</th>\n",
       "      <th>Country</th>\n",
       "      <th>Total Profit</th>\n",
       "    </tr>\n",
       "  </thead>\n",
       "  <tbody>\n",
       "    <tr>\n",
       "      <th>0</th>\n",
       "      <td>Asia</td>\n",
       "      <td>Bangladesh</td>\n",
       "      <td>606834.72</td>\n",
       "    </tr>\n",
       "    <tr>\n",
       "      <th>1</th>\n",
       "      <td>Asia</td>\n",
       "      <td>Brunei</td>\n",
       "      <td>846885.00</td>\n",
       "    </tr>\n",
       "    <tr>\n",
       "      <th>2</th>\n",
       "      <td>Asia</td>\n",
       "      <td>Kyrgyzstan</td>\n",
       "      <td>7828.12</td>\n",
       "    </tr>\n",
       "    <tr>\n",
       "      <th>3</th>\n",
       "      <td>Asia</td>\n",
       "      <td>Laos</td>\n",
       "      <td>235601.16</td>\n",
       "    </tr>\n",
       "    <tr>\n",
       "      <th>4</th>\n",
       "      <td>Asia</td>\n",
       "      <td>Malaysia</td>\n",
       "      <td>15103.47</td>\n",
       "    </tr>\n",
       "    <tr>\n",
       "      <th>...</th>\n",
       "      <td>...</td>\n",
       "      <td>...</td>\n",
       "      <td>...</td>\n",
       "    </tr>\n",
       "    <tr>\n",
       "      <th>71</th>\n",
       "      <td>Sub-Saharan Africa</td>\n",
       "      <td>Senegal</td>\n",
       "      <td>584073.87</td>\n",
       "    </tr>\n",
       "    <tr>\n",
       "      <th>72</th>\n",
       "      <td>Sub-Saharan Africa</td>\n",
       "      <td>Sierra Leone</td>\n",
       "      <td>649879.30</td>\n",
       "    </tr>\n",
       "    <tr>\n",
       "      <th>73</th>\n",
       "      <td>Sub-Saharan Africa</td>\n",
       "      <td>South Sudan</td>\n",
       "      <td>53252.50</td>\n",
       "    </tr>\n",
       "    <tr>\n",
       "      <th>74</th>\n",
       "      <td>Sub-Saharan Africa</td>\n",
       "      <td>The Gambia</td>\n",
       "      <td>1385883.27</td>\n",
       "    </tr>\n",
       "    <tr>\n",
       "      <th>75</th>\n",
       "      <td>Sub-Saharan Africa</td>\n",
       "      <td>Zambia</td>\n",
       "      <td>225246.90</td>\n",
       "    </tr>\n",
       "  </tbody>\n",
       "</table>\n",
       "<p>76 rows × 3 columns</p>\n",
       "</div>"
      ],
      "text/plain": [
       "                Region       Country  Total Profit\n",
       "0                 Asia    Bangladesh     606834.72\n",
       "1                 Asia        Brunei     846885.00\n",
       "2                 Asia    Kyrgyzstan       7828.12\n",
       "3                 Asia          Laos     235601.16\n",
       "4                 Asia      Malaysia      15103.47\n",
       "..                 ...           ...           ...\n",
       "71  Sub-Saharan Africa       Senegal     584073.87\n",
       "72  Sub-Saharan Africa  Sierra Leone     649879.30\n",
       "73  Sub-Saharan Africa   South Sudan      53252.50\n",
       "74  Sub-Saharan Africa    The Gambia    1385883.27\n",
       "75  Sub-Saharan Africa        Zambia     225246.90\n",
       "\n",
       "[76 rows x 3 columns]"
      ]
     },
     "execution_count": 20,
     "metadata": {},
     "output_type": "execute_result"
    }
   ],
   "source": [
    "data.groupby(['Region', 'Country'])['Total Profit'].sum().reset_index()"
   ]
  },
  {
   "cell_type": "code",
   "execution_count": 21,
   "id": "aab526a0",
   "metadata": {
    "ExecuteTime": {
     "end_time": "2024-01-25T09:35:13.567123Z",
     "start_time": "2024-01-25T09:35:13.552819Z"
    }
   },
   "outputs": [
    {
     "name": "stdout",
     "output_type": "stream",
     "text": [
      "The region with the highest total revenue is Sub-Saharan Africa with a total revenue of 39672031.43\n"
     ]
    }
   ],
   "source": [
    "region_max_revenue = data.groupby('Region')['Total Revenue'].sum().idxmax()\n",
    "max_revenue = data.groupby('Region')['Total Revenue'].sum().max()\n",
    "\n",
    "print(f'The region with the highest total revenue is {region_max_revenue} with a total revenue of {max_revenue}')\n"
   ]
  },
  {
   "cell_type": "code",
   "execution_count": null,
   "id": "8e416a71",
   "metadata": {},
   "outputs": [],
   "source": []
  }
 ],
 "metadata": {
  "kernelspec": {
   "display_name": "Python 3 (ipykernel)",
   "language": "python",
   "name": "python3"
  },
  "language_info": {
   "codemirror_mode": {
    "name": "ipython",
    "version": 3
   },
   "file_extension": ".py",
   "mimetype": "text/x-python",
   "name": "python",
   "nbconvert_exporter": "python",
   "pygments_lexer": "ipython3",
   "version": "3.11.5"
  },
  "toc": {
   "base_numbering": 1,
   "nav_menu": {},
   "number_sections": true,
   "sideBar": true,
   "skip_h1_title": false,
   "title_cell": "Table of Contents",
   "title_sidebar": "Contents",
   "toc_cell": false,
   "toc_position": {},
   "toc_section_display": true,
   "toc_window_display": false
  }
 },
 "nbformat": 4,
 "nbformat_minor": 5
}
