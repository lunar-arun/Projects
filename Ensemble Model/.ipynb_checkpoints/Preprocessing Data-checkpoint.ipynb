{
 "cells": [
  {
   "cell_type": "code",
   "execution_count": 1,
   "id": "641a6ede",
   "metadata": {
    "ExecuteTime": {
     "end_time": "2023-11-02T09:15:45.999287Z",
     "start_time": "2023-11-02T09:15:44.548646Z"
    }
   },
   "outputs": [],
   "source": [
    "import pandas as pd\n",
    "import numpy as np\n",
    "\n",
    "import matplotlib.pyplot as plt\n",
    "import seaborn as sns\n",
    "\n",
    "import warnings\n",
    "warnings.filterwarnings('ignore')"
   ]
  },
  {
   "cell_type": "code",
   "execution_count": 9,
   "id": "a801324f",
   "metadata": {
    "ExecuteTime": {
     "end_time": "2023-11-02T09:23:59.675123Z",
     "start_time": "2023-11-02T09:23:59.671781Z"
    }
   },
   "outputs": [],
   "source": [
    "import os\n",
    "os.chdir('dataset/')"
   ]
  },
  {
   "cell_type": "code",
   "execution_count": 11,
   "id": "a9647e12",
   "metadata": {
    "ExecuteTime": {
     "end_time": "2023-11-02T09:24:08.070572Z",
     "start_time": "2023-11-02T09:24:08.063592Z"
    }
   },
   "outputs": [
    {
     "data": {
      "text/plain": [
       "['application_record.csv', 'credit_record.csv']"
      ]
     },
     "execution_count": 11,
     "metadata": {},
     "output_type": "execute_result"
    }
   ],
   "source": [
    "import glob\n",
    "glob.glob('*.csv')"
   ]
  },
  {
   "cell_type": "code",
   "execution_count": 14,
   "id": "6a092b96",
   "metadata": {
    "ExecuteTime": {
     "end_time": "2023-11-02T09:24:18.870274Z",
     "start_time": "2023-11-02T09:24:18.029359Z"
    }
   },
   "outputs": [],
   "source": [
    "dfs = {}\n",
    "\n",
    "for i in glob.glob('*.csv'):\n",
    "    dfs[i[:-4]] = pd.read_csv(i)\n",
    "    \n",
    "for i in dfs.keys():\n",
    "    dfs[i].columns = [j.lower() for j in dfs[i].columns]"
   ]
  },
  {
   "cell_type": "code",
   "execution_count": 15,
   "id": "00510096",
   "metadata": {
    "ExecuteTime": {
     "end_time": "2023-11-02T09:24:19.901130Z",
     "start_time": "2023-11-02T09:24:19.894491Z"
    }
   },
   "outputs": [
    {
     "data": {
      "text/plain": [
       "dict_keys(['application_record', 'credit_record'])"
      ]
     },
     "execution_count": 15,
     "metadata": {},
     "output_type": "execute_result"
    }
   ],
   "source": [
    "dfs.keys()"
   ]
  },
  {
   "cell_type": "code",
   "execution_count": 17,
   "id": "44348aac",
   "metadata": {
    "ExecuteTime": {
     "end_time": "2023-11-02T09:25:08.470377Z",
     "start_time": "2023-11-02T09:25:08.456705Z"
    }
   },
   "outputs": [
    {
     "data": {
      "text/html": [
       "<div>\n",
       "<style scoped>\n",
       "    .dataframe tbody tr th:only-of-type {\n",
       "        vertical-align: middle;\n",
       "    }\n",
       "\n",
       "    .dataframe tbody tr th {\n",
       "        vertical-align: top;\n",
       "    }\n",
       "\n",
       "    .dataframe thead th {\n",
       "        text-align: right;\n",
       "    }\n",
       "</style>\n",
       "<table border=\"1\" class=\"dataframe\">\n",
       "  <thead>\n",
       "    <tr style=\"text-align: right;\">\n",
       "      <th></th>\n",
       "      <th>id</th>\n",
       "      <th>code_gender</th>\n",
       "      <th>flag_own_car</th>\n",
       "      <th>flag_own_realty</th>\n",
       "      <th>cnt_children</th>\n",
       "      <th>amt_income_total</th>\n",
       "      <th>name_income_type</th>\n",
       "      <th>name_education_type</th>\n",
       "      <th>name_family_status</th>\n",
       "      <th>name_housing_type</th>\n",
       "      <th>days_birth</th>\n",
       "      <th>days_employed</th>\n",
       "      <th>flag_mobil</th>\n",
       "      <th>flag_work_phone</th>\n",
       "      <th>flag_phone</th>\n",
       "      <th>flag_email</th>\n",
       "      <th>occupation_type</th>\n",
       "      <th>cnt_fam_members</th>\n",
       "    </tr>\n",
       "  </thead>\n",
       "  <tbody>\n",
       "    <tr>\n",
       "      <th>0</th>\n",
       "      <td>5008804</td>\n",
       "      <td>M</td>\n",
       "      <td>Y</td>\n",
       "      <td>Y</td>\n",
       "      <td>0</td>\n",
       "      <td>427500.0</td>\n",
       "      <td>Working</td>\n",
       "      <td>Higher education</td>\n",
       "      <td>Civil marriage</td>\n",
       "      <td>Rented apartment</td>\n",
       "      <td>-12005</td>\n",
       "      <td>-4542</td>\n",
       "      <td>1</td>\n",
       "      <td>1</td>\n",
       "      <td>0</td>\n",
       "      <td>0</td>\n",
       "      <td>NaN</td>\n",
       "      <td>2.0</td>\n",
       "    </tr>\n",
       "    <tr>\n",
       "      <th>1</th>\n",
       "      <td>5008805</td>\n",
       "      <td>M</td>\n",
       "      <td>Y</td>\n",
       "      <td>Y</td>\n",
       "      <td>0</td>\n",
       "      <td>427500.0</td>\n",
       "      <td>Working</td>\n",
       "      <td>Higher education</td>\n",
       "      <td>Civil marriage</td>\n",
       "      <td>Rented apartment</td>\n",
       "      <td>-12005</td>\n",
       "      <td>-4542</td>\n",
       "      <td>1</td>\n",
       "      <td>1</td>\n",
       "      <td>0</td>\n",
       "      <td>0</td>\n",
       "      <td>NaN</td>\n",
       "      <td>2.0</td>\n",
       "    </tr>\n",
       "    <tr>\n",
       "      <th>2</th>\n",
       "      <td>5008806</td>\n",
       "      <td>M</td>\n",
       "      <td>Y</td>\n",
       "      <td>Y</td>\n",
       "      <td>0</td>\n",
       "      <td>112500.0</td>\n",
       "      <td>Working</td>\n",
       "      <td>Secondary / secondary special</td>\n",
       "      <td>Married</td>\n",
       "      <td>House / apartment</td>\n",
       "      <td>-21474</td>\n",
       "      <td>-1134</td>\n",
       "      <td>1</td>\n",
       "      <td>0</td>\n",
       "      <td>0</td>\n",
       "      <td>0</td>\n",
       "      <td>Security staff</td>\n",
       "      <td>2.0</td>\n",
       "    </tr>\n",
       "    <tr>\n",
       "      <th>3</th>\n",
       "      <td>5008808</td>\n",
       "      <td>F</td>\n",
       "      <td>N</td>\n",
       "      <td>Y</td>\n",
       "      <td>0</td>\n",
       "      <td>270000.0</td>\n",
       "      <td>Commercial associate</td>\n",
       "      <td>Secondary / secondary special</td>\n",
       "      <td>Single / not married</td>\n",
       "      <td>House / apartment</td>\n",
       "      <td>-19110</td>\n",
       "      <td>-3051</td>\n",
       "      <td>1</td>\n",
       "      <td>0</td>\n",
       "      <td>1</td>\n",
       "      <td>1</td>\n",
       "      <td>Sales staff</td>\n",
       "      <td>1.0</td>\n",
       "    </tr>\n",
       "    <tr>\n",
       "      <th>4</th>\n",
       "      <td>5008809</td>\n",
       "      <td>F</td>\n",
       "      <td>N</td>\n",
       "      <td>Y</td>\n",
       "      <td>0</td>\n",
       "      <td>270000.0</td>\n",
       "      <td>Commercial associate</td>\n",
       "      <td>Secondary / secondary special</td>\n",
       "      <td>Single / not married</td>\n",
       "      <td>House / apartment</td>\n",
       "      <td>-19110</td>\n",
       "      <td>-3051</td>\n",
       "      <td>1</td>\n",
       "      <td>0</td>\n",
       "      <td>1</td>\n",
       "      <td>1</td>\n",
       "      <td>Sales staff</td>\n",
       "      <td>1.0</td>\n",
       "    </tr>\n",
       "  </tbody>\n",
       "</table>\n",
       "</div>"
      ],
      "text/plain": [
       "        id code_gender flag_own_car flag_own_realty  cnt_children  \\\n",
       "0  5008804           M            Y               Y             0   \n",
       "1  5008805           M            Y               Y             0   \n",
       "2  5008806           M            Y               Y             0   \n",
       "3  5008808           F            N               Y             0   \n",
       "4  5008809           F            N               Y             0   \n",
       "\n",
       "   amt_income_total      name_income_type            name_education_type  \\\n",
       "0          427500.0               Working               Higher education   \n",
       "1          427500.0               Working               Higher education   \n",
       "2          112500.0               Working  Secondary / secondary special   \n",
       "3          270000.0  Commercial associate  Secondary / secondary special   \n",
       "4          270000.0  Commercial associate  Secondary / secondary special   \n",
       "\n",
       "     name_family_status  name_housing_type  days_birth  days_employed  \\\n",
       "0        Civil marriage   Rented apartment      -12005          -4542   \n",
       "1        Civil marriage   Rented apartment      -12005          -4542   \n",
       "2               Married  House / apartment      -21474          -1134   \n",
       "3  Single / not married  House / apartment      -19110          -3051   \n",
       "4  Single / not married  House / apartment      -19110          -3051   \n",
       "\n",
       "   flag_mobil  flag_work_phone  flag_phone  flag_email occupation_type  \\\n",
       "0           1                1           0           0             NaN   \n",
       "1           1                1           0           0             NaN   \n",
       "2           1                0           0           0  Security staff   \n",
       "3           1                0           1           1     Sales staff   \n",
       "4           1                0           1           1     Sales staff   \n",
       "\n",
       "   cnt_fam_members  \n",
       "0              2.0  \n",
       "1              2.0  \n",
       "2              2.0  \n",
       "3              1.0  \n",
       "4              1.0  "
      ]
     },
     "execution_count": 17,
     "metadata": {},
     "output_type": "execute_result"
    }
   ],
   "source": [
    "dfs['application_record'].head()"
   ]
  },
  {
   "cell_type": "code",
   "execution_count": 18,
   "id": "dcae203f",
   "metadata": {
    "ExecuteTime": {
     "end_time": "2023-11-02T09:25:31.340062Z",
     "start_time": "2023-11-02T09:25:31.334077Z"
    }
   },
   "outputs": [
    {
     "data": {
      "text/html": [
       "<div>\n",
       "<style scoped>\n",
       "    .dataframe tbody tr th:only-of-type {\n",
       "        vertical-align: middle;\n",
       "    }\n",
       "\n",
       "    .dataframe tbody tr th {\n",
       "        vertical-align: top;\n",
       "    }\n",
       "\n",
       "    .dataframe thead th {\n",
       "        text-align: right;\n",
       "    }\n",
       "</style>\n",
       "<table border=\"1\" class=\"dataframe\">\n",
       "  <thead>\n",
       "    <tr style=\"text-align: right;\">\n",
       "      <th></th>\n",
       "      <th>id</th>\n",
       "      <th>months_balance</th>\n",
       "      <th>status</th>\n",
       "    </tr>\n",
       "  </thead>\n",
       "  <tbody>\n",
       "    <tr>\n",
       "      <th>0</th>\n",
       "      <td>5001711</td>\n",
       "      <td>0</td>\n",
       "      <td>X</td>\n",
       "    </tr>\n",
       "    <tr>\n",
       "      <th>1</th>\n",
       "      <td>5001711</td>\n",
       "      <td>-1</td>\n",
       "      <td>0</td>\n",
       "    </tr>\n",
       "    <tr>\n",
       "      <th>2</th>\n",
       "      <td>5001711</td>\n",
       "      <td>-2</td>\n",
       "      <td>0</td>\n",
       "    </tr>\n",
       "    <tr>\n",
       "      <th>3</th>\n",
       "      <td>5001711</td>\n",
       "      <td>-3</td>\n",
       "      <td>0</td>\n",
       "    </tr>\n",
       "    <tr>\n",
       "      <th>4</th>\n",
       "      <td>5001712</td>\n",
       "      <td>0</td>\n",
       "      <td>C</td>\n",
       "    </tr>\n",
       "  </tbody>\n",
       "</table>\n",
       "</div>"
      ],
      "text/plain": [
       "        id  months_balance status\n",
       "0  5001711               0      X\n",
       "1  5001711              -1      0\n",
       "2  5001711              -2      0\n",
       "3  5001711              -3      0\n",
       "4  5001712               0      C"
      ]
     },
     "execution_count": 18,
     "metadata": {},
     "output_type": "execute_result"
    }
   ],
   "source": [
    "dfs['credit_record'].head()"
   ]
  },
  {
   "cell_type": "code",
   "execution_count": 20,
   "id": "0a3e0223",
   "metadata": {
    "ExecuteTime": {
     "end_time": "2023-11-02T09:27:10.946509Z",
     "start_time": "2023-11-02T09:27:10.694654Z"
    }
   },
   "outputs": [
    {
     "data": {
      "text/plain": [
       "(777715, 20)"
      ]
     },
     "execution_count": 20,
     "metadata": {},
     "output_type": "execute_result"
    }
   ],
   "source": [
    "df = pd.merge(dfs['application_record'], dfs['credit_record'], on = 'id', how = 'inner')\n",
    "df.shape"
   ]
  },
  {
   "cell_type": "markdown",
   "id": "52cc277d",
   "metadata": {},
   "source": [
    "# Preprocessing"
   ]
  },
  {
   "cell_type": "code",
   "execution_count": 23,
   "id": "349b3446",
   "metadata": {
    "ExecuteTime": {
     "end_time": "2023-11-02T09:32:06.088923Z",
     "start_time": "2023-11-02T09:32:05.887269Z"
    }
   },
   "outputs": [
    {
     "data": {
      "text/plain": [
       "id                          0\n",
       "code_gender                 0\n",
       "flag_own_car                0\n",
       "flag_own_realty             0\n",
       "cnt_children                0\n",
       "amt_income_total            0\n",
       "name_income_type            0\n",
       "name_education_type         0\n",
       "name_family_status          0\n",
       "name_housing_type           0\n",
       "days_birth                  0\n",
       "days_employed               0\n",
       "flag_mobil                  0\n",
       "flag_work_phone             0\n",
       "flag_phone                  0\n",
       "flag_email                  0\n",
       "occupation_type        240048\n",
       "cnt_fam_members             0\n",
       "months_balance              0\n",
       "status                      0\n",
       "dtype: int64"
      ]
     },
     "execution_count": 23,
     "metadata": {},
     "output_type": "execute_result"
    }
   ],
   "source": [
    "df.isna().sum()"
   ]
  },
  {
   "cell_type": "code",
   "execution_count": 21,
   "id": "fd6bce65",
   "metadata": {
    "ExecuteTime": {
     "end_time": "2023-11-02T09:30:53.814549Z",
     "start_time": "2023-11-02T09:30:53.793498Z"
    }
   },
   "outputs": [
    {
     "data": {
      "text/plain": [
       "36457"
      ]
     },
     "execution_count": 21,
     "metadata": {},
     "output_type": "execute_result"
    }
   ],
   "source": [
    "df.id.nunique()"
   ]
  },
  {
   "cell_type": "code",
   "execution_count": 22,
   "id": "ab4133ce",
   "metadata": {
    "ExecuteTime": {
     "end_time": "2023-11-02T09:31:43.121520Z",
     "start_time": "2023-11-02T09:31:43.086783Z"
    }
   },
   "outputs": [
    {
     "data": {
      "text/plain": [
       "id\n",
       "5090630    61\n",
       "5148524    61\n",
       "5066707    61\n",
       "5061848    61\n",
       "5118380    61\n",
       "           ..\n",
       "5024557     1\n",
       "5062311     1\n",
       "5024365     1\n",
       "5024364     1\n",
       "5041568     1\n",
       "Name: count, Length: 36457, dtype: int64"
      ]
     },
     "execution_count": 22,
     "metadata": {},
     "output_type": "execute_result"
    }
   ],
   "source": [
    "df['id'].value_counts()"
   ]
  },
  {
   "cell_type": "code",
   "execution_count": 24,
   "id": "f2a397d0",
   "metadata": {
    "ExecuteTime": {
     "end_time": "2023-11-02T09:33:11.224540Z",
     "start_time": "2023-11-02T09:33:11.206438Z"
    }
   },
   "outputs": [
    {
     "data": {
      "text/html": [
       "<div>\n",
       "<style scoped>\n",
       "    .dataframe tbody tr th:only-of-type {\n",
       "        vertical-align: middle;\n",
       "    }\n",
       "\n",
       "    .dataframe tbody tr th {\n",
       "        vertical-align: top;\n",
       "    }\n",
       "\n",
       "    .dataframe thead th {\n",
       "        text-align: right;\n",
       "    }\n",
       "</style>\n",
       "<table border=\"1\" class=\"dataframe\">\n",
       "  <thead>\n",
       "    <tr style=\"text-align: right;\">\n",
       "      <th></th>\n",
       "      <th>id</th>\n",
       "      <th>code_gender</th>\n",
       "      <th>flag_own_car</th>\n",
       "      <th>flag_own_realty</th>\n",
       "      <th>cnt_children</th>\n",
       "      <th>amt_income_total</th>\n",
       "      <th>name_income_type</th>\n",
       "      <th>name_education_type</th>\n",
       "      <th>name_family_status</th>\n",
       "      <th>name_housing_type</th>\n",
       "      <th>days_birth</th>\n",
       "      <th>days_employed</th>\n",
       "      <th>flag_mobil</th>\n",
       "      <th>flag_work_phone</th>\n",
       "      <th>flag_phone</th>\n",
       "      <th>flag_email</th>\n",
       "      <th>occupation_type</th>\n",
       "      <th>cnt_fam_members</th>\n",
       "      <th>months_balance</th>\n",
       "      <th>status</th>\n",
       "    </tr>\n",
       "  </thead>\n",
       "  <tbody>\n",
       "    <tr>\n",
       "      <th>452126</th>\n",
       "      <td>5090630</td>\n",
       "      <td>F</td>\n",
       "      <td>N</td>\n",
       "      <td>Y</td>\n",
       "      <td>0</td>\n",
       "      <td>180000.0</td>\n",
       "      <td>Pensioner</td>\n",
       "      <td>Secondary / secondary special</td>\n",
       "      <td>Married</td>\n",
       "      <td>House / apartment</td>\n",
       "      <td>-19983</td>\n",
       "      <td>365243</td>\n",
       "      <td>1</td>\n",
       "      <td>0</td>\n",
       "      <td>0</td>\n",
       "      <td>1</td>\n",
       "      <td>NaN</td>\n",
       "      <td>2.0</td>\n",
       "      <td>0</td>\n",
       "      <td>X</td>\n",
       "    </tr>\n",
       "    <tr>\n",
       "      <th>452127</th>\n",
       "      <td>5090630</td>\n",
       "      <td>F</td>\n",
       "      <td>N</td>\n",
       "      <td>Y</td>\n",
       "      <td>0</td>\n",
       "      <td>180000.0</td>\n",
       "      <td>Pensioner</td>\n",
       "      <td>Secondary / secondary special</td>\n",
       "      <td>Married</td>\n",
       "      <td>House / apartment</td>\n",
       "      <td>-19983</td>\n",
       "      <td>365243</td>\n",
       "      <td>1</td>\n",
       "      <td>0</td>\n",
       "      <td>0</td>\n",
       "      <td>1</td>\n",
       "      <td>NaN</td>\n",
       "      <td>2.0</td>\n",
       "      <td>-1</td>\n",
       "      <td>X</td>\n",
       "    </tr>\n",
       "    <tr>\n",
       "      <th>452128</th>\n",
       "      <td>5090630</td>\n",
       "      <td>F</td>\n",
       "      <td>N</td>\n",
       "      <td>Y</td>\n",
       "      <td>0</td>\n",
       "      <td>180000.0</td>\n",
       "      <td>Pensioner</td>\n",
       "      <td>Secondary / secondary special</td>\n",
       "      <td>Married</td>\n",
       "      <td>House / apartment</td>\n",
       "      <td>-19983</td>\n",
       "      <td>365243</td>\n",
       "      <td>1</td>\n",
       "      <td>0</td>\n",
       "      <td>0</td>\n",
       "      <td>1</td>\n",
       "      <td>NaN</td>\n",
       "      <td>2.0</td>\n",
       "      <td>-2</td>\n",
       "      <td>X</td>\n",
       "    </tr>\n",
       "    <tr>\n",
       "      <th>452129</th>\n",
       "      <td>5090630</td>\n",
       "      <td>F</td>\n",
       "      <td>N</td>\n",
       "      <td>Y</td>\n",
       "      <td>0</td>\n",
       "      <td>180000.0</td>\n",
       "      <td>Pensioner</td>\n",
       "      <td>Secondary / secondary special</td>\n",
       "      <td>Married</td>\n",
       "      <td>House / apartment</td>\n",
       "      <td>-19983</td>\n",
       "      <td>365243</td>\n",
       "      <td>1</td>\n",
       "      <td>0</td>\n",
       "      <td>0</td>\n",
       "      <td>1</td>\n",
       "      <td>NaN</td>\n",
       "      <td>2.0</td>\n",
       "      <td>-3</td>\n",
       "      <td>X</td>\n",
       "    </tr>\n",
       "    <tr>\n",
       "      <th>452130</th>\n",
       "      <td>5090630</td>\n",
       "      <td>F</td>\n",
       "      <td>N</td>\n",
       "      <td>Y</td>\n",
       "      <td>0</td>\n",
       "      <td>180000.0</td>\n",
       "      <td>Pensioner</td>\n",
       "      <td>Secondary / secondary special</td>\n",
       "      <td>Married</td>\n",
       "      <td>House / apartment</td>\n",
       "      <td>-19983</td>\n",
       "      <td>365243</td>\n",
       "      <td>1</td>\n",
       "      <td>0</td>\n",
       "      <td>0</td>\n",
       "      <td>1</td>\n",
       "      <td>NaN</td>\n",
       "      <td>2.0</td>\n",
       "      <td>-4</td>\n",
       "      <td>X</td>\n",
       "    </tr>\n",
       "  </tbody>\n",
       "</table>\n",
       "</div>"
      ],
      "text/plain": [
       "             id code_gender flag_own_car flag_own_realty  cnt_children  \\\n",
       "452126  5090630           F            N               Y             0   \n",
       "452127  5090630           F            N               Y             0   \n",
       "452128  5090630           F            N               Y             0   \n",
       "452129  5090630           F            N               Y             0   \n",
       "452130  5090630           F            N               Y             0   \n",
       "\n",
       "        amt_income_total name_income_type            name_education_type  \\\n",
       "452126          180000.0        Pensioner  Secondary / secondary special   \n",
       "452127          180000.0        Pensioner  Secondary / secondary special   \n",
       "452128          180000.0        Pensioner  Secondary / secondary special   \n",
       "452129          180000.0        Pensioner  Secondary / secondary special   \n",
       "452130          180000.0        Pensioner  Secondary / secondary special   \n",
       "\n",
       "       name_family_status  name_housing_type  days_birth  days_employed  \\\n",
       "452126            Married  House / apartment      -19983         365243   \n",
       "452127            Married  House / apartment      -19983         365243   \n",
       "452128            Married  House / apartment      -19983         365243   \n",
       "452129            Married  House / apartment      -19983         365243   \n",
       "452130            Married  House / apartment      -19983         365243   \n",
       "\n",
       "        flag_mobil  flag_work_phone  flag_phone  flag_email occupation_type  \\\n",
       "452126           1                0           0           1             NaN   \n",
       "452127           1                0           0           1             NaN   \n",
       "452128           1                0           0           1             NaN   \n",
       "452129           1                0           0           1             NaN   \n",
       "452130           1                0           0           1             NaN   \n",
       "\n",
       "        cnt_fam_members  months_balance status  \n",
       "452126              2.0               0      X  \n",
       "452127              2.0              -1      X  \n",
       "452128              2.0              -2      X  \n",
       "452129              2.0              -3      X  \n",
       "452130              2.0              -4      X  "
      ]
     },
     "execution_count": 24,
     "metadata": {},
     "output_type": "execute_result"
    }
   ],
   "source": [
    "df[df['id'] == 5090630].head()"
   ]
  },
  {
   "cell_type": "code",
   "execution_count": 25,
   "id": "53c90489",
   "metadata": {
    "ExecuteTime": {
     "end_time": "2023-11-02T09:34:34.681571Z",
     "start_time": "2023-11-02T09:34:34.671489Z"
    }
   },
   "outputs": [
    {
     "data": {
      "text/plain": [
       "61"
      ]
     },
     "execution_count": 25,
     "metadata": {},
     "output_type": "execute_result"
    }
   ],
   "source": [
    "df[df['id'] == 5090630]['occupation_type'].isna().sum()"
   ]
  },
  {
   "cell_type": "code",
   "execution_count": 26,
   "id": "54d939da",
   "metadata": {
    "ExecuteTime": {
     "end_time": "2023-11-02T09:36:34.990791Z",
     "start_time": "2023-11-02T09:36:34.583876Z"
    }
   },
   "outputs": [
    {
     "name": "stdout",
     "output_type": "stream",
     "text": [
      "id :: [5008804 5008805 5008806 ... 5149838 5150049 5150337]\n",
      "code_gender :: ['M' 'F']\n",
      "flag_own_car :: ['Y' 'N']\n",
      "flag_own_realty :: ['Y' 'N']\n",
      "cnt_children :: [ 0  1  3  2  4  5 14 19  7]\n",
      "amt_income_total :: [ 427500.   112500.   270000.   283500.   135000.   130500.   157500.\n",
      "  405000.   211500.   360000.   126000.   315000.   247500.   297000.\n",
      "  225000.   166500.   216000.   255150.   148500.   202500.    94500.\n",
      "  450000.   180000.    90000.   765000.   382500.   144000.   229500.\n",
      "  292500.    74250.    40500.   337500.   193500.   267750.   139500.\n",
      "   67500.   252000.   900000.   115290.   279000.    76500.   234000.\n",
      "   81000.   108000.    99000.   198000.    45000.   238500.   117000.\n",
      "  153000.  1350000.   445500.   495000.    85500.   306000.   562500.\n",
      "  189000.   328500.   310500.   540000.   171000.   675000.   121500.\n",
      "   72000.    65250.   184500.   103500.   162000.   165150.    54000.\n",
      "  243000.   256500.    33300.   697500.   101250.    58500.   110250.\n",
      "  472500.   196650.   630000.   432000.   257625.   143100.   207000.\n",
      "  288000.   131400.   720000.   261000.    99900.    38250.   175500.\n",
      "   49500.    83250.   119250.    63000.   274500.    90900.   220500.\n",
      "   47250.   585000.   139050.    33750.   145350.   173250.   531000.\n",
      "  387000.  1125000.    36000.   179100.   206100.   265500.   118350.\n",
      "  123750.   116653.5  133650.   324000.   351000.   441000.   227250.\n",
      "   51750.   517500.   396000.   810000.   178650.   165600.    69750.\n",
      "   46948.5  616500.   378000.    89550.   234135.    42300.    74061.\n",
      "  175950.   168750.   391500.   177012.   364500.   661500.   240750.\n",
      "  333000.   342000.   167400.    50850.   141750.   176400.    30150.\n",
      "  155250.   414000.    52650.   115200.    67050.   120150.   373500.\n",
      "  146250.   213750.   121900.5  231750.   346500.   191250.   132372.\n",
      "  159750.   132750.    91530.    97731.   170302.5  265581.    73575.\n",
      "  184135.5  160200.   191700.   253800.    56700.   369000.   176175.\n",
      "  134419.5  190399.5  716323.5   31500.    57150.    78750.   236250.\n",
      "  208350.    38700.   222750.    72900.    56250.    62653.5  113400.\n",
      "   92250.   607500.   215550.    44550.   161100.   122400.    60376.5\n",
      "  254700.   787500.   140400.   185400.    31950.   129150.   612000.\n",
      "   47790.    69372.   134995.5  177750.   301500.   594000.   164250.\n",
      "   60750.    45900.   171261.   128542.5  178200.    73350.   124200.\n",
      "   82350.    38025.   360450.    39600.   634500.   459000.    87750.\n",
      "  945000.   463500.   742500.   151200.   560250.    89100.   204750.\n",
      "   36900.   187650.    32400.   147150.   119700.    27000.   990000.\n",
      "   61875.   355500.    79650.    37800.   140850.   195750.    29250.\n",
      "  423000.    87448.5  326250.    31531.5  105750.   468000.    97650.\n",
      "  114750.   418500.    95850.   652500.  1575000.    74700.    62100.\n",
      "  494100.   249750.   150750.   116100.   215100.   179271. ]\n",
      "name_income_type :: ['Working' 'Commercial associate' 'Pensioner' 'State servant' 'Student']\n",
      "name_education_type :: ['Higher education' 'Secondary / secondary special' 'Incomplete higher'\n",
      " 'Lower secondary' 'Academic degree']\n",
      "name_family_status :: ['Civil marriage' 'Married' 'Single / not married' 'Separated' 'Widow']\n",
      "name_housing_type :: ['Rented apartment' 'House / apartment' 'Municipal apartment'\n",
      " 'With parents' 'Co-op apartment' 'Office apartment']\n",
      "days_birth :: [-12005 -21474 -19110 ... -21590 -15837  -9188]\n",
      "days_employed :: [ -4542  -1134  -3051 ...  -8161   -606 -11272]\n",
      "flag_mobil :: [1]\n",
      "flag_work_phone :: [1 0]\n",
      "flag_phone :: [0 1]\n",
      "flag_email :: [0 1]\n",
      "occupation_type :: [nan 'Security staff' 'Sales staff' 'Accountants' 'Laborers' 'Managers'\n",
      " 'Drivers' 'Core staff' 'High skill tech staff' 'Cleaning staff'\n",
      " 'Private service staff' 'Cooking staff' 'Low-skill Laborers'\n",
      " 'Medicine staff' 'Secretaries' 'Waiters/barmen staff' 'HR staff'\n",
      " 'Realty agents' 'IT staff']\n",
      "cnt_fam_members :: [ 2.  1.  5.  3.  4.  6. 15.  7. 20.  9.]\n",
      "months_balance :: [  0  -1  -2  -3  -4  -5  -6  -7  -8  -9 -10 -11 -12 -13 -14 -15 -16 -17\n",
      " -18 -19 -20 -21 -22 -23 -24 -25 -26 -27 -28 -29 -30 -31 -32 -33 -34 -35\n",
      " -36 -37 -38 -39 -40 -41 -42 -43 -44 -45 -46 -47 -48 -49 -50 -51 -52 -53\n",
      " -54 -55 -56 -57 -58 -59 -60]\n",
      "status :: ['C' '1' '0' 'X' '5' '4' '3' '2']\n"
     ]
    }
   ],
   "source": [
    "for cols in df.columns:\n",
    "    print(f'{cols} :: {df[cols].unique()}')"
   ]
  },
  {
   "cell_type": "code",
   "execution_count": 29,
   "id": "ee9cba77",
   "metadata": {
    "ExecuteTime": {
     "end_time": "2023-11-02T09:37:19.723555Z",
     "start_time": "2023-11-02T09:37:19.081273Z"
    }
   },
   "outputs": [],
   "source": [
    "cols_with_2_unique_val = []\n",
    "\n",
    "for cols in df.columns:\n",
    "    if df[cols].nunique() == 2:\n",
    "        cols_with_2_unique_val.append(cols)\n",
    "        \n",
    "df1 = df.drop(columns = cols_with_2_unique_val)\n",
    "df2 = df[cols_with_2_unique_val]\n",
    "df2 = pd.get_dummies(df2)"
   ]
  },
  {
   "cell_type": "code",
   "execution_count": 31,
   "id": "422eb5ae",
   "metadata": {
    "ExecuteTime": {
     "end_time": "2023-11-02T09:38:25.203563Z",
     "start_time": "2023-11-02T09:38:25.192163Z"
    }
   },
   "outputs": [
    {
     "data": {
      "text/html": [
       "<div>\n",
       "<style scoped>\n",
       "    .dataframe tbody tr th:only-of-type {\n",
       "        vertical-align: middle;\n",
       "    }\n",
       "\n",
       "    .dataframe tbody tr th {\n",
       "        vertical-align: top;\n",
       "    }\n",
       "\n",
       "    .dataframe thead th {\n",
       "        text-align: right;\n",
       "    }\n",
       "</style>\n",
       "<table border=\"1\" class=\"dataframe\">\n",
       "  <thead>\n",
       "    <tr style=\"text-align: right;\">\n",
       "      <th></th>\n",
       "      <th>id</th>\n",
       "      <th>cnt_children</th>\n",
       "      <th>amt_income_total</th>\n",
       "      <th>name_income_type</th>\n",
       "      <th>name_education_type</th>\n",
       "      <th>name_family_status</th>\n",
       "      <th>name_housing_type</th>\n",
       "      <th>days_birth</th>\n",
       "      <th>days_employed</th>\n",
       "      <th>flag_mobil</th>\n",
       "      <th>occupation_type</th>\n",
       "      <th>cnt_fam_members</th>\n",
       "      <th>months_balance</th>\n",
       "      <th>status</th>\n",
       "    </tr>\n",
       "  </thead>\n",
       "  <tbody>\n",
       "    <tr>\n",
       "      <th>0</th>\n",
       "      <td>5008804</td>\n",
       "      <td>0</td>\n",
       "      <td>427500.0</td>\n",
       "      <td>Working</td>\n",
       "      <td>Higher education</td>\n",
       "      <td>Civil marriage</td>\n",
       "      <td>Rented apartment</td>\n",
       "      <td>-12005</td>\n",
       "      <td>-4542</td>\n",
       "      <td>1</td>\n",
       "      <td>NaN</td>\n",
       "      <td>2.0</td>\n",
       "      <td>0</td>\n",
       "      <td>C</td>\n",
       "    </tr>\n",
       "    <tr>\n",
       "      <th>1</th>\n",
       "      <td>5008804</td>\n",
       "      <td>0</td>\n",
       "      <td>427500.0</td>\n",
       "      <td>Working</td>\n",
       "      <td>Higher education</td>\n",
       "      <td>Civil marriage</td>\n",
       "      <td>Rented apartment</td>\n",
       "      <td>-12005</td>\n",
       "      <td>-4542</td>\n",
       "      <td>1</td>\n",
       "      <td>NaN</td>\n",
       "      <td>2.0</td>\n",
       "      <td>-1</td>\n",
       "      <td>C</td>\n",
       "    </tr>\n",
       "    <tr>\n",
       "      <th>2</th>\n",
       "      <td>5008804</td>\n",
       "      <td>0</td>\n",
       "      <td>427500.0</td>\n",
       "      <td>Working</td>\n",
       "      <td>Higher education</td>\n",
       "      <td>Civil marriage</td>\n",
       "      <td>Rented apartment</td>\n",
       "      <td>-12005</td>\n",
       "      <td>-4542</td>\n",
       "      <td>1</td>\n",
       "      <td>NaN</td>\n",
       "      <td>2.0</td>\n",
       "      <td>-2</td>\n",
       "      <td>C</td>\n",
       "    </tr>\n",
       "    <tr>\n",
       "      <th>3</th>\n",
       "      <td>5008804</td>\n",
       "      <td>0</td>\n",
       "      <td>427500.0</td>\n",
       "      <td>Working</td>\n",
       "      <td>Higher education</td>\n",
       "      <td>Civil marriage</td>\n",
       "      <td>Rented apartment</td>\n",
       "      <td>-12005</td>\n",
       "      <td>-4542</td>\n",
       "      <td>1</td>\n",
       "      <td>NaN</td>\n",
       "      <td>2.0</td>\n",
       "      <td>-3</td>\n",
       "      <td>C</td>\n",
       "    </tr>\n",
       "    <tr>\n",
       "      <th>4</th>\n",
       "      <td>5008804</td>\n",
       "      <td>0</td>\n",
       "      <td>427500.0</td>\n",
       "      <td>Working</td>\n",
       "      <td>Higher education</td>\n",
       "      <td>Civil marriage</td>\n",
       "      <td>Rented apartment</td>\n",
       "      <td>-12005</td>\n",
       "      <td>-4542</td>\n",
       "      <td>1</td>\n",
       "      <td>NaN</td>\n",
       "      <td>2.0</td>\n",
       "      <td>-4</td>\n",
       "      <td>C</td>\n",
       "    </tr>\n",
       "  </tbody>\n",
       "</table>\n",
       "</div>"
      ],
      "text/plain": [
       "        id  cnt_children  amt_income_total name_income_type  \\\n",
       "0  5008804             0          427500.0          Working   \n",
       "1  5008804             0          427500.0          Working   \n",
       "2  5008804             0          427500.0          Working   \n",
       "3  5008804             0          427500.0          Working   \n",
       "4  5008804             0          427500.0          Working   \n",
       "\n",
       "  name_education_type name_family_status name_housing_type  days_birth  \\\n",
       "0    Higher education     Civil marriage  Rented apartment      -12005   \n",
       "1    Higher education     Civil marriage  Rented apartment      -12005   \n",
       "2    Higher education     Civil marriage  Rented apartment      -12005   \n",
       "3    Higher education     Civil marriage  Rented apartment      -12005   \n",
       "4    Higher education     Civil marriage  Rented apartment      -12005   \n",
       "\n",
       "   days_employed  flag_mobil occupation_type  cnt_fam_members  months_balance  \\\n",
       "0          -4542           1             NaN              2.0               0   \n",
       "1          -4542           1             NaN              2.0              -1   \n",
       "2          -4542           1             NaN              2.0              -2   \n",
       "3          -4542           1             NaN              2.0              -3   \n",
       "4          -4542           1             NaN              2.0              -4   \n",
       "\n",
       "  status  \n",
       "0      C  \n",
       "1      C  \n",
       "2      C  \n",
       "3      C  \n",
       "4      C  "
      ]
     },
     "execution_count": 31,
     "metadata": {},
     "output_type": "execute_result"
    }
   ],
   "source": [
    "df1.head()"
   ]
  },
  {
   "cell_type": "code",
   "execution_count": 30,
   "id": "c4bc31dc",
   "metadata": {
    "ExecuteTime": {
     "end_time": "2023-11-02T09:37:51.237200Z",
     "start_time": "2023-11-02T09:37:51.231352Z"
    }
   },
   "outputs": [
    {
     "data": {
      "text/plain": [
       "Index(['id', 'cnt_children', 'amt_income_total', 'name_income_type',\n",
       "       'name_education_type', 'name_family_status', 'name_housing_type',\n",
       "       'days_birth', 'days_employed', 'flag_mobil', 'occupation_type',\n",
       "       'cnt_fam_members', 'months_balance', 'status'],\n",
       "      dtype='object')"
      ]
     },
     "execution_count": 30,
     "metadata": {},
     "output_type": "execute_result"
    }
   ],
   "source": [
    "df1.columns"
   ]
  },
  {
   "cell_type": "markdown",
   "id": "6ca3285b",
   "metadata": {},
   "source": [
    "    days_birth days_employed"
   ]
  },
  {
   "cell_type": "code",
   "execution_count": 32,
   "id": "54a6aa49",
   "metadata": {
    "ExecuteTime": {
     "end_time": "2023-11-02T09:39:26.657505Z",
     "start_time": "2023-11-02T09:39:26.638555Z"
    }
   },
   "outputs": [
    {
     "data": {
      "text/plain": [
       "count    777715.000000\n",
       "mean     -16124.937046\n",
       "std        4104.304018\n",
       "min      -25152.000000\n",
       "25%      -19453.000000\n",
       "50%      -15760.000000\n",
       "75%      -12716.000000\n",
       "max       -7489.000000\n",
       "Name: days_birth, dtype: float64"
      ]
     },
     "execution_count": 32,
     "metadata": {},
     "output_type": "execute_result"
    }
   ],
   "source": [
    "df1.days_birth.describe()"
   ]
  },
  {
   "cell_type": "code",
   "execution_count": null,
   "id": "40ab705d",
   "metadata": {},
   "outputs": [],
   "source": []
  }
 ],
 "metadata": {
  "kernelspec": {
   "display_name": "Python 3 (ipykernel)",
   "language": "python",
   "name": "python3"
  },
  "language_info": {
   "codemirror_mode": {
    "name": "ipython",
    "version": 3
   },
   "file_extension": ".py",
   "mimetype": "text/x-python",
   "name": "python",
   "nbconvert_exporter": "python",
   "pygments_lexer": "ipython3",
   "version": "3.11.5"
  },
  "toc": {
   "base_numbering": 1,
   "nav_menu": {},
   "number_sections": true,
   "sideBar": true,
   "skip_h1_title": false,
   "title_cell": "Table of Contents",
   "title_sidebar": "Contents",
   "toc_cell": false,
   "toc_position": {},
   "toc_section_display": true,
   "toc_window_display": false
  },
  "varInspector": {
   "cols": {
    "lenName": 16,
    "lenType": 16,
    "lenVar": 40
   },
   "kernels_config": {
    "python": {
     "delete_cmd_postfix": "",
     "delete_cmd_prefix": "del ",
     "library": "var_list.py",
     "varRefreshCmd": "print(var_dic_list())"
    },
    "r": {
     "delete_cmd_postfix": ") ",
     "delete_cmd_prefix": "rm(",
     "library": "var_list.r",
     "varRefreshCmd": "cat(var_dic_list()) "
    }
   },
   "types_to_exclude": [
    "module",
    "function",
    "builtin_function_or_method",
    "instance",
    "_Feature"
   ],
   "window_display": false
  }
 },
 "nbformat": 4,
 "nbformat_minor": 5
}
