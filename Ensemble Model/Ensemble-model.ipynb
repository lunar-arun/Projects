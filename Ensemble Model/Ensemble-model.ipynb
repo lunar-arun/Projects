{
 "cells": [
  {
   "cell_type": "code",
   "execution_count": 1,
   "id": "68bd4e31",
   "metadata": {
    "ExecuteTime": {
     "end_time": "2023-11-03T15:43:16.890348Z",
     "start_time": "2023-11-03T15:43:14.388534Z"
    }
   },
   "outputs": [],
   "source": [
    "import pandas as pd\n",
    "import numpy as np\n",
    "\n",
    "import matplotlib.pyplot as plt\n",
    "import seaborn as sns\n",
    "\n",
    "import warnings\n",
    "warnings.filterwarnings('ignore')"
   ]
  },
  {
   "cell_type": "code",
   "execution_count": 2,
   "id": "8bc2d8d8",
   "metadata": {
    "ExecuteTime": {
     "end_time": "2023-11-03T15:43:16.897328Z",
     "start_time": "2023-11-03T15:43:16.893338Z"
    }
   },
   "outputs": [],
   "source": [
    "import os\n",
    "os.chdir('dataset/')"
   ]
  },
  {
   "cell_type": "code",
   "execution_count": 3,
   "id": "66377713",
   "metadata": {
    "ExecuteTime": {
     "end_time": "2023-11-03T15:43:16.910560Z",
     "start_time": "2023-11-03T15:43:16.899323Z"
    }
   },
   "outputs": [
    {
     "data": {
      "text/plain": [
       "['application_record.csv', 'cleaned_df.csv', 'credit_record.csv']"
      ]
     },
     "execution_count": 3,
     "metadata": {},
     "output_type": "execute_result"
    }
   ],
   "source": [
    "import glob\n",
    "glob.glob('*.csv')"
   ]
  },
  {
   "cell_type": "code",
   "execution_count": 4,
   "id": "64526516",
   "metadata": {
    "ExecuteTime": {
     "end_time": "2023-11-03T15:43:18.364915Z",
     "start_time": "2023-11-03T15:43:16.913551Z"
    },
    "scrolled": true
   },
   "outputs": [
    {
     "data": {
      "text/html": [
       "<div>\n",
       "<style scoped>\n",
       "    .dataframe tbody tr th:only-of-type {\n",
       "        vertical-align: middle;\n",
       "    }\n",
       "\n",
       "    .dataframe tbody tr th {\n",
       "        vertical-align: top;\n",
       "    }\n",
       "\n",
       "    .dataframe thead th {\n",
       "        text-align: right;\n",
       "    }\n",
       "</style>\n",
       "<table border=\"1\" class=\"dataframe\">\n",
       "  <thead>\n",
       "    <tr style=\"text-align: right;\">\n",
       "      <th></th>\n",
       "      <th>Unnamed: 0</th>\n",
       "      <th>name_income_type</th>\n",
       "      <th>order_name_education_type</th>\n",
       "      <th>id</th>\n",
       "      <th>cnt_children</th>\n",
       "      <th>amt_income_total</th>\n",
       "      <th>name_family_status</th>\n",
       "      <th>name_housing_type</th>\n",
       "      <th>days_birth</th>\n",
       "      <th>days_employed</th>\n",
       "      <th>cnt_fam_members</th>\n",
       "      <th>months_balance</th>\n",
       "      <th>code_gender_F</th>\n",
       "      <th>code_gender_M</th>\n",
       "      <th>flag_own_realty_N</th>\n",
       "      <th>flag_own_realty_Y</th>\n",
       "      <th>occupation_type_code</th>\n",
       "      <th>response</th>\n",
       "    </tr>\n",
       "  </thead>\n",
       "  <tbody>\n",
       "    <tr>\n",
       "      <th>0</th>\n",
       "      <td>0</td>\n",
       "      <td>1</td>\n",
       "      <td>1</td>\n",
       "      <td>5010848</td>\n",
       "      <td>0</td>\n",
       "      <td>54000.0</td>\n",
       "      <td>3</td>\n",
       "      <td>6</td>\n",
       "      <td>61.03</td>\n",
       "      <td>0.0</td>\n",
       "      <td>2.0</td>\n",
       "      <td>0</td>\n",
       "      <td>False</td>\n",
       "      <td>True</td>\n",
       "      <td>False</td>\n",
       "      <td>True</td>\n",
       "      <td>9</td>\n",
       "      <td>1.0</td>\n",
       "    </tr>\n",
       "    <tr>\n",
       "      <th>1</th>\n",
       "      <td>1</td>\n",
       "      <td>1</td>\n",
       "      <td>1</td>\n",
       "      <td>5010848</td>\n",
       "      <td>0</td>\n",
       "      <td>54000.0</td>\n",
       "      <td>3</td>\n",
       "      <td>6</td>\n",
       "      <td>61.03</td>\n",
       "      <td>0.0</td>\n",
       "      <td>2.0</td>\n",
       "      <td>1</td>\n",
       "      <td>False</td>\n",
       "      <td>True</td>\n",
       "      <td>False</td>\n",
       "      <td>True</td>\n",
       "      <td>9</td>\n",
       "      <td>1.0</td>\n",
       "    </tr>\n",
       "    <tr>\n",
       "      <th>2</th>\n",
       "      <td>2</td>\n",
       "      <td>1</td>\n",
       "      <td>1</td>\n",
       "      <td>5010848</td>\n",
       "      <td>0</td>\n",
       "      <td>54000.0</td>\n",
       "      <td>3</td>\n",
       "      <td>6</td>\n",
       "      <td>61.03</td>\n",
       "      <td>0.0</td>\n",
       "      <td>2.0</td>\n",
       "      <td>2</td>\n",
       "      <td>False</td>\n",
       "      <td>True</td>\n",
       "      <td>False</td>\n",
       "      <td>True</td>\n",
       "      <td>9</td>\n",
       "      <td>1.0</td>\n",
       "    </tr>\n",
       "    <tr>\n",
       "      <th>3</th>\n",
       "      <td>3</td>\n",
       "      <td>1</td>\n",
       "      <td>1</td>\n",
       "      <td>5010848</td>\n",
       "      <td>0</td>\n",
       "      <td>54000.0</td>\n",
       "      <td>3</td>\n",
       "      <td>6</td>\n",
       "      <td>61.03</td>\n",
       "      <td>0.0</td>\n",
       "      <td>2.0</td>\n",
       "      <td>3</td>\n",
       "      <td>False</td>\n",
       "      <td>True</td>\n",
       "      <td>False</td>\n",
       "      <td>True</td>\n",
       "      <td>9</td>\n",
       "      <td>1.0</td>\n",
       "    </tr>\n",
       "    <tr>\n",
       "      <th>4</th>\n",
       "      <td>4</td>\n",
       "      <td>1</td>\n",
       "      <td>1</td>\n",
       "      <td>5010848</td>\n",
       "      <td>0</td>\n",
       "      <td>54000.0</td>\n",
       "      <td>3</td>\n",
       "      <td>6</td>\n",
       "      <td>61.03</td>\n",
       "      <td>0.0</td>\n",
       "      <td>2.0</td>\n",
       "      <td>4</td>\n",
       "      <td>False</td>\n",
       "      <td>True</td>\n",
       "      <td>False</td>\n",
       "      <td>True</td>\n",
       "      <td>9</td>\n",
       "      <td>1.0</td>\n",
       "    </tr>\n",
       "  </tbody>\n",
       "</table>\n",
       "</div>"
      ],
      "text/plain": [
       "   Unnamed: 0  name_income_type  order_name_education_type       id  \\\n",
       "0           0                 1                          1  5010848   \n",
       "1           1                 1                          1  5010848   \n",
       "2           2                 1                          1  5010848   \n",
       "3           3                 1                          1  5010848   \n",
       "4           4                 1                          1  5010848   \n",
       "\n",
       "   cnt_children  amt_income_total  name_family_status  name_housing_type  \\\n",
       "0             0           54000.0                   3                  6   \n",
       "1             0           54000.0                   3                  6   \n",
       "2             0           54000.0                   3                  6   \n",
       "3             0           54000.0                   3                  6   \n",
       "4             0           54000.0                   3                  6   \n",
       "\n",
       "   days_birth  days_employed  cnt_fam_members  months_balance  code_gender_F  \\\n",
       "0       61.03            0.0              2.0               0          False   \n",
       "1       61.03            0.0              2.0               1          False   \n",
       "2       61.03            0.0              2.0               2          False   \n",
       "3       61.03            0.0              2.0               3          False   \n",
       "4       61.03            0.0              2.0               4          False   \n",
       "\n",
       "   code_gender_M  flag_own_realty_N  flag_own_realty_Y  occupation_type_code  \\\n",
       "0           True              False               True                     9   \n",
       "1           True              False               True                     9   \n",
       "2           True              False               True                     9   \n",
       "3           True              False               True                     9   \n",
       "4           True              False               True                     9   \n",
       "\n",
       "   response  \n",
       "0       1.0  \n",
       "1       1.0  \n",
       "2       1.0  \n",
       "3       1.0  \n",
       "4       1.0  "
      ]
     },
     "execution_count": 4,
     "metadata": {},
     "output_type": "execute_result"
    }
   ],
   "source": [
    "final_df = pd.read_csv('cleaned_df.csv')\n",
    "final_df.head()"
   ]
  },
  {
   "cell_type": "code",
   "execution_count": 5,
   "id": "e0a84748",
   "metadata": {
    "ExecuteTime": {
     "end_time": "2023-11-03T15:43:18.371248Z",
     "start_time": "2023-11-03T15:43:18.365912Z"
    }
   },
   "outputs": [
    {
     "data": {
      "text/plain": [
       "Index(['Unnamed: 0', 'name_income_type', 'order_name_education_type', 'id',\n",
       "       'cnt_children', 'amt_income_total', 'name_family_status',\n",
       "       'name_housing_type', 'days_birth', 'days_employed', 'cnt_fam_members',\n",
       "       'months_balance', 'code_gender_F', 'code_gender_M', 'flag_own_realty_N',\n",
       "       'flag_own_realty_Y', 'occupation_type_code', 'response'],\n",
       "      dtype='object')"
      ]
     },
     "execution_count": 5,
     "metadata": {},
     "output_type": "execute_result"
    }
   ],
   "source": [
    "final_df.columns"
   ]
  },
  {
   "cell_type": "code",
   "execution_count": 6,
   "id": "036c4402",
   "metadata": {
    "ExecuteTime": {
     "end_time": "2023-11-03T15:43:18.380477Z",
     "start_time": "2023-11-03T15:43:18.372245Z"
    }
   },
   "outputs": [
    {
     "data": {
      "text/plain": [
       "dtype('bool')"
      ]
     },
     "execution_count": 6,
     "metadata": {},
     "output_type": "execute_result"
    }
   ],
   "source": [
    "final_df.code_gender_F.dtype"
   ]
  },
  {
   "cell_type": "code",
   "execution_count": 7,
   "id": "3afab916",
   "metadata": {
    "ExecuteTime": {
     "end_time": "2023-11-03T15:43:19.350607Z",
     "start_time": "2023-11-03T15:43:18.383467Z"
    }
   },
   "outputs": [],
   "source": [
    "def lable(x):\n",
    "    if x == True:\n",
    "        return 1\n",
    "    elif x == False:\n",
    "        return 0\n",
    "\n",
    "for cols in ['code_gender_F', 'code_gender_M', 'flag_own_realty_N','flag_own_realty_Y']:\n",
    "    final_df[cols] = final_df[cols].apply(lable)"
   ]
  },
  {
   "cell_type": "code",
   "execution_count": 8,
   "id": "e06c7014",
   "metadata": {
    "ExecuteTime": {
     "end_time": "2023-11-03T15:43:20.074853Z",
     "start_time": "2023-11-03T15:43:19.351603Z"
    }
   },
   "outputs": [],
   "source": [
    "from sklearn.ensemble import RandomForestClassifier\n",
    "from sklearn.linear_model import LogisticRegression\n",
    "from sklearn.naive_bayes import CategoricalNB\n",
    "from xgboost import XGBClassifier"
   ]
  },
  {
   "cell_type": "code",
   "execution_count": 10,
   "id": "d0fde9a3",
   "metadata": {
    "ExecuteTime": {
     "end_time": "2023-11-03T15:43:50.851822Z",
     "start_time": "2023-11-03T15:43:50.428425Z"
    }
   },
   "outputs": [],
   "source": [
    "rf  = RandomForestClassifier()\n",
    "lr = LogisticRegression()\n",
    "nb = CategoricalNB()\n",
    "xgb = XGBClassifier()\n",
    "model_list  = [rf, lr,nb,xgb]\n",
    "model_name = ['rf','lr','nb','xgb']\n",
    "model_output  = {}\n",
    "from sklearn.model_selection import train_test_split\n",
    "from sklearn.metrics import *\n",
    "x = final_df.iloc[:,:-1]\n",
    "y = final_df.iloc[:,-1]\n",
    "train_x, test_x, train_y, test_y = train_test_split(x,y, test_size=0.3,\n",
    "                                                   random_state=49,\n",
    "                                                   stratify=y)"
   ]
  },
  {
   "cell_type": "code",
   "execution_count": 11,
   "id": "f3023f8f",
   "metadata": {
    "ExecuteTime": {
     "end_time": "2023-11-03T15:46:53.474858Z",
     "start_time": "2023-11-03T15:43:51.421314Z"
    }
   },
   "outputs": [],
   "source": [
    "model_dfs = {}\n",
    "for i, j in zip(model_list, model_name):\n",
    "    model_dfs[j] = i.fit(train_x, train_y)"
   ]
  },
  {
   "cell_type": "code",
   "execution_count": 12,
   "id": "c43a6869",
   "metadata": {
    "ExecuteTime": {
     "end_time": "2023-11-03T15:48:12.147216Z",
     "start_time": "2023-11-03T15:48:12.139958Z"
    }
   },
   "outputs": [
    {
     "data": {
      "text/plain": [
       "dict_keys(['rf', 'lr', 'nb', 'xgb'])"
      ]
     },
     "execution_count": 12,
     "metadata": {},
     "output_type": "execute_result"
    }
   ],
   "source": [
    "model_dfs.keys()"
   ]
  },
  {
   "cell_type": "code",
   "execution_count": 13,
   "id": "4c692642",
   "metadata": {
    "ExecuteTime": {
     "end_time": "2023-11-03T15:48:25.997326Z",
     "start_time": "2023-11-03T15:48:13.106760Z"
    }
   },
   "outputs": [],
   "source": [
    "test_pred = []\n",
    "final_pred  = np.zeros((test_x.shape[0],))\n",
    "for i in model_dfs.keys():\n",
    "    test_pred.append(model_dfs[i].predict(test_x))\n",
    "    final_pred +=model_dfs[i].predict(test_x)"
   ]
  },
  {
   "cell_type": "code",
   "execution_count": 16,
   "id": "7caacf2e",
   "metadata": {
    "ExecuteTime": {
     "end_time": "2023-11-03T15:49:26.406219Z",
     "start_time": "2023-11-03T15:49:18.402680Z"
    }
   },
   "outputs": [
    {
     "name": "stdout",
     "output_type": "stream",
     "text": [
      "Model Name rf\n",
      "              precision    recall  f1-score   support\n",
      "\n",
      "         0.0       0.50      0.43      0.46      3473\n",
      "         1.0       0.99      0.99      0.99    229842\n",
      "\n",
      "    accuracy                           0.99    233315\n",
      "   macro avg       0.75      0.71      0.73    233315\n",
      "weighted avg       0.98      0.99      0.98    233315\n",
      "\n",
      "Model Name lr\n",
      "              precision    recall  f1-score   support\n",
      "\n",
      "         0.0       0.00      0.00      0.00      3473\n",
      "         1.0       0.99      1.00      0.99    229842\n",
      "\n",
      "    accuracy                           0.99    233315\n",
      "   macro avg       0.49      0.50      0.50    233315\n",
      "weighted avg       0.97      0.99      0.98    233315\n",
      "\n",
      "Model Name nb\n",
      "              precision    recall  f1-score   support\n",
      "\n",
      "         0.0       0.00      0.00      0.00      3473\n",
      "         1.0       0.99      1.00      0.99    229842\n",
      "\n",
      "    accuracy                           0.99    233315\n",
      "   macro avg       0.49      0.50      0.50    233315\n",
      "weighted avg       0.97      0.99      0.98    233315\n",
      "\n",
      "Model Name xgb\n",
      "              precision    recall  f1-score   support\n",
      "\n",
      "         0.0       0.72      0.10      0.18      3473\n",
      "         1.0       0.99      1.00      0.99    229842\n",
      "\n",
      "    accuracy                           0.99    233315\n",
      "   macro avg       0.86      0.55      0.59    233315\n",
      "weighted avg       0.98      0.99      0.98    233315\n",
      "\n"
     ]
    }
   ],
   "source": [
    "for i in model_dfs.keys():\n",
    "    pred  = model_dfs[i].predict(test_x)\n",
    "    print('Model Name %s'%i)\n",
    "    print(classification_report(test_y, pred))"
   ]
  },
  {
   "cell_type": "code",
   "execution_count": 17,
   "id": "387fe259",
   "metadata": {
    "ExecuteTime": {
     "end_time": "2023-11-03T15:49:36.362040Z",
     "start_time": "2023-11-03T15:49:29.259206Z"
    }
   },
   "outputs": [
    {
     "name": "stdout",
     "output_type": "stream",
     "text": [
      "Model Name rf\n",
      "pos_label : 1  :: 0.9918394468717157\n",
      "Model Name lr\n",
      "pos_label : 1  :: 0.9880560776268977\n",
      "Model Name nb\n",
      "pos_label : 1  :: 0.9880560776268977\n",
      "Model Name xgb\n",
      "pos_label : 1  :: 0.9891298544044674\n"
     ]
    }
   ],
   "source": [
    "for i in model_dfs.keys():\n",
    "    pred  = model_dfs[i].predict(test_x)\n",
    "    print('Model Name %s'%i)\n",
    "    print('pos_label : 1  ::',fbeta_score(test_y, pred,beta=0.5,pos_label=1))"
   ]
  },
  {
   "cell_type": "code",
   "execution_count": null,
   "id": "8978ed87",
   "metadata": {},
   "outputs": [],
   "source": []
  }
 ],
 "metadata": {
  "kernelspec": {
   "display_name": "Python 3 (ipykernel)",
   "language": "python",
   "name": "python3"
  },
  "language_info": {
   "codemirror_mode": {
    "name": "ipython",
    "version": 3
   },
   "file_extension": ".py",
   "mimetype": "text/x-python",
   "name": "python",
   "nbconvert_exporter": "python",
   "pygments_lexer": "ipython3",
   "version": "3.11.5"
  },
  "toc": {
   "base_numbering": 1,
   "nav_menu": {},
   "number_sections": true,
   "sideBar": true,
   "skip_h1_title": false,
   "title_cell": "Table of Contents",
   "title_sidebar": "Contents",
   "toc_cell": false,
   "toc_position": {},
   "toc_section_display": true,
   "toc_window_display": false
  },
  "varInspector": {
   "cols": {
    "lenName": 16,
    "lenType": 16,
    "lenVar": 40
   },
   "kernels_config": {
    "python": {
     "delete_cmd_postfix": "",
     "delete_cmd_prefix": "del ",
     "library": "var_list.py",
     "varRefreshCmd": "print(var_dic_list())"
    },
    "r": {
     "delete_cmd_postfix": ") ",
     "delete_cmd_prefix": "rm(",
     "library": "var_list.r",
     "varRefreshCmd": "cat(var_dic_list()) "
    }
   },
   "types_to_exclude": [
    "module",
    "function",
    "builtin_function_or_method",
    "instance",
    "_Feature"
   ],
   "window_display": false
  }
 },
 "nbformat": 4,
 "nbformat_minor": 5
}
