{
 "cells": [
  {
   "cell_type": "code",
   "execution_count": 1,
   "id": "641a6ede",
   "metadata": {
    "ExecuteTime": {
     "end_time": "2023-11-02T12:46:07.680219Z",
     "start_time": "2023-11-02T12:46:06.153056Z"
    }
   },
   "outputs": [],
   "source": [
    "import pandas as pd\n",
    "import numpy as np\n",
    "\n",
    "import matplotlib.pyplot as plt\n",
    "import seaborn as sns\n",
    "\n",
    "import warnings\n",
    "warnings.filterwarnings('ignore')"
   ]
  },
  {
   "cell_type": "code",
   "execution_count": 2,
   "id": "a801324f",
   "metadata": {
    "ExecuteTime": {
     "end_time": "2023-11-02T12:46:08.381196Z",
     "start_time": "2023-11-02T12:46:08.376731Z"
    }
   },
   "outputs": [],
   "source": [
    "import os\n",
    "os.chdir('dataset/')"
   ]
  },
  {
   "cell_type": "code",
   "execution_count": 3,
   "id": "a9647e12",
   "metadata": {
    "ExecuteTime": {
     "end_time": "2023-11-02T12:46:08.857844Z",
     "start_time": "2023-11-02T12:46:08.846976Z"
    }
   },
   "outputs": [
    {
     "data": {
      "text/plain": [
       "['application_record.csv', 'credit_record.csv']"
      ]
     },
     "execution_count": 3,
     "metadata": {},
     "output_type": "execute_result"
    }
   ],
   "source": [
    "import glob\n",
    "glob.glob('*.csv')"
   ]
  },
  {
   "cell_type": "code",
   "execution_count": 4,
   "id": "6a092b96",
   "metadata": {
    "ExecuteTime": {
     "end_time": "2023-11-02T12:46:10.175748Z",
     "start_time": "2023-11-02T12:46:09.343113Z"
    }
   },
   "outputs": [],
   "source": [
    "dfs = {}\n",
    "\n",
    "for i in glob.glob('*.csv'):\n",
    "    dfs[i[:-4]] = pd.read_csv(i)\n",
    "    \n",
    "for i in dfs.keys():\n",
    "    dfs[i].columns = [j.lower() for j in dfs[i].columns]"
   ]
  },
  {
   "cell_type": "code",
   "execution_count": null,
   "id": "00510096",
   "metadata": {
    "ExecuteTime": {
     "end_time": "2023-11-02T12:46:11.000908Z",
     "start_time": "2023-11-02T12:46:11.000908Z"
    }
   },
   "outputs": [],
   "source": [
    "dfs.keys()"
   ]
  },
  {
   "cell_type": "code",
   "execution_count": 5,
   "id": "44348aac",
   "metadata": {
    "ExecuteTime": {
     "end_time": "2023-11-02T12:46:11.262137Z",
     "start_time": "2023-11-02T12:46:11.240257Z"
    }
   },
   "outputs": [
    {
     "data": {
      "text/html": [
       "<div>\n",
       "<style scoped>\n",
       "    .dataframe tbody tr th:only-of-type {\n",
       "        vertical-align: middle;\n",
       "    }\n",
       "\n",
       "    .dataframe tbody tr th {\n",
       "        vertical-align: top;\n",
       "    }\n",
       "\n",
       "    .dataframe thead th {\n",
       "        text-align: right;\n",
       "    }\n",
       "</style>\n",
       "<table border=\"1\" class=\"dataframe\">\n",
       "  <thead>\n",
       "    <tr style=\"text-align: right;\">\n",
       "      <th></th>\n",
       "      <th>id</th>\n",
       "      <th>code_gender</th>\n",
       "      <th>flag_own_car</th>\n",
       "      <th>flag_own_realty</th>\n",
       "      <th>cnt_children</th>\n",
       "      <th>amt_income_total</th>\n",
       "      <th>name_income_type</th>\n",
       "      <th>name_education_type</th>\n",
       "      <th>name_family_status</th>\n",
       "      <th>name_housing_type</th>\n",
       "      <th>days_birth</th>\n",
       "      <th>days_employed</th>\n",
       "      <th>flag_mobil</th>\n",
       "      <th>flag_work_phone</th>\n",
       "      <th>flag_phone</th>\n",
       "      <th>flag_email</th>\n",
       "      <th>occupation_type</th>\n",
       "      <th>cnt_fam_members</th>\n",
       "    </tr>\n",
       "  </thead>\n",
       "  <tbody>\n",
       "    <tr>\n",
       "      <th>0</th>\n",
       "      <td>5008804</td>\n",
       "      <td>M</td>\n",
       "      <td>Y</td>\n",
       "      <td>Y</td>\n",
       "      <td>0</td>\n",
       "      <td>427500.0</td>\n",
       "      <td>Working</td>\n",
       "      <td>Higher education</td>\n",
       "      <td>Civil marriage</td>\n",
       "      <td>Rented apartment</td>\n",
       "      <td>-12005</td>\n",
       "      <td>-4542</td>\n",
       "      <td>1</td>\n",
       "      <td>1</td>\n",
       "      <td>0</td>\n",
       "      <td>0</td>\n",
       "      <td>NaN</td>\n",
       "      <td>2.0</td>\n",
       "    </tr>\n",
       "    <tr>\n",
       "      <th>1</th>\n",
       "      <td>5008805</td>\n",
       "      <td>M</td>\n",
       "      <td>Y</td>\n",
       "      <td>Y</td>\n",
       "      <td>0</td>\n",
       "      <td>427500.0</td>\n",
       "      <td>Working</td>\n",
       "      <td>Higher education</td>\n",
       "      <td>Civil marriage</td>\n",
       "      <td>Rented apartment</td>\n",
       "      <td>-12005</td>\n",
       "      <td>-4542</td>\n",
       "      <td>1</td>\n",
       "      <td>1</td>\n",
       "      <td>0</td>\n",
       "      <td>0</td>\n",
       "      <td>NaN</td>\n",
       "      <td>2.0</td>\n",
       "    </tr>\n",
       "    <tr>\n",
       "      <th>2</th>\n",
       "      <td>5008806</td>\n",
       "      <td>M</td>\n",
       "      <td>Y</td>\n",
       "      <td>Y</td>\n",
       "      <td>0</td>\n",
       "      <td>112500.0</td>\n",
       "      <td>Working</td>\n",
       "      <td>Secondary / secondary special</td>\n",
       "      <td>Married</td>\n",
       "      <td>House / apartment</td>\n",
       "      <td>-21474</td>\n",
       "      <td>-1134</td>\n",
       "      <td>1</td>\n",
       "      <td>0</td>\n",
       "      <td>0</td>\n",
       "      <td>0</td>\n",
       "      <td>Security staff</td>\n",
       "      <td>2.0</td>\n",
       "    </tr>\n",
       "    <tr>\n",
       "      <th>3</th>\n",
       "      <td>5008808</td>\n",
       "      <td>F</td>\n",
       "      <td>N</td>\n",
       "      <td>Y</td>\n",
       "      <td>0</td>\n",
       "      <td>270000.0</td>\n",
       "      <td>Commercial associate</td>\n",
       "      <td>Secondary / secondary special</td>\n",
       "      <td>Single / not married</td>\n",
       "      <td>House / apartment</td>\n",
       "      <td>-19110</td>\n",
       "      <td>-3051</td>\n",
       "      <td>1</td>\n",
       "      <td>0</td>\n",
       "      <td>1</td>\n",
       "      <td>1</td>\n",
       "      <td>Sales staff</td>\n",
       "      <td>1.0</td>\n",
       "    </tr>\n",
       "    <tr>\n",
       "      <th>4</th>\n",
       "      <td>5008809</td>\n",
       "      <td>F</td>\n",
       "      <td>N</td>\n",
       "      <td>Y</td>\n",
       "      <td>0</td>\n",
       "      <td>270000.0</td>\n",
       "      <td>Commercial associate</td>\n",
       "      <td>Secondary / secondary special</td>\n",
       "      <td>Single / not married</td>\n",
       "      <td>House / apartment</td>\n",
       "      <td>-19110</td>\n",
       "      <td>-3051</td>\n",
       "      <td>1</td>\n",
       "      <td>0</td>\n",
       "      <td>1</td>\n",
       "      <td>1</td>\n",
       "      <td>Sales staff</td>\n",
       "      <td>1.0</td>\n",
       "    </tr>\n",
       "  </tbody>\n",
       "</table>\n",
       "</div>"
      ],
      "text/plain": [
       "        id code_gender flag_own_car flag_own_realty  cnt_children  \\\n",
       "0  5008804           M            Y               Y             0   \n",
       "1  5008805           M            Y               Y             0   \n",
       "2  5008806           M            Y               Y             0   \n",
       "3  5008808           F            N               Y             0   \n",
       "4  5008809           F            N               Y             0   \n",
       "\n",
       "   amt_income_total      name_income_type            name_education_type  \\\n",
       "0          427500.0               Working               Higher education   \n",
       "1          427500.0               Working               Higher education   \n",
       "2          112500.0               Working  Secondary / secondary special   \n",
       "3          270000.0  Commercial associate  Secondary / secondary special   \n",
       "4          270000.0  Commercial associate  Secondary / secondary special   \n",
       "\n",
       "     name_family_status  name_housing_type  days_birth  days_employed  \\\n",
       "0        Civil marriage   Rented apartment      -12005          -4542   \n",
       "1        Civil marriage   Rented apartment      -12005          -4542   \n",
       "2               Married  House / apartment      -21474          -1134   \n",
       "3  Single / not married  House / apartment      -19110          -3051   \n",
       "4  Single / not married  House / apartment      -19110          -3051   \n",
       "\n",
       "   flag_mobil  flag_work_phone  flag_phone  flag_email occupation_type  \\\n",
       "0           1                1           0           0             NaN   \n",
       "1           1                1           0           0             NaN   \n",
       "2           1                0           0           0  Security staff   \n",
       "3           1                0           1           1     Sales staff   \n",
       "4           1                0           1           1     Sales staff   \n",
       "\n",
       "   cnt_fam_members  \n",
       "0              2.0  \n",
       "1              2.0  \n",
       "2              2.0  \n",
       "3              1.0  \n",
       "4              1.0  "
      ]
     },
     "execution_count": 5,
     "metadata": {},
     "output_type": "execute_result"
    }
   ],
   "source": [
    "dfs['application_record'].head()"
   ]
  },
  {
   "cell_type": "code",
   "execution_count": 6,
   "id": "dcae203f",
   "metadata": {
    "ExecuteTime": {
     "end_time": "2023-11-02T12:46:11.609593Z",
     "start_time": "2023-11-02T12:46:11.599348Z"
    }
   },
   "outputs": [
    {
     "data": {
      "text/html": [
       "<div>\n",
       "<style scoped>\n",
       "    .dataframe tbody tr th:only-of-type {\n",
       "        vertical-align: middle;\n",
       "    }\n",
       "\n",
       "    .dataframe tbody tr th {\n",
       "        vertical-align: top;\n",
       "    }\n",
       "\n",
       "    .dataframe thead th {\n",
       "        text-align: right;\n",
       "    }\n",
       "</style>\n",
       "<table border=\"1\" class=\"dataframe\">\n",
       "  <thead>\n",
       "    <tr style=\"text-align: right;\">\n",
       "      <th></th>\n",
       "      <th>id</th>\n",
       "      <th>months_balance</th>\n",
       "      <th>status</th>\n",
       "    </tr>\n",
       "  </thead>\n",
       "  <tbody>\n",
       "    <tr>\n",
       "      <th>0</th>\n",
       "      <td>5001711</td>\n",
       "      <td>0</td>\n",
       "      <td>X</td>\n",
       "    </tr>\n",
       "    <tr>\n",
       "      <th>1</th>\n",
       "      <td>5001711</td>\n",
       "      <td>-1</td>\n",
       "      <td>0</td>\n",
       "    </tr>\n",
       "    <tr>\n",
       "      <th>2</th>\n",
       "      <td>5001711</td>\n",
       "      <td>-2</td>\n",
       "      <td>0</td>\n",
       "    </tr>\n",
       "    <tr>\n",
       "      <th>3</th>\n",
       "      <td>5001711</td>\n",
       "      <td>-3</td>\n",
       "      <td>0</td>\n",
       "    </tr>\n",
       "    <tr>\n",
       "      <th>4</th>\n",
       "      <td>5001712</td>\n",
       "      <td>0</td>\n",
       "      <td>C</td>\n",
       "    </tr>\n",
       "  </tbody>\n",
       "</table>\n",
       "</div>"
      ],
      "text/plain": [
       "        id  months_balance status\n",
       "0  5001711               0      X\n",
       "1  5001711              -1      0\n",
       "2  5001711              -2      0\n",
       "3  5001711              -3      0\n",
       "4  5001712               0      C"
      ]
     },
     "execution_count": 6,
     "metadata": {},
     "output_type": "execute_result"
    }
   ],
   "source": [
    "dfs['credit_record'].head()"
   ]
  },
  {
   "cell_type": "code",
   "execution_count": 7,
   "id": "0a3e0223",
   "metadata": {
    "ExecuteTime": {
     "end_time": "2023-11-02T12:46:13.083527Z",
     "start_time": "2023-11-02T12:46:12.840203Z"
    }
   },
   "outputs": [
    {
     "data": {
      "text/plain": [
       "(777715, 20)"
      ]
     },
     "execution_count": 7,
     "metadata": {},
     "output_type": "execute_result"
    }
   ],
   "source": [
    "df = pd.merge(dfs['application_record'], dfs['credit_record'], on = 'id', how = 'inner')\n",
    "df.shape"
   ]
  },
  {
   "cell_type": "markdown",
   "id": "52cc277d",
   "metadata": {},
   "source": [
    "# Preprocessing"
   ]
  },
  {
   "cell_type": "code",
   "execution_count": 8,
   "id": "349b3446",
   "metadata": {
    "ExecuteTime": {
     "end_time": "2023-11-02T12:46:16.271106Z",
     "start_time": "2023-11-02T12:46:16.085782Z"
    }
   },
   "outputs": [
    {
     "data": {
      "text/plain": [
       "id                          0\n",
       "code_gender                 0\n",
       "flag_own_car                0\n",
       "flag_own_realty             0\n",
       "cnt_children                0\n",
       "amt_income_total            0\n",
       "name_income_type            0\n",
       "name_education_type         0\n",
       "name_family_status          0\n",
       "name_housing_type           0\n",
       "days_birth                  0\n",
       "days_employed               0\n",
       "flag_mobil                  0\n",
       "flag_work_phone             0\n",
       "flag_phone                  0\n",
       "flag_email                  0\n",
       "occupation_type        240048\n",
       "cnt_fam_members             0\n",
       "months_balance              0\n",
       "status                      0\n",
       "dtype: int64"
      ]
     },
     "execution_count": 8,
     "metadata": {},
     "output_type": "execute_result"
    }
   ],
   "source": [
    "df.isna().sum()"
   ]
  },
  {
   "cell_type": "code",
   "execution_count": 9,
   "id": "fd6bce65",
   "metadata": {
    "ExecuteTime": {
     "end_time": "2023-11-02T12:46:16.366286Z",
     "start_time": "2023-11-02T12:46:16.348717Z"
    }
   },
   "outputs": [
    {
     "data": {
      "text/plain": [
       "36457"
      ]
     },
     "execution_count": 9,
     "metadata": {},
     "output_type": "execute_result"
    }
   ],
   "source": [
    "df.id.nunique()"
   ]
  },
  {
   "cell_type": "code",
   "execution_count": 10,
   "id": "ab4133ce",
   "metadata": {
    "ExecuteTime": {
     "end_time": "2023-11-02T12:46:16.786791Z",
     "start_time": "2023-11-02T12:46:16.759454Z"
    }
   },
   "outputs": [
    {
     "data": {
      "text/plain": [
       "id\n",
       "5090630    61\n",
       "5148524    61\n",
       "5066707    61\n",
       "5061848    61\n",
       "5118380    61\n",
       "           ..\n",
       "5024557     1\n",
       "5062311     1\n",
       "5024365     1\n",
       "5024364     1\n",
       "5041568     1\n",
       "Name: count, Length: 36457, dtype: int64"
      ]
     },
     "execution_count": 10,
     "metadata": {},
     "output_type": "execute_result"
    }
   ],
   "source": [
    "df['id'].value_counts()"
   ]
  },
  {
   "cell_type": "code",
   "execution_count": 11,
   "id": "f2a397d0",
   "metadata": {
    "ExecuteTime": {
     "end_time": "2023-11-02T12:46:17.066312Z",
     "start_time": "2023-11-02T12:46:17.041037Z"
    }
   },
   "outputs": [
    {
     "data": {
      "text/html": [
       "<div>\n",
       "<style scoped>\n",
       "    .dataframe tbody tr th:only-of-type {\n",
       "        vertical-align: middle;\n",
       "    }\n",
       "\n",
       "    .dataframe tbody tr th {\n",
       "        vertical-align: top;\n",
       "    }\n",
       "\n",
       "    .dataframe thead th {\n",
       "        text-align: right;\n",
       "    }\n",
       "</style>\n",
       "<table border=\"1\" class=\"dataframe\">\n",
       "  <thead>\n",
       "    <tr style=\"text-align: right;\">\n",
       "      <th></th>\n",
       "      <th>id</th>\n",
       "      <th>code_gender</th>\n",
       "      <th>flag_own_car</th>\n",
       "      <th>flag_own_realty</th>\n",
       "      <th>cnt_children</th>\n",
       "      <th>amt_income_total</th>\n",
       "      <th>name_income_type</th>\n",
       "      <th>name_education_type</th>\n",
       "      <th>name_family_status</th>\n",
       "      <th>name_housing_type</th>\n",
       "      <th>days_birth</th>\n",
       "      <th>days_employed</th>\n",
       "      <th>flag_mobil</th>\n",
       "      <th>flag_work_phone</th>\n",
       "      <th>flag_phone</th>\n",
       "      <th>flag_email</th>\n",
       "      <th>occupation_type</th>\n",
       "      <th>cnt_fam_members</th>\n",
       "      <th>months_balance</th>\n",
       "      <th>status</th>\n",
       "    </tr>\n",
       "  </thead>\n",
       "  <tbody>\n",
       "    <tr>\n",
       "      <th>452126</th>\n",
       "      <td>5090630</td>\n",
       "      <td>F</td>\n",
       "      <td>N</td>\n",
       "      <td>Y</td>\n",
       "      <td>0</td>\n",
       "      <td>180000.0</td>\n",
       "      <td>Pensioner</td>\n",
       "      <td>Secondary / secondary special</td>\n",
       "      <td>Married</td>\n",
       "      <td>House / apartment</td>\n",
       "      <td>-19983</td>\n",
       "      <td>365243</td>\n",
       "      <td>1</td>\n",
       "      <td>0</td>\n",
       "      <td>0</td>\n",
       "      <td>1</td>\n",
       "      <td>NaN</td>\n",
       "      <td>2.0</td>\n",
       "      <td>0</td>\n",
       "      <td>X</td>\n",
       "    </tr>\n",
       "    <tr>\n",
       "      <th>452127</th>\n",
       "      <td>5090630</td>\n",
       "      <td>F</td>\n",
       "      <td>N</td>\n",
       "      <td>Y</td>\n",
       "      <td>0</td>\n",
       "      <td>180000.0</td>\n",
       "      <td>Pensioner</td>\n",
       "      <td>Secondary / secondary special</td>\n",
       "      <td>Married</td>\n",
       "      <td>House / apartment</td>\n",
       "      <td>-19983</td>\n",
       "      <td>365243</td>\n",
       "      <td>1</td>\n",
       "      <td>0</td>\n",
       "      <td>0</td>\n",
       "      <td>1</td>\n",
       "      <td>NaN</td>\n",
       "      <td>2.0</td>\n",
       "      <td>-1</td>\n",
       "      <td>X</td>\n",
       "    </tr>\n",
       "    <tr>\n",
       "      <th>452128</th>\n",
       "      <td>5090630</td>\n",
       "      <td>F</td>\n",
       "      <td>N</td>\n",
       "      <td>Y</td>\n",
       "      <td>0</td>\n",
       "      <td>180000.0</td>\n",
       "      <td>Pensioner</td>\n",
       "      <td>Secondary / secondary special</td>\n",
       "      <td>Married</td>\n",
       "      <td>House / apartment</td>\n",
       "      <td>-19983</td>\n",
       "      <td>365243</td>\n",
       "      <td>1</td>\n",
       "      <td>0</td>\n",
       "      <td>0</td>\n",
       "      <td>1</td>\n",
       "      <td>NaN</td>\n",
       "      <td>2.0</td>\n",
       "      <td>-2</td>\n",
       "      <td>X</td>\n",
       "    </tr>\n",
       "    <tr>\n",
       "      <th>452129</th>\n",
       "      <td>5090630</td>\n",
       "      <td>F</td>\n",
       "      <td>N</td>\n",
       "      <td>Y</td>\n",
       "      <td>0</td>\n",
       "      <td>180000.0</td>\n",
       "      <td>Pensioner</td>\n",
       "      <td>Secondary / secondary special</td>\n",
       "      <td>Married</td>\n",
       "      <td>House / apartment</td>\n",
       "      <td>-19983</td>\n",
       "      <td>365243</td>\n",
       "      <td>1</td>\n",
       "      <td>0</td>\n",
       "      <td>0</td>\n",
       "      <td>1</td>\n",
       "      <td>NaN</td>\n",
       "      <td>2.0</td>\n",
       "      <td>-3</td>\n",
       "      <td>X</td>\n",
       "    </tr>\n",
       "    <tr>\n",
       "      <th>452130</th>\n",
       "      <td>5090630</td>\n",
       "      <td>F</td>\n",
       "      <td>N</td>\n",
       "      <td>Y</td>\n",
       "      <td>0</td>\n",
       "      <td>180000.0</td>\n",
       "      <td>Pensioner</td>\n",
       "      <td>Secondary / secondary special</td>\n",
       "      <td>Married</td>\n",
       "      <td>House / apartment</td>\n",
       "      <td>-19983</td>\n",
       "      <td>365243</td>\n",
       "      <td>1</td>\n",
       "      <td>0</td>\n",
       "      <td>0</td>\n",
       "      <td>1</td>\n",
       "      <td>NaN</td>\n",
       "      <td>2.0</td>\n",
       "      <td>-4</td>\n",
       "      <td>X</td>\n",
       "    </tr>\n",
       "  </tbody>\n",
       "</table>\n",
       "</div>"
      ],
      "text/plain": [
       "             id code_gender flag_own_car flag_own_realty  cnt_children  \\\n",
       "452126  5090630           F            N               Y             0   \n",
       "452127  5090630           F            N               Y             0   \n",
       "452128  5090630           F            N               Y             0   \n",
       "452129  5090630           F            N               Y             0   \n",
       "452130  5090630           F            N               Y             0   \n",
       "\n",
       "        amt_income_total name_income_type            name_education_type  \\\n",
       "452126          180000.0        Pensioner  Secondary / secondary special   \n",
       "452127          180000.0        Pensioner  Secondary / secondary special   \n",
       "452128          180000.0        Pensioner  Secondary / secondary special   \n",
       "452129          180000.0        Pensioner  Secondary / secondary special   \n",
       "452130          180000.0        Pensioner  Secondary / secondary special   \n",
       "\n",
       "       name_family_status  name_housing_type  days_birth  days_employed  \\\n",
       "452126            Married  House / apartment      -19983         365243   \n",
       "452127            Married  House / apartment      -19983         365243   \n",
       "452128            Married  House / apartment      -19983         365243   \n",
       "452129            Married  House / apartment      -19983         365243   \n",
       "452130            Married  House / apartment      -19983         365243   \n",
       "\n",
       "        flag_mobil  flag_work_phone  flag_phone  flag_email occupation_type  \\\n",
       "452126           1                0           0           1             NaN   \n",
       "452127           1                0           0           1             NaN   \n",
       "452128           1                0           0           1             NaN   \n",
       "452129           1                0           0           1             NaN   \n",
       "452130           1                0           0           1             NaN   \n",
       "\n",
       "        cnt_fam_members  months_balance status  \n",
       "452126              2.0               0      X  \n",
       "452127              2.0              -1      X  \n",
       "452128              2.0              -2      X  \n",
       "452129              2.0              -3      X  \n",
       "452130              2.0              -4      X  "
      ]
     },
     "execution_count": 11,
     "metadata": {},
     "output_type": "execute_result"
    }
   ],
   "source": [
    "df[df['id'] == 5090630].head()"
   ]
  },
  {
   "cell_type": "code",
   "execution_count": 12,
   "id": "53c90489",
   "metadata": {
    "ExecuteTime": {
     "end_time": "2023-11-02T12:46:17.301228Z",
     "start_time": "2023-11-02T12:46:17.293242Z"
    }
   },
   "outputs": [
    {
     "data": {
      "text/plain": [
       "61"
      ]
     },
     "execution_count": 12,
     "metadata": {},
     "output_type": "execute_result"
    }
   ],
   "source": [
    "df[df['id'] == 5090630]['occupation_type'].isna().sum()"
   ]
  },
  {
   "cell_type": "code",
   "execution_count": 13,
   "id": "54d939da",
   "metadata": {
    "ExecuteTime": {
     "end_time": "2023-11-02T12:46:18.390834Z",
     "start_time": "2023-11-02T12:46:17.999900Z"
    }
   },
   "outputs": [
    {
     "name": "stdout",
     "output_type": "stream",
     "text": [
      "id :: [5008804 5008805 5008806 ... 5149838 5150049 5150337]\n",
      "code_gender :: ['M' 'F']\n",
      "flag_own_car :: ['Y' 'N']\n",
      "flag_own_realty :: ['Y' 'N']\n",
      "cnt_children :: [ 0  1  3  2  4  5 14 19  7]\n",
      "amt_income_total :: [ 427500.   112500.   270000.   283500.   135000.   130500.   157500.\n",
      "  405000.   211500.   360000.   126000.   315000.   247500.   297000.\n",
      "  225000.   166500.   216000.   255150.   148500.   202500.    94500.\n",
      "  450000.   180000.    90000.   765000.   382500.   144000.   229500.\n",
      "  292500.    74250.    40500.   337500.   193500.   267750.   139500.\n",
      "   67500.   252000.   900000.   115290.   279000.    76500.   234000.\n",
      "   81000.   108000.    99000.   198000.    45000.   238500.   117000.\n",
      "  153000.  1350000.   445500.   495000.    85500.   306000.   562500.\n",
      "  189000.   328500.   310500.   540000.   171000.   675000.   121500.\n",
      "   72000.    65250.   184500.   103500.   162000.   165150.    54000.\n",
      "  243000.   256500.    33300.   697500.   101250.    58500.   110250.\n",
      "  472500.   196650.   630000.   432000.   257625.   143100.   207000.\n",
      "  288000.   131400.   720000.   261000.    99900.    38250.   175500.\n",
      "   49500.    83250.   119250.    63000.   274500.    90900.   220500.\n",
      "   47250.   585000.   139050.    33750.   145350.   173250.   531000.\n",
      "  387000.  1125000.    36000.   179100.   206100.   265500.   118350.\n",
      "  123750.   116653.5  133650.   324000.   351000.   441000.   227250.\n",
      "   51750.   517500.   396000.   810000.   178650.   165600.    69750.\n",
      "   46948.5  616500.   378000.    89550.   234135.    42300.    74061.\n",
      "  175950.   168750.   391500.   177012.   364500.   661500.   240750.\n",
      "  333000.   342000.   167400.    50850.   141750.   176400.    30150.\n",
      "  155250.   414000.    52650.   115200.    67050.   120150.   373500.\n",
      "  146250.   213750.   121900.5  231750.   346500.   191250.   132372.\n",
      "  159750.   132750.    91530.    97731.   170302.5  265581.    73575.\n",
      "  184135.5  160200.   191700.   253800.    56700.   369000.   176175.\n",
      "  134419.5  190399.5  716323.5   31500.    57150.    78750.   236250.\n",
      "  208350.    38700.   222750.    72900.    56250.    62653.5  113400.\n",
      "   92250.   607500.   215550.    44550.   161100.   122400.    60376.5\n",
      "  254700.   787500.   140400.   185400.    31950.   129150.   612000.\n",
      "   47790.    69372.   134995.5  177750.   301500.   594000.   164250.\n",
      "   60750.    45900.   171261.   128542.5  178200.    73350.   124200.\n",
      "   82350.    38025.   360450.    39600.   634500.   459000.    87750.\n",
      "  945000.   463500.   742500.   151200.   560250.    89100.   204750.\n",
      "   36900.   187650.    32400.   147150.   119700.    27000.   990000.\n",
      "   61875.   355500.    79650.    37800.   140850.   195750.    29250.\n",
      "  423000.    87448.5  326250.    31531.5  105750.   468000.    97650.\n",
      "  114750.   418500.    95850.   652500.  1575000.    74700.    62100.\n",
      "  494100.   249750.   150750.   116100.   215100.   179271. ]\n",
      "name_income_type :: ['Working' 'Commercial associate' 'Pensioner' 'State servant' 'Student']\n",
      "name_education_type :: ['Higher education' 'Secondary / secondary special' 'Incomplete higher'\n",
      " 'Lower secondary' 'Academic degree']\n",
      "name_family_status :: ['Civil marriage' 'Married' 'Single / not married' 'Separated' 'Widow']\n",
      "name_housing_type :: ['Rented apartment' 'House / apartment' 'Municipal apartment'\n",
      " 'With parents' 'Co-op apartment' 'Office apartment']\n",
      "days_birth :: [-12005 -21474 -19110 ... -21590 -15837  -9188]\n",
      "days_employed :: [ -4542  -1134  -3051 ...  -8161   -606 -11272]\n",
      "flag_mobil :: [1]\n",
      "flag_work_phone :: [1 0]\n",
      "flag_phone :: [0 1]\n",
      "flag_email :: [0 1]\n",
      "occupation_type :: [nan 'Security staff' 'Sales staff' 'Accountants' 'Laborers' 'Managers'\n",
      " 'Drivers' 'Core staff' 'High skill tech staff' 'Cleaning staff'\n",
      " 'Private service staff' 'Cooking staff' 'Low-skill Laborers'\n",
      " 'Medicine staff' 'Secretaries' 'Waiters/barmen staff' 'HR staff'\n",
      " 'Realty agents' 'IT staff']\n",
      "cnt_fam_members :: [ 2.  1.  5.  3.  4.  6. 15.  7. 20.  9.]\n",
      "months_balance :: [  0  -1  -2  -3  -4  -5  -6  -7  -8  -9 -10 -11 -12 -13 -14 -15 -16 -17\n",
      " -18 -19 -20 -21 -22 -23 -24 -25 -26 -27 -28 -29 -30 -31 -32 -33 -34 -35\n",
      " -36 -37 -38 -39 -40 -41 -42 -43 -44 -45 -46 -47 -48 -49 -50 -51 -52 -53\n",
      " -54 -55 -56 -57 -58 -59 -60]\n",
      "status :: ['C' '1' '0' 'X' '5' '4' '3' '2']\n"
     ]
    }
   ],
   "source": [
    "for cols in df.columns:\n",
    "    print(f'{cols} :: {df[cols].unique()}')"
   ]
  },
  {
   "cell_type": "code",
   "execution_count": 14,
   "id": "ee9cba77",
   "metadata": {
    "ExecuteTime": {
     "end_time": "2023-11-02T12:46:19.193812Z",
     "start_time": "2023-11-02T12:46:18.590131Z"
    }
   },
   "outputs": [],
   "source": [
    "cols_with_2_unique_val = []\n",
    "\n",
    "for cols in df.columns:\n",
    "    if df[cols].nunique() == 2:\n",
    "        cols_with_2_unique_val.append(cols)\n",
    "        \n",
    "df1 = df.drop(columns = cols_with_2_unique_val)\n",
    "df2 = df[cols_with_2_unique_val]\n",
    "df2 = pd.get_dummies(df2)"
   ]
  },
  {
   "cell_type": "code",
   "execution_count": 15,
   "id": "422eb5ae",
   "metadata": {
    "ExecuteTime": {
     "end_time": "2023-11-02T12:46:19.759021Z",
     "start_time": "2023-11-02T12:46:19.743913Z"
    }
   },
   "outputs": [
    {
     "data": {
      "text/html": [
       "<div>\n",
       "<style scoped>\n",
       "    .dataframe tbody tr th:only-of-type {\n",
       "        vertical-align: middle;\n",
       "    }\n",
       "\n",
       "    .dataframe tbody tr th {\n",
       "        vertical-align: top;\n",
       "    }\n",
       "\n",
       "    .dataframe thead th {\n",
       "        text-align: right;\n",
       "    }\n",
       "</style>\n",
       "<table border=\"1\" class=\"dataframe\">\n",
       "  <thead>\n",
       "    <tr style=\"text-align: right;\">\n",
       "      <th></th>\n",
       "      <th>id</th>\n",
       "      <th>cnt_children</th>\n",
       "      <th>amt_income_total</th>\n",
       "      <th>name_income_type</th>\n",
       "      <th>name_education_type</th>\n",
       "      <th>name_family_status</th>\n",
       "      <th>name_housing_type</th>\n",
       "      <th>days_birth</th>\n",
       "      <th>days_employed</th>\n",
       "      <th>flag_mobil</th>\n",
       "      <th>occupation_type</th>\n",
       "      <th>cnt_fam_members</th>\n",
       "      <th>months_balance</th>\n",
       "      <th>status</th>\n",
       "    </tr>\n",
       "  </thead>\n",
       "  <tbody>\n",
       "    <tr>\n",
       "      <th>0</th>\n",
       "      <td>5008804</td>\n",
       "      <td>0</td>\n",
       "      <td>427500.0</td>\n",
       "      <td>Working</td>\n",
       "      <td>Higher education</td>\n",
       "      <td>Civil marriage</td>\n",
       "      <td>Rented apartment</td>\n",
       "      <td>-12005</td>\n",
       "      <td>-4542</td>\n",
       "      <td>1</td>\n",
       "      <td>NaN</td>\n",
       "      <td>2.0</td>\n",
       "      <td>0</td>\n",
       "      <td>C</td>\n",
       "    </tr>\n",
       "    <tr>\n",
       "      <th>1</th>\n",
       "      <td>5008804</td>\n",
       "      <td>0</td>\n",
       "      <td>427500.0</td>\n",
       "      <td>Working</td>\n",
       "      <td>Higher education</td>\n",
       "      <td>Civil marriage</td>\n",
       "      <td>Rented apartment</td>\n",
       "      <td>-12005</td>\n",
       "      <td>-4542</td>\n",
       "      <td>1</td>\n",
       "      <td>NaN</td>\n",
       "      <td>2.0</td>\n",
       "      <td>-1</td>\n",
       "      <td>C</td>\n",
       "    </tr>\n",
       "    <tr>\n",
       "      <th>2</th>\n",
       "      <td>5008804</td>\n",
       "      <td>0</td>\n",
       "      <td>427500.0</td>\n",
       "      <td>Working</td>\n",
       "      <td>Higher education</td>\n",
       "      <td>Civil marriage</td>\n",
       "      <td>Rented apartment</td>\n",
       "      <td>-12005</td>\n",
       "      <td>-4542</td>\n",
       "      <td>1</td>\n",
       "      <td>NaN</td>\n",
       "      <td>2.0</td>\n",
       "      <td>-2</td>\n",
       "      <td>C</td>\n",
       "    </tr>\n",
       "    <tr>\n",
       "      <th>3</th>\n",
       "      <td>5008804</td>\n",
       "      <td>0</td>\n",
       "      <td>427500.0</td>\n",
       "      <td>Working</td>\n",
       "      <td>Higher education</td>\n",
       "      <td>Civil marriage</td>\n",
       "      <td>Rented apartment</td>\n",
       "      <td>-12005</td>\n",
       "      <td>-4542</td>\n",
       "      <td>1</td>\n",
       "      <td>NaN</td>\n",
       "      <td>2.0</td>\n",
       "      <td>-3</td>\n",
       "      <td>C</td>\n",
       "    </tr>\n",
       "    <tr>\n",
       "      <th>4</th>\n",
       "      <td>5008804</td>\n",
       "      <td>0</td>\n",
       "      <td>427500.0</td>\n",
       "      <td>Working</td>\n",
       "      <td>Higher education</td>\n",
       "      <td>Civil marriage</td>\n",
       "      <td>Rented apartment</td>\n",
       "      <td>-12005</td>\n",
       "      <td>-4542</td>\n",
       "      <td>1</td>\n",
       "      <td>NaN</td>\n",
       "      <td>2.0</td>\n",
       "      <td>-4</td>\n",
       "      <td>C</td>\n",
       "    </tr>\n",
       "  </tbody>\n",
       "</table>\n",
       "</div>"
      ],
      "text/plain": [
       "        id  cnt_children  amt_income_total name_income_type  \\\n",
       "0  5008804             0          427500.0          Working   \n",
       "1  5008804             0          427500.0          Working   \n",
       "2  5008804             0          427500.0          Working   \n",
       "3  5008804             0          427500.0          Working   \n",
       "4  5008804             0          427500.0          Working   \n",
       "\n",
       "  name_education_type name_family_status name_housing_type  days_birth  \\\n",
       "0    Higher education     Civil marriage  Rented apartment      -12005   \n",
       "1    Higher education     Civil marriage  Rented apartment      -12005   \n",
       "2    Higher education     Civil marriage  Rented apartment      -12005   \n",
       "3    Higher education     Civil marriage  Rented apartment      -12005   \n",
       "4    Higher education     Civil marriage  Rented apartment      -12005   \n",
       "\n",
       "   days_employed  flag_mobil occupation_type  cnt_fam_members  months_balance  \\\n",
       "0          -4542           1             NaN              2.0               0   \n",
       "1          -4542           1             NaN              2.0              -1   \n",
       "2          -4542           1             NaN              2.0              -2   \n",
       "3          -4542           1             NaN              2.0              -3   \n",
       "4          -4542           1             NaN              2.0              -4   \n",
       "\n",
       "  status  \n",
       "0      C  \n",
       "1      C  \n",
       "2      C  \n",
       "3      C  \n",
       "4      C  "
      ]
     },
     "execution_count": 15,
     "metadata": {},
     "output_type": "execute_result"
    }
   ],
   "source": [
    "df1.head()"
   ]
  },
  {
   "cell_type": "code",
   "execution_count": 16,
   "id": "c4bc31dc",
   "metadata": {
    "ExecuteTime": {
     "end_time": "2023-11-02T12:46:20.229616Z",
     "start_time": "2023-11-02T12:46:20.222050Z"
    }
   },
   "outputs": [
    {
     "data": {
      "text/plain": [
       "Index(['id', 'cnt_children', 'amt_income_total', 'name_income_type',\n",
       "       'name_education_type', 'name_family_status', 'name_housing_type',\n",
       "       'days_birth', 'days_employed', 'flag_mobil', 'occupation_type',\n",
       "       'cnt_fam_members', 'months_balance', 'status'],\n",
       "      dtype='object')"
      ]
     },
     "execution_count": 16,
     "metadata": {},
     "output_type": "execute_result"
    }
   ],
   "source": [
    "df1.columns"
   ]
  },
  {
   "cell_type": "markdown",
   "id": "6ca3285b",
   "metadata": {},
   "source": [
    "    days_birth days_employed"
   ]
  },
  {
   "cell_type": "code",
   "execution_count": 17,
   "id": "54a6aa49",
   "metadata": {
    "ExecuteTime": {
     "end_time": "2023-11-02T12:46:20.886391Z",
     "start_time": "2023-11-02T12:46:20.869259Z"
    }
   },
   "outputs": [
    {
     "data": {
      "text/plain": [
       "count    777715.000000\n",
       "mean     -16124.937046\n",
       "std        4104.304018\n",
       "min      -25152.000000\n",
       "25%      -19453.000000\n",
       "50%      -15760.000000\n",
       "75%      -12716.000000\n",
       "max       -7489.000000\n",
       "Name: days_birth, dtype: float64"
      ]
     },
     "execution_count": 17,
     "metadata": {},
     "output_type": "execute_result"
    }
   ],
   "source": [
    "df1.days_birth.describe()"
   ]
  },
  {
   "cell_type": "code",
   "execution_count": 18,
   "id": "40ab705d",
   "metadata": {
    "ExecuteTime": {
     "end_time": "2023-11-02T12:46:21.107142Z",
     "start_time": "2023-11-02T12:46:21.085773Z"
    }
   },
   "outputs": [
    {
     "data": {
      "text/plain": [
       "count    777715.000000\n",
       "mean      57775.825016\n",
       "std      136471.735391\n",
       "min      -15713.000000\n",
       "25%       -3292.000000\n",
       "50%       -1682.000000\n",
       "75%        -431.000000\n",
       "max      365243.000000\n",
       "Name: days_employed, dtype: float64"
      ]
     },
     "execution_count": 18,
     "metadata": {},
     "output_type": "execute_result"
    }
   ],
   "source": [
    "df1.days_employed.describe()"
   ]
  },
  {
   "cell_type": "code",
   "execution_count": 19,
   "id": "a2d6681f",
   "metadata": {
    "ExecuteTime": {
     "end_time": "2023-11-02T12:46:21.369148Z",
     "start_time": "2023-11-02T12:46:21.343147Z"
    }
   },
   "outputs": [],
   "source": [
    "df1['days_birth'] = round((abs(df1['days_birth'])/365),2)\n",
    "df1['days_employed'] = round((abs(df1['days_employed'])/365),2)"
   ]
  },
  {
   "cell_type": "code",
   "execution_count": 20,
   "id": "86cbed26",
   "metadata": {
    "ExecuteTime": {
     "end_time": "2023-11-02T12:46:25.330999Z",
     "start_time": "2023-11-02T12:46:21.545198Z"
    }
   },
   "outputs": [
    {
     "data": {
      "image/png": "[encoded data removed]",
      "text/plain": [
       "<Figure size 640x480 with 1 Axes>"
      ]
     },
     "metadata": {},
     "output_type": "display_data"
    }
   ],
   "source": [
    "sns.kdeplot(df1['days_birth'])\n",
    "plt.show()"
   ]
  },
  {
   "cell_type": "code",
   "execution_count": 21,
   "id": "c1b3ac86",
   "metadata": {
    "ExecuteTime": {
     "end_time": "2023-11-02T12:46:35.782453Z",
     "start_time": "2023-11-02T12:46:32.006037Z"
    }
   },
   "outputs": [
    {
     "data": {
      "image/png": "[encoded data removed]",
      "text/plain": [
       "<Figure size 640x480 with 1 Axes>"
      ]
     },
     "metadata": {},
     "output_type": "display_data"
    }
   ],
   "source": [
    "sns.kdeplot(df1['days_employed'])\n",
    "plt.show()"
   ]
  },
  {
   "cell_type": "code",
   "execution_count": 22,
   "id": "052fc3f5",
   "metadata": {
    "ExecuteTime": {
     "end_time": "2023-11-02T12:46:37.518101Z",
     "start_time": "2023-11-02T12:46:37.511926Z"
    }
   },
   "outputs": [],
   "source": [
    "df1.loc[df1.days_employed > 44,'days_employed'] = 0"
   ]
  },
  {
   "cell_type": "code",
   "execution_count": 23,
   "id": "e7ebab38",
   "metadata": {
    "ExecuteTime": {
     "end_time": "2023-11-02T12:46:38.603360Z",
     "start_time": "2023-11-02T12:46:38.552758Z"
    }
   },
   "outputs": [
    {
     "data": {
      "text/plain": [
       "array(['Working', 'Commercial associate', 'Pensioner', 'State servant',\n",
       "       'Student'], dtype=object)"
      ]
     },
     "execution_count": 23,
     "metadata": {},
     "output_type": "execute_result"
    }
   ],
   "source": [
    "df1['name_income_type'].unique()"
   ]
  },
  {
   "cell_type": "code",
   "execution_count": 24,
   "id": "4980315b",
   "metadata": {
    "ExecuteTime": {
     "end_time": "2023-11-02T12:46:39.051467Z",
     "start_time": "2023-11-02T12:46:38.998752Z"
    }
   },
   "outputs": [
    {
     "data": {
      "text/plain": [
       "name_income_type\n",
       "Commercial associate    220143.080666\n",
       "Pensioner               147600.830870\n",
       "State servant           202292.128841\n",
       "Student                 164537.091988\n",
       "Working                 184953.668583\n",
       "Name: amt_income_total, dtype: float64"
      ]
     },
     "execution_count": 24,
     "metadata": {},
     "output_type": "execute_result"
    }
   ],
   "source": [
    "df1.groupby('name_income_type').amt_income_total.mean()"
   ]
  },
  {
   "cell_type": "code",
   "execution_count": 25,
   "id": "e419bea3",
   "metadata": {
    "ExecuteTime": {
     "end_time": "2023-11-02T12:46:40.131598Z",
     "start_time": "2023-11-02T12:46:39.901837Z"
    }
   },
   "outputs": [],
   "source": [
    "def name_income(x):\n",
    "    if x == 'Commercial associate':\n",
    "        return 5\n",
    "    elif x == 'State servant':\n",
    "        return 4\n",
    "    elif x == 'Working':\n",
    "        return 3\n",
    "    elif x == 'Student':\n",
    "        return 2\n",
    "    elif x == 'Pensioner':\n",
    "        return 1\n",
    "    \n",
    "df1['name_income_type'] = df1['name_income_type'].apply(name_income)"
   ]
  },
  {
   "cell_type": "code",
   "execution_count": 26,
   "id": "e8499f68",
   "metadata": {
    "ExecuteTime": {
     "end_time": "2023-11-02T12:46:41.131341Z",
     "start_time": "2023-11-02T12:46:41.071562Z"
    }
   },
   "outputs": [
    {
     "data": {
      "text/plain": [
       "array(['Higher education', 'Secondary / secondary special',\n",
       "       'Incomplete higher', 'Lower secondary', 'Academic degree'],\n",
       "      dtype=object)"
      ]
     },
     "execution_count": 26,
     "metadata": {},
     "output_type": "execute_result"
    }
   ],
   "source": [
    "df1['name_education_type'].unique()"
   ]
  },
  {
   "cell_type": "code",
   "execution_count": 27,
   "id": "c22a6459",
   "metadata": {
    "ExecuteTime": {
     "end_time": "2023-11-02T12:46:42.260926Z",
     "start_time": "2023-11-02T12:46:42.160040Z"
    }
   },
   "outputs": [
    {
     "data": {
      "text/html": [
       "<div>\n",
       "<style scoped>\n",
       "    .dataframe tbody tr th:only-of-type {\n",
       "        vertical-align: middle;\n",
       "    }\n",
       "\n",
       "    .dataframe tbody tr th {\n",
       "        vertical-align: top;\n",
       "    }\n",
       "\n",
       "    .dataframe thead th {\n",
       "        text-align: right;\n",
       "    }\n",
       "</style>\n",
       "<table border=\"1\" class=\"dataframe\">\n",
       "  <thead>\n",
       "    <tr style=\"text-align: right;\">\n",
       "      <th></th>\n",
       "      <th>name_income_type</th>\n",
       "      <th>name_education_type</th>\n",
       "      <th>amt_income_total</th>\n",
       "    </tr>\n",
       "  </thead>\n",
       "  <tbody>\n",
       "    <tr>\n",
       "      <th>0</th>\n",
       "      <td>1</td>\n",
       "      <td>Academic degree</td>\n",
       "      <td>450000.000000</td>\n",
       "    </tr>\n",
       "    <tr>\n",
       "      <th>1</th>\n",
       "      <td>1</td>\n",
       "      <td>Higher education</td>\n",
       "      <td>171270.500179</td>\n",
       "    </tr>\n",
       "    <tr>\n",
       "      <th>2</th>\n",
       "      <td>1</td>\n",
       "      <td>Incomplete higher</td>\n",
       "      <td>152610.198183</td>\n",
       "    </tr>\n",
       "    <tr>\n",
       "      <th>3</th>\n",
       "      <td>1</td>\n",
       "      <td>Lower secondary</td>\n",
       "      <td>99041.652249</td>\n",
       "    </tr>\n",
       "    <tr>\n",
       "      <th>4</th>\n",
       "      <td>1</td>\n",
       "      <td>Secondary / secondary special</td>\n",
       "      <td>143939.231202</td>\n",
       "    </tr>\n",
       "    <tr>\n",
       "      <th>5</th>\n",
       "      <td>2</td>\n",
       "      <td>Higher education</td>\n",
       "      <td>169252.427184</td>\n",
       "    </tr>\n",
       "    <tr>\n",
       "      <th>6</th>\n",
       "      <td>2</td>\n",
       "      <td>Secondary / secondary special</td>\n",
       "      <td>112500.000000</td>\n",
       "    </tr>\n",
       "    <tr>\n",
       "      <th>7</th>\n",
       "      <td>3</td>\n",
       "      <td>Academic degree</td>\n",
       "      <td>224941.558442</td>\n",
       "    </tr>\n",
       "    <tr>\n",
       "      <th>8</th>\n",
       "      <td>3</td>\n",
       "      <td>Higher education</td>\n",
       "      <td>213867.331120</td>\n",
       "    </tr>\n",
       "    <tr>\n",
       "      <th>9</th>\n",
       "      <td>3</td>\n",
       "      <td>Incomplete higher</td>\n",
       "      <td>204096.409918</td>\n",
       "    </tr>\n",
       "    <tr>\n",
       "      <th>10</th>\n",
       "      <td>3</td>\n",
       "      <td>Lower secondary</td>\n",
       "      <td>177082.208738</td>\n",
       "    </tr>\n",
       "    <tr>\n",
       "      <th>11</th>\n",
       "      <td>3</td>\n",
       "      <td>Secondary / secondary special</td>\n",
       "      <td>173809.552359</td>\n",
       "    </tr>\n",
       "    <tr>\n",
       "      <th>12</th>\n",
       "      <td>4</td>\n",
       "      <td>Higher education</td>\n",
       "      <td>233386.889033</td>\n",
       "    </tr>\n",
       "    <tr>\n",
       "      <th>13</th>\n",
       "      <td>4</td>\n",
       "      <td>Incomplete higher</td>\n",
       "      <td>183583.757520</td>\n",
       "    </tr>\n",
       "    <tr>\n",
       "      <th>14</th>\n",
       "      <td>4</td>\n",
       "      <td>Lower secondary</td>\n",
       "      <td>136466.772152</td>\n",
       "    </tr>\n",
       "    <tr>\n",
       "      <th>15</th>\n",
       "      <td>4</td>\n",
       "      <td>Secondary / secondary special</td>\n",
       "      <td>179418.689536</td>\n",
       "    </tr>\n",
       "    <tr>\n",
       "      <th>16</th>\n",
       "      <td>5</td>\n",
       "      <td>Academic degree</td>\n",
       "      <td>256261.520737</td>\n",
       "    </tr>\n",
       "    <tr>\n",
       "      <th>17</th>\n",
       "      <td>5</td>\n",
       "      <td>Higher education</td>\n",
       "      <td>259477.203419</td>\n",
       "    </tr>\n",
       "    <tr>\n",
       "      <th>18</th>\n",
       "      <td>5</td>\n",
       "      <td>Incomplete higher</td>\n",
       "      <td>210043.834951</td>\n",
       "    </tr>\n",
       "    <tr>\n",
       "      <th>19</th>\n",
       "      <td>5</td>\n",
       "      <td>Lower secondary</td>\n",
       "      <td>164067.243675</td>\n",
       "    </tr>\n",
       "    <tr>\n",
       "      <th>20</th>\n",
       "      <td>5</td>\n",
       "      <td>Secondary / secondary special</td>\n",
       "      <td>197278.406675</td>\n",
       "    </tr>\n",
       "  </tbody>\n",
       "</table>\n",
       "</div>"
      ],
      "text/plain": [
       "    name_income_type            name_education_type  amt_income_total\n",
       "0                  1                Academic degree     450000.000000\n",
       "1                  1               Higher education     171270.500179\n",
       "2                  1              Incomplete higher     152610.198183\n",
       "3                  1                Lower secondary      99041.652249\n",
       "4                  1  Secondary / secondary special     143939.231202\n",
       "5                  2               Higher education     169252.427184\n",
       "6                  2  Secondary / secondary special     112500.000000\n",
       "7                  3                Academic degree     224941.558442\n",
       "8                  3               Higher education     213867.331120\n",
       "9                  3              Incomplete higher     204096.409918\n",
       "10                 3                Lower secondary     177082.208738\n",
       "11                 3  Secondary / secondary special     173809.552359\n",
       "12                 4               Higher education     233386.889033\n",
       "13                 4              Incomplete higher     183583.757520\n",
       "14                 4                Lower secondary     136466.772152\n",
       "15                 4  Secondary / secondary special     179418.689536\n",
       "16                 5                Academic degree     256261.520737\n",
       "17                 5               Higher education     259477.203419\n",
       "18                 5              Incomplete higher     210043.834951\n",
       "19                 5                Lower secondary     164067.243675\n",
       "20                 5  Secondary / secondary special     197278.406675"
      ]
     },
     "execution_count": 27,
     "metadata": {},
     "output_type": "execute_result"
    }
   ],
   "source": [
    "new = pd.DataFrame()\n",
    "new = df1.groupby(['name_income_type','name_education_type']).amt_income_total.mean().reset_index()\n",
    "new"
   ]
  },
  {
   "cell_type": "code",
   "execution_count": 28,
   "id": "07e13dd2",
   "metadata": {
    "ExecuteTime": {
     "end_time": "2023-11-02T12:46:43.883409Z",
     "start_time": "2023-11-02T12:46:43.872047Z"
    }
   },
   "outputs": [
    {
     "data": {
      "text/html": [
       "<div>\n",
       "<style scoped>\n",
       "    .dataframe tbody tr th:only-of-type {\n",
       "        vertical-align: middle;\n",
       "    }\n",
       "\n",
       "    .dataframe tbody tr th {\n",
       "        vertical-align: top;\n",
       "    }\n",
       "\n",
       "    .dataframe thead th {\n",
       "        text-align: right;\n",
       "    }\n",
       "</style>\n",
       "<table border=\"1\" class=\"dataframe\">\n",
       "  <thead>\n",
       "    <tr style=\"text-align: right;\">\n",
       "      <th></th>\n",
       "      <th>name_income_type</th>\n",
       "      <th>name_education_type</th>\n",
       "      <th>amt_income_total</th>\n",
       "      <th>order</th>\n",
       "    </tr>\n",
       "  </thead>\n",
       "  <tbody>\n",
       "    <tr>\n",
       "      <th>3</th>\n",
       "      <td>1</td>\n",
       "      <td>Lower secondary</td>\n",
       "      <td>99041.652249</td>\n",
       "      <td>1</td>\n",
       "    </tr>\n",
       "    <tr>\n",
       "      <th>6</th>\n",
       "      <td>2</td>\n",
       "      <td>Secondary / secondary special</td>\n",
       "      <td>112500.000000</td>\n",
       "      <td>2</td>\n",
       "    </tr>\n",
       "    <tr>\n",
       "      <th>14</th>\n",
       "      <td>4</td>\n",
       "      <td>Lower secondary</td>\n",
       "      <td>136466.772152</td>\n",
       "      <td>3</td>\n",
       "    </tr>\n",
       "    <tr>\n",
       "      <th>4</th>\n",
       "      <td>1</td>\n",
       "      <td>Secondary / secondary special</td>\n",
       "      <td>143939.231202</td>\n",
       "      <td>4</td>\n",
       "    </tr>\n",
       "    <tr>\n",
       "      <th>2</th>\n",
       "      <td>1</td>\n",
       "      <td>Incomplete higher</td>\n",
       "      <td>152610.198183</td>\n",
       "      <td>5</td>\n",
       "    </tr>\n",
       "    <tr>\n",
       "      <th>19</th>\n",
       "      <td>5</td>\n",
       "      <td>Lower secondary</td>\n",
       "      <td>164067.243675</td>\n",
       "      <td>6</td>\n",
       "    </tr>\n",
       "    <tr>\n",
       "      <th>5</th>\n",
       "      <td>2</td>\n",
       "      <td>Higher education</td>\n",
       "      <td>169252.427184</td>\n",
       "      <td>7</td>\n",
       "    </tr>\n",
       "    <tr>\n",
       "      <th>1</th>\n",
       "      <td>1</td>\n",
       "      <td>Higher education</td>\n",
       "      <td>171270.500179</td>\n",
       "      <td>8</td>\n",
       "    </tr>\n",
       "    <tr>\n",
       "      <th>11</th>\n",
       "      <td>3</td>\n",
       "      <td>Secondary / secondary special</td>\n",
       "      <td>173809.552359</td>\n",
       "      <td>9</td>\n",
       "    </tr>\n",
       "    <tr>\n",
       "      <th>10</th>\n",
       "      <td>3</td>\n",
       "      <td>Lower secondary</td>\n",
       "      <td>177082.208738</td>\n",
       "      <td>10</td>\n",
       "    </tr>\n",
       "    <tr>\n",
       "      <th>15</th>\n",
       "      <td>4</td>\n",
       "      <td>Secondary / secondary special</td>\n",
       "      <td>179418.689536</td>\n",
       "      <td>11</td>\n",
       "    </tr>\n",
       "    <tr>\n",
       "      <th>13</th>\n",
       "      <td>4</td>\n",
       "      <td>Incomplete higher</td>\n",
       "      <td>183583.757520</td>\n",
       "      <td>12</td>\n",
       "    </tr>\n",
       "    <tr>\n",
       "      <th>20</th>\n",
       "      <td>5</td>\n",
       "      <td>Secondary / secondary special</td>\n",
       "      <td>197278.406675</td>\n",
       "      <td>13</td>\n",
       "    </tr>\n",
       "    <tr>\n",
       "      <th>9</th>\n",
       "      <td>3</td>\n",
       "      <td>Incomplete higher</td>\n",
       "      <td>204096.409918</td>\n",
       "      <td>14</td>\n",
       "    </tr>\n",
       "    <tr>\n",
       "      <th>18</th>\n",
       "      <td>5</td>\n",
       "      <td>Incomplete higher</td>\n",
       "      <td>210043.834951</td>\n",
       "      <td>15</td>\n",
       "    </tr>\n",
       "    <tr>\n",
       "      <th>8</th>\n",
       "      <td>3</td>\n",
       "      <td>Higher education</td>\n",
       "      <td>213867.331120</td>\n",
       "      <td>16</td>\n",
       "    </tr>\n",
       "    <tr>\n",
       "      <th>7</th>\n",
       "      <td>3</td>\n",
       "      <td>Academic degree</td>\n",
       "      <td>224941.558442</td>\n",
       "      <td>17</td>\n",
       "    </tr>\n",
       "    <tr>\n",
       "      <th>12</th>\n",
       "      <td>4</td>\n",
       "      <td>Higher education</td>\n",
       "      <td>233386.889033</td>\n",
       "      <td>18</td>\n",
       "    </tr>\n",
       "    <tr>\n",
       "      <th>16</th>\n",
       "      <td>5</td>\n",
       "      <td>Academic degree</td>\n",
       "      <td>256261.520737</td>\n",
       "      <td>19</td>\n",
       "    </tr>\n",
       "    <tr>\n",
       "      <th>17</th>\n",
       "      <td>5</td>\n",
       "      <td>Higher education</td>\n",
       "      <td>259477.203419</td>\n",
       "      <td>20</td>\n",
       "    </tr>\n",
       "    <tr>\n",
       "      <th>0</th>\n",
       "      <td>1</td>\n",
       "      <td>Academic degree</td>\n",
       "      <td>450000.000000</td>\n",
       "      <td>21</td>\n",
       "    </tr>\n",
       "  </tbody>\n",
       "</table>\n",
       "</div>"
      ],
      "text/plain": [
       "    name_income_type            name_education_type  amt_income_total  order\n",
       "3                  1                Lower secondary      99041.652249      1\n",
       "6                  2  Secondary / secondary special     112500.000000      2\n",
       "14                 4                Lower secondary     136466.772152      3\n",
       "4                  1  Secondary / secondary special     143939.231202      4\n",
       "2                  1              Incomplete higher     152610.198183      5\n",
       "19                 5                Lower secondary     164067.243675      6\n",
       "5                  2               Higher education     169252.427184      7\n",
       "1                  1               Higher education     171270.500179      8\n",
       "11                 3  Secondary / secondary special     173809.552359      9\n",
       "10                 3                Lower secondary     177082.208738     10\n",
       "15                 4  Secondary / secondary special     179418.689536     11\n",
       "13                 4              Incomplete higher     183583.757520     12\n",
       "20                 5  Secondary / secondary special     197278.406675     13\n",
       "9                  3              Incomplete higher     204096.409918     14\n",
       "18                 5              Incomplete higher     210043.834951     15\n",
       "8                  3               Higher education     213867.331120     16\n",
       "7                  3                Academic degree     224941.558442     17\n",
       "12                 4               Higher education     233386.889033     18\n",
       "16                 5                Academic degree     256261.520737     19\n",
       "17                 5               Higher education     259477.203419     20\n",
       "0                  1                Academic degree     450000.000000     21"
      ]
     },
     "execution_count": 28,
     "metadata": {},
     "output_type": "execute_result"
    }
   ],
   "source": [
    "new = new.sort_values('amt_income_total')\n",
    "new['order'] = [x for x in range(1,new.shape[0]+1)]\n",
    "new"
   ]
  },
  {
   "cell_type": "code",
   "execution_count": 29,
   "id": "74cdeeb7",
   "metadata": {
    "ExecuteTime": {
     "end_time": "2023-11-02T12:46:44.547443Z",
     "start_time": "2023-11-02T12:46:44.543969Z"
    }
   },
   "outputs": [],
   "source": [
    "new.drop(columns = ['amt_income_total'], inplace = True)"
   ]
  },
  {
   "cell_type": "code",
   "execution_count": 30,
   "id": "56c86017",
   "metadata": {
    "ExecuteTime": {
     "end_time": "2023-11-02T12:46:46.936031Z",
     "start_time": "2023-11-02T12:46:46.607224Z"
    }
   },
   "outputs": [],
   "source": [
    "df3 = df1.copy()\n",
    "\n",
    "df3 = pd.merge(new, df3, on = ['name_income_type', 'name_education_type'], how = 'inner')"
   ]
  },
  {
   "cell_type": "code",
   "execution_count": 31,
   "id": "34f5985b",
   "metadata": {
    "ExecuteTime": {
     "end_time": "2023-11-02T12:46:49.063608Z",
     "start_time": "2023-11-02T12:46:49.006101Z"
    }
   },
   "outputs": [
    {
     "data": {
      "text/plain": [
       "array(['Rented apartment', 'House / apartment', 'Municipal apartment',\n",
       "       'With parents', 'Co-op apartment', 'Office apartment'],\n",
       "      dtype=object)"
      ]
     },
     "execution_count": 31,
     "metadata": {},
     "output_type": "execute_result"
    }
   ],
   "source": [
    "df['name_housing_type'].unique()"
   ]
  },
  {
   "cell_type": "code",
   "execution_count": 32,
   "id": "b49effe9",
   "metadata": {
    "ExecuteTime": {
     "end_time": "2023-11-02T12:46:51.227080Z",
     "start_time": "2023-11-02T12:46:51.005616Z"
    }
   },
   "outputs": [],
   "source": [
    "def name_housing(x):\n",
    "    if x == 'Rented apartment':\n",
    "        return 1\n",
    "    elif x == 'House / apartment':\n",
    "        return 6\n",
    "    elif x == 'Municipal apartment':\n",
    "        return 1\n",
    "    elif x == 'With parents':\n",
    "        return 5\n",
    "    elif x == 'Co-op apartment':\n",
    "        return 1\n",
    "    elif x == 'Office apartment':\n",
    "        return 5\n",
    "    \n",
    "df3['name_housing_type'] = df3['name_housing_type'].apply(name_housing)"
   ]
  },
  {
   "cell_type": "code",
   "execution_count": 33,
   "id": "0e968bd4",
   "metadata": {
    "ExecuteTime": {
     "end_time": "2023-11-02T12:46:54.277791Z",
     "start_time": "2023-11-02T12:46:54.238181Z"
    },
    "scrolled": true
   },
   "outputs": [
    {
     "data": {
      "text/plain": [
       "array(['Married', 'Civil marriage', 'Single / not married', 'Widow',\n",
       "       'Separated'], dtype=object)"
      ]
     },
     "execution_count": 33,
     "metadata": {},
     "output_type": "execute_result"
    }
   ],
   "source": [
    "df3['name_family_status'].unique()"
   ]
  },
  {
   "cell_type": "code",
   "execution_count": 34,
   "id": "04047bec",
   "metadata": {
    "ExecuteTime": {
     "end_time": "2023-11-02T12:46:56.052974Z",
     "start_time": "2023-11-02T12:46:55.998801Z"
    }
   },
   "outputs": [
    {
     "data": {
      "text/plain": [
       "name_family_status\n",
       "Civil marriage          180838.356220\n",
       "Married                 189276.531145\n",
       "Separated               194441.448823\n",
       "Single / not married    192433.081937\n",
       "Widow                   170049.569214\n",
       "Name: amt_income_total, dtype: float64"
      ]
     },
     "execution_count": 34,
     "metadata": {},
     "output_type": "execute_result"
    }
   ],
   "source": [
    "df3.groupby('name_family_status').amt_income_total.mean()"
   ]
  },
  {
   "cell_type": "code",
   "execution_count": 35,
   "id": "c29b8d0b",
   "metadata": {
    "ExecuteTime": {
     "end_time": "2023-11-02T12:46:58.132713Z",
     "start_time": "2023-11-02T12:46:57.904037Z"
    }
   },
   "outputs": [],
   "source": [
    "def name_family(x):\n",
    "    if x == 'Separated':\n",
    "        return 5\n",
    "    elif x == 'Single / not married':\n",
    "        return 4\n",
    "    elif x == 'Married':\n",
    "        return 3\n",
    "    elif x == 'Civil marriage':\n",
    "        return 2\n",
    "    elif x == 'Widow':\n",
    "        return 1\n",
    "    \n",
    "df3['name_family_status'] = df3['name_family_status'].apply(name_family)"
   ]
  },
  {
   "cell_type": "code",
   "execution_count": 36,
   "id": "4f05afa5",
   "metadata": {
    "ExecuteTime": {
     "end_time": "2023-11-02T12:46:59.581627Z",
     "start_time": "2023-11-02T12:46:59.519094Z"
    }
   },
   "outputs": [],
   "source": [
    "df_occ = df3.groupby('occupation_type').amt_income_total.agg(['mean','count','std']).reset_index()\n",
    "df_occ = df_occ.sort_values('count', ascending = False)"
   ]
  },
  {
   "cell_type": "code",
   "execution_count": 37,
   "id": "9a274542",
   "metadata": {
    "ExecuteTime": {
     "end_time": "2023-11-02T12:47:00.850722Z",
     "start_time": "2023-11-02T12:47:00.839606Z"
    }
   },
   "outputs": [
    {
     "data": {
      "text/html": [
       "<div>\n",
       "<style scoped>\n",
       "    .dataframe tbody tr th:only-of-type {\n",
       "        vertical-align: middle;\n",
       "    }\n",
       "\n",
       "    .dataframe tbody tr th {\n",
       "        vertical-align: top;\n",
       "    }\n",
       "\n",
       "    .dataframe thead th {\n",
       "        text-align: right;\n",
       "    }\n",
       "</style>\n",
       "<table border=\"1\" class=\"dataframe\">\n",
       "  <thead>\n",
       "    <tr style=\"text-align: right;\">\n",
       "      <th></th>\n",
       "      <th>occupation_type</th>\n",
       "      <th>mean</th>\n",
       "      <th>count</th>\n",
       "      <th>std</th>\n",
       "      <th>SE</th>\n",
       "    </tr>\n",
       "  </thead>\n",
       "  <tbody>\n",
       "    <tr>\n",
       "      <th>8</th>\n",
       "      <td>Laborers</td>\n",
       "      <td>181708.198933</td>\n",
       "      <td>131572</td>\n",
       "      <td>75051.141797</td>\n",
       "      <td>206.907182</td>\n",
       "    </tr>\n",
       "    <tr>\n",
       "      <th>3</th>\n",
       "      <td>Core staff</td>\n",
       "      <td>191917.622899</td>\n",
       "      <td>77112</td>\n",
       "      <td>99916.338784</td>\n",
       "      <td>359.811905</td>\n",
       "    </tr>\n",
       "    <tr>\n",
       "      <th>14</th>\n",
       "      <td>Sales staff</td>\n",
       "      <td>174878.410271</td>\n",
       "      <td>70362</td>\n",
       "      <td>85175.760127</td>\n",
       "      <td>321.104898</td>\n",
       "    </tr>\n",
       "    <tr>\n",
       "      <th>10</th>\n",
       "      <td>Managers</td>\n",
       "      <td>281713.995985</td>\n",
       "      <td>67738</td>\n",
       "      <td>157525.557489</td>\n",
       "      <td>605.250059</td>\n",
       "    </tr>\n",
       "    <tr>\n",
       "      <th>4</th>\n",
       "      <td>Drivers</td>\n",
       "      <td>208968.926968</td>\n",
       "      <td>47678</td>\n",
       "      <td>85034.588613</td>\n",
       "      <td>389.436452</td>\n",
       "    </tr>\n",
       "    <tr>\n",
       "      <th>6</th>\n",
       "      <td>High skill tech staff</td>\n",
       "      <td>197953.892282</td>\n",
       "      <td>31768</td>\n",
       "      <td>95162.304853</td>\n",
       "      <td>533.912410</td>\n",
       "    </tr>\n",
       "    <tr>\n",
       "      <th>0</th>\n",
       "      <td>Accountants</td>\n",
       "      <td>207761.509661</td>\n",
       "      <td>27223</td>\n",
       "      <td>106968.915457</td>\n",
       "      <td>648.320271</td>\n",
       "    </tr>\n",
       "    <tr>\n",
       "      <th>11</th>\n",
       "      <td>Medicine staff</td>\n",
       "      <td>167347.387546</td>\n",
       "      <td>26691</td>\n",
       "      <td>77380.226951</td>\n",
       "      <td>473.639132</td>\n",
       "    </tr>\n",
       "    <tr>\n",
       "      <th>2</th>\n",
       "      <td>Cooking staff</td>\n",
       "      <td>144189.411896</td>\n",
       "      <td>13416</td>\n",
       "      <td>66338.321743</td>\n",
       "      <td>572.733987</td>\n",
       "    </tr>\n",
       "    <tr>\n",
       "      <th>16</th>\n",
       "      <td>Security staff</td>\n",
       "      <td>177341.370968</td>\n",
       "      <td>12400</td>\n",
       "      <td>92622.741690</td>\n",
       "      <td>831.776775</td>\n",
       "    </tr>\n",
       "    <tr>\n",
       "      <th>1</th>\n",
       "      <td>Cleaning staff</td>\n",
       "      <td>149095.947013</td>\n",
       "      <td>11399</td>\n",
       "      <td>62926.462792</td>\n",
       "      <td>589.386173</td>\n",
       "    </tr>\n",
       "    <tr>\n",
       "      <th>12</th>\n",
       "      <td>Private service staff</td>\n",
       "      <td>205473.190349</td>\n",
       "      <td>6714</td>\n",
       "      <td>84652.262888</td>\n",
       "      <td>1033.113183</td>\n",
       "    </tr>\n",
       "    <tr>\n",
       "      <th>9</th>\n",
       "      <td>Low-skill Laborers</td>\n",
       "      <td>127543.886282</td>\n",
       "      <td>3623</td>\n",
       "      <td>53901.581228</td>\n",
       "      <td>895.503605</td>\n",
       "    </tr>\n",
       "    <tr>\n",
       "      <th>15</th>\n",
       "      <td>Secretaries</td>\n",
       "      <td>163206.097174</td>\n",
       "      <td>3149</td>\n",
       "      <td>69735.740170</td>\n",
       "      <td>1242.707972</td>\n",
       "    </tr>\n",
       "    <tr>\n",
       "      <th>17</th>\n",
       "      <td>Waiters/barmen staff</td>\n",
       "      <td>153756.746187</td>\n",
       "      <td>2557</td>\n",
       "      <td>63910.528337</td>\n",
       "      <td>1263.883499</td>\n",
       "    </tr>\n",
       "    <tr>\n",
       "      <th>5</th>\n",
       "      <td>HR staff</td>\n",
       "      <td>196705.516014</td>\n",
       "      <td>1686</td>\n",
       "      <td>126011.611115</td>\n",
       "      <td>3068.893230</td>\n",
       "    </tr>\n",
       "    <tr>\n",
       "      <th>7</th>\n",
       "      <td>IT staff</td>\n",
       "      <td>223593.707354</td>\n",
       "      <td>1319</td>\n",
       "      <td>105357.555736</td>\n",
       "      <td>2900.970342</td>\n",
       "    </tr>\n",
       "    <tr>\n",
       "      <th>13</th>\n",
       "      <td>Realty agents</td>\n",
       "      <td>243075.000000</td>\n",
       "      <td>1260</td>\n",
       "      <td>53480.521069</td>\n",
       "      <td>1506.642998</td>\n",
       "    </tr>\n",
       "  </tbody>\n",
       "</table>\n",
       "</div>"
      ],
      "text/plain": [
       "          occupation_type           mean   count            std           SE\n",
       "8                Laborers  181708.198933  131572   75051.141797   206.907182\n",
       "3              Core staff  191917.622899   77112   99916.338784   359.811905\n",
       "14            Sales staff  174878.410271   70362   85175.760127   321.104898\n",
       "10               Managers  281713.995985   67738  157525.557489   605.250059\n",
       "4                 Drivers  208968.926968   47678   85034.588613   389.436452\n",
       "6   High skill tech staff  197953.892282   31768   95162.304853   533.912410\n",
       "0             Accountants  207761.509661   27223  106968.915457   648.320271\n",
       "11         Medicine staff  167347.387546   26691   77380.226951   473.639132\n",
       "2           Cooking staff  144189.411896   13416   66338.321743   572.733987\n",
       "16         Security staff  177341.370968   12400   92622.741690   831.776775\n",
       "1          Cleaning staff  149095.947013   11399   62926.462792   589.386173\n",
       "12  Private service staff  205473.190349    6714   84652.262888  1033.113183\n",
       "9      Low-skill Laborers  127543.886282    3623   53901.581228   895.503605\n",
       "15            Secretaries  163206.097174    3149   69735.740170  1242.707972\n",
       "17   Waiters/barmen staff  153756.746187    2557   63910.528337  1263.883499\n",
       "5                HR staff  196705.516014    1686  126011.611115  3068.893230\n",
       "7                IT staff  223593.707354    1319  105357.555736  2900.970342\n",
       "13          Realty agents  243075.000000    1260   53480.521069  1506.642998"
      ]
     },
     "execution_count": 37,
     "metadata": {},
     "output_type": "execute_result"
    }
   ],
   "source": [
    "df_occ['SE'] = df_occ['std']/np.sqrt(df_occ['count'])\n",
    "df_occ"
   ]
  },
  {
   "cell_type": "code",
   "execution_count": 38,
   "id": "73ad023b",
   "metadata": {
    "ExecuteTime": {
     "end_time": "2023-11-02T12:47:01.900584Z",
     "start_time": "2023-11-02T12:47:01.895371Z"
    }
   },
   "outputs": [],
   "source": [
    "df_occ['lower_lmt'] = df_occ['mean'] - (1.96*df_occ['SE'])\n",
    "df_occ['upper_lmt'] = df_occ['mean'] + (1.96*df_occ['SE'])"
   ]
  },
  {
   "cell_type": "code",
   "execution_count": 39,
   "id": "6145d5e9",
   "metadata": {
    "ExecuteTime": {
     "end_time": "2023-11-02T12:47:05.718570Z",
     "start_time": "2023-11-02T12:47:05.247909Z"
    }
   },
   "outputs": [],
   "source": [
    "for i, j, k in zip(df_occ.occupation_type, df_occ.lower_lmt, df_occ.upper_lmt):\n",
    "    df3.loc[(df3['occupation_type'].isna())|((df3['amt_income_total'] >= j)&(df3['amt_income_total'] <= k)), 'occupation_type'] = i"
   ]
  },
  {
   "cell_type": "code",
   "execution_count": 40,
   "id": "3bfc3ea6",
   "metadata": {
    "ExecuteTime": {
     "end_time": "2023-11-02T12:47:06.772602Z",
     "start_time": "2023-11-02T12:47:06.688146Z"
    }
   },
   "outputs": [
    {
     "data": {
      "text/plain": [
       "name_income_type       0\n",
       "name_education_type    0\n",
       "order                  0\n",
       "id                     0\n",
       "cnt_children           0\n",
       "amt_income_total       0\n",
       "name_family_status     0\n",
       "name_housing_type      0\n",
       "days_birth             0\n",
       "days_employed          0\n",
       "flag_mobil             0\n",
       "occupation_type        0\n",
       "cnt_fam_members        0\n",
       "months_balance         0\n",
       "status                 0\n",
       "dtype: int64"
      ]
     },
     "execution_count": 40,
     "metadata": {},
     "output_type": "execute_result"
    }
   ],
   "source": [
    "df3.isna().sum()"
   ]
  },
  {
   "cell_type": "code",
   "execution_count": 41,
   "id": "4129c777",
   "metadata": {
    "ExecuteTime": {
     "end_time": "2023-11-02T12:47:09.660153Z",
     "start_time": "2023-11-02T12:47:09.541571Z"
    }
   },
   "outputs": [],
   "source": [
    "df3.drop('name_education_type', axis = 1, inplace=True)\n",
    "df3 = df3.rename(columns={'order': 'order_name_education_type'})"
   ]
  },
  {
   "cell_type": "code",
   "execution_count": 42,
   "id": "1625bcd9",
   "metadata": {
    "ExecuteTime": {
     "end_time": "2023-11-02T12:47:11.888902Z",
     "start_time": "2023-11-02T12:47:11.840185Z"
    }
   },
   "outputs": [],
   "source": [
    "df3.drop('flag_mobil', axis = 1, inplace=True)"
   ]
  },
  {
   "cell_type": "code",
   "execution_count": 43,
   "id": "5cb7f955",
   "metadata": {
    "ExecuteTime": {
     "end_time": "2023-11-02T12:47:12.387360Z",
     "start_time": "2023-11-02T12:47:12.384383Z"
    }
   },
   "outputs": [],
   "source": [
    "df_occ.sort_values('mean', inplace=True)"
   ]
  },
  {
   "cell_type": "code",
   "execution_count": 44,
   "id": "7809a68e",
   "metadata": {
    "ExecuteTime": {
     "end_time": "2023-11-02T12:47:13.491335Z",
     "start_time": "2023-11-02T12:47:13.478733Z"
    }
   },
   "outputs": [
    {
     "data": {
      "text/html": [
       "<div>\n",
       "<style scoped>\n",
       "    .dataframe tbody tr th:only-of-type {\n",
       "        vertical-align: middle;\n",
       "    }\n",
       "\n",
       "    .dataframe tbody tr th {\n",
       "        vertical-align: top;\n",
       "    }\n",
       "\n",
       "    .dataframe thead th {\n",
       "        text-align: right;\n",
       "    }\n",
       "</style>\n",
       "<table border=\"1\" class=\"dataframe\">\n",
       "  <thead>\n",
       "    <tr style=\"text-align: right;\">\n",
       "      <th></th>\n",
       "      <th>occupation_type</th>\n",
       "      <th>mean</th>\n",
       "      <th>count</th>\n",
       "      <th>std</th>\n",
       "      <th>SE</th>\n",
       "      <th>lower_lmt</th>\n",
       "      <th>upper_lmt</th>\n",
       "      <th>occupation_type_code</th>\n",
       "    </tr>\n",
       "  </thead>\n",
       "  <tbody>\n",
       "    <tr>\n",
       "      <th>9</th>\n",
       "      <td>Low-skill Laborers</td>\n",
       "      <td>127543.886282</td>\n",
       "      <td>3623</td>\n",
       "      <td>53901.581228</td>\n",
       "      <td>895.503605</td>\n",
       "      <td>125788.699216</td>\n",
       "      <td>129299.073348</td>\n",
       "      <td>1</td>\n",
       "    </tr>\n",
       "    <tr>\n",
       "      <th>2</th>\n",
       "      <td>Cooking staff</td>\n",
       "      <td>144189.411896</td>\n",
       "      <td>13416</td>\n",
       "      <td>66338.321743</td>\n",
       "      <td>572.733987</td>\n",
       "      <td>143066.853282</td>\n",
       "      <td>145311.970511</td>\n",
       "      <td>2</td>\n",
       "    </tr>\n",
       "    <tr>\n",
       "      <th>1</th>\n",
       "      <td>Cleaning staff</td>\n",
       "      <td>149095.947013</td>\n",
       "      <td>11399</td>\n",
       "      <td>62926.462792</td>\n",
       "      <td>589.386173</td>\n",
       "      <td>147940.750114</td>\n",
       "      <td>150251.143912</td>\n",
       "      <td>3</td>\n",
       "    </tr>\n",
       "    <tr>\n",
       "      <th>17</th>\n",
       "      <td>Waiters/barmen staff</td>\n",
       "      <td>153756.746187</td>\n",
       "      <td>2557</td>\n",
       "      <td>63910.528337</td>\n",
       "      <td>1263.883499</td>\n",
       "      <td>151279.534529</td>\n",
       "      <td>156233.957845</td>\n",
       "      <td>4</td>\n",
       "    </tr>\n",
       "    <tr>\n",
       "      <th>15</th>\n",
       "      <td>Secretaries</td>\n",
       "      <td>163206.097174</td>\n",
       "      <td>3149</td>\n",
       "      <td>69735.740170</td>\n",
       "      <td>1242.707972</td>\n",
       "      <td>160770.389548</td>\n",
       "      <td>165641.804800</td>\n",
       "      <td>5</td>\n",
       "    </tr>\n",
       "    <tr>\n",
       "      <th>11</th>\n",
       "      <td>Medicine staff</td>\n",
       "      <td>167347.387546</td>\n",
       "      <td>26691</td>\n",
       "      <td>77380.226951</td>\n",
       "      <td>473.639132</td>\n",
       "      <td>166419.054848</td>\n",
       "      <td>168275.720245</td>\n",
       "      <td>6</td>\n",
       "    </tr>\n",
       "    <tr>\n",
       "      <th>14</th>\n",
       "      <td>Sales staff</td>\n",
       "      <td>174878.410271</td>\n",
       "      <td>70362</td>\n",
       "      <td>85175.760127</td>\n",
       "      <td>321.104898</td>\n",
       "      <td>174249.044671</td>\n",
       "      <td>175507.775871</td>\n",
       "      <td>7</td>\n",
       "    </tr>\n",
       "    <tr>\n",
       "      <th>16</th>\n",
       "      <td>Security staff</td>\n",
       "      <td>177341.370968</td>\n",
       "      <td>12400</td>\n",
       "      <td>92622.741690</td>\n",
       "      <td>831.776775</td>\n",
       "      <td>175711.088489</td>\n",
       "      <td>178971.653446</td>\n",
       "      <td>8</td>\n",
       "    </tr>\n",
       "    <tr>\n",
       "      <th>8</th>\n",
       "      <td>Laborers</td>\n",
       "      <td>181708.198933</td>\n",
       "      <td>131572</td>\n",
       "      <td>75051.141797</td>\n",
       "      <td>206.907182</td>\n",
       "      <td>181302.660856</td>\n",
       "      <td>182113.737009</td>\n",
       "      <td>9</td>\n",
       "    </tr>\n",
       "    <tr>\n",
       "      <th>3</th>\n",
       "      <td>Core staff</td>\n",
       "      <td>191917.622899</td>\n",
       "      <td>77112</td>\n",
       "      <td>99916.338784</td>\n",
       "      <td>359.811905</td>\n",
       "      <td>191212.391566</td>\n",
       "      <td>192622.854232</td>\n",
       "      <td>10</td>\n",
       "    </tr>\n",
       "    <tr>\n",
       "      <th>5</th>\n",
       "      <td>HR staff</td>\n",
       "      <td>196705.516014</td>\n",
       "      <td>1686</td>\n",
       "      <td>126011.611115</td>\n",
       "      <td>3068.893230</td>\n",
       "      <td>190690.485284</td>\n",
       "      <td>202720.546745</td>\n",
       "      <td>11</td>\n",
       "    </tr>\n",
       "    <tr>\n",
       "      <th>6</th>\n",
       "      <td>High skill tech staff</td>\n",
       "      <td>197953.892282</td>\n",
       "      <td>31768</td>\n",
       "      <td>95162.304853</td>\n",
       "      <td>533.912410</td>\n",
       "      <td>196907.423959</td>\n",
       "      <td>199000.360604</td>\n",
       "      <td>12</td>\n",
       "    </tr>\n",
       "    <tr>\n",
       "      <th>12</th>\n",
       "      <td>Private service staff</td>\n",
       "      <td>205473.190349</td>\n",
       "      <td>6714</td>\n",
       "      <td>84652.262888</td>\n",
       "      <td>1033.113183</td>\n",
       "      <td>203448.288509</td>\n",
       "      <td>207498.092188</td>\n",
       "      <td>13</td>\n",
       "    </tr>\n",
       "    <tr>\n",
       "      <th>0</th>\n",
       "      <td>Accountants</td>\n",
       "      <td>207761.509661</td>\n",
       "      <td>27223</td>\n",
       "      <td>106968.915457</td>\n",
       "      <td>648.320271</td>\n",
       "      <td>206490.801929</td>\n",
       "      <td>209032.217392</td>\n",
       "      <td>14</td>\n",
       "    </tr>\n",
       "    <tr>\n",
       "      <th>4</th>\n",
       "      <td>Drivers</td>\n",
       "      <td>208968.926968</td>\n",
       "      <td>47678</td>\n",
       "      <td>85034.588613</td>\n",
       "      <td>389.436452</td>\n",
       "      <td>208205.631522</td>\n",
       "      <td>209732.222415</td>\n",
       "      <td>15</td>\n",
       "    </tr>\n",
       "    <tr>\n",
       "      <th>7</th>\n",
       "      <td>IT staff</td>\n",
       "      <td>223593.707354</td>\n",
       "      <td>1319</td>\n",
       "      <td>105357.555736</td>\n",
       "      <td>2900.970342</td>\n",
       "      <td>217907.805484</td>\n",
       "      <td>229279.609224</td>\n",
       "      <td>16</td>\n",
       "    </tr>\n",
       "    <tr>\n",
       "      <th>13</th>\n",
       "      <td>Realty agents</td>\n",
       "      <td>243075.000000</td>\n",
       "      <td>1260</td>\n",
       "      <td>53480.521069</td>\n",
       "      <td>1506.642998</td>\n",
       "      <td>240121.979725</td>\n",
       "      <td>246028.020275</td>\n",
       "      <td>17</td>\n",
       "    </tr>\n",
       "    <tr>\n",
       "      <th>10</th>\n",
       "      <td>Managers</td>\n",
       "      <td>281713.995985</td>\n",
       "      <td>67738</td>\n",
       "      <td>157525.557489</td>\n",
       "      <td>605.250059</td>\n",
       "      <td>280527.705869</td>\n",
       "      <td>282900.286100</td>\n",
       "      <td>18</td>\n",
       "    </tr>\n",
       "  </tbody>\n",
       "</table>\n",
       "</div>"
      ],
      "text/plain": [
       "          occupation_type           mean   count            std           SE  \\\n",
       "9      Low-skill Laborers  127543.886282    3623   53901.581228   895.503605   \n",
       "2           Cooking staff  144189.411896   13416   66338.321743   572.733987   \n",
       "1          Cleaning staff  149095.947013   11399   62926.462792   589.386173   \n",
       "17   Waiters/barmen staff  153756.746187    2557   63910.528337  1263.883499   \n",
       "15            Secretaries  163206.097174    3149   69735.740170  1242.707972   \n",
       "11         Medicine staff  167347.387546   26691   77380.226951   473.639132   \n",
       "14            Sales staff  174878.410271   70362   85175.760127   321.104898   \n",
       "16         Security staff  177341.370968   12400   92622.741690   831.776775   \n",
       "8                Laborers  181708.198933  131572   75051.141797   206.907182   \n",
       "3              Core staff  191917.622899   77112   99916.338784   359.811905   \n",
       "5                HR staff  196705.516014    1686  126011.611115  3068.893230   \n",
       "6   High skill tech staff  197953.892282   31768   95162.304853   533.912410   \n",
       "12  Private service staff  205473.190349    6714   84652.262888  1033.113183   \n",
       "0             Accountants  207761.509661   27223  106968.915457   648.320271   \n",
       "4                 Drivers  208968.926968   47678   85034.588613   389.436452   \n",
       "7                IT staff  223593.707354    1319  105357.555736  2900.970342   \n",
       "13          Realty agents  243075.000000    1260   53480.521069  1506.642998   \n",
       "10               Managers  281713.995985   67738  157525.557489   605.250059   \n",
       "\n",
       "        lower_lmt      upper_lmt  occupation_type_code  \n",
       "9   125788.699216  129299.073348                     1  \n",
       "2   143066.853282  145311.970511                     2  \n",
       "1   147940.750114  150251.143912                     3  \n",
       "17  151279.534529  156233.957845                     4  \n",
       "15  160770.389548  165641.804800                     5  \n",
       "11  166419.054848  168275.720245                     6  \n",
       "14  174249.044671  175507.775871                     7  \n",
       "16  175711.088489  178971.653446                     8  \n",
       "8   181302.660856  182113.737009                     9  \n",
       "3   191212.391566  192622.854232                    10  \n",
       "5   190690.485284  202720.546745                    11  \n",
       "6   196907.423959  199000.360604                    12  \n",
       "12  203448.288509  207498.092188                    13  \n",
       "0   206490.801929  209032.217392                    14  \n",
       "4   208205.631522  209732.222415                    15  \n",
       "7   217907.805484  229279.609224                    16  \n",
       "13  240121.979725  246028.020275                    17  \n",
       "10  280527.705869  282900.286100                    18  "
      ]
     },
     "execution_count": 44,
     "metadata": {},
     "output_type": "execute_result"
    }
   ],
   "source": [
    "df_occ['occupation_type_code'] = [i for i in range(1, df_occ.shape[0]+1)]\n",
    "df_occ"
   ]
  },
  {
   "cell_type": "code",
   "execution_count": 45,
   "id": "14f6f9d6",
   "metadata": {
    "ExecuteTime": {
     "end_time": "2023-11-02T12:47:14.599584Z",
     "start_time": "2023-11-02T12:47:14.567591Z"
    }
   },
   "outputs": [],
   "source": [
    "final_df = pd.concat([df3, df2], axis = 1)"
   ]
  },
  {
   "cell_type": "code",
   "execution_count": 46,
   "id": "f1886349",
   "metadata": {
    "ExecuteTime": {
     "end_time": "2023-11-02T12:47:15.800885Z",
     "start_time": "2023-11-02T12:47:15.623624Z"
    }
   },
   "outputs": [],
   "source": [
    "final_df = pd.merge(final_df,df_occ[['occupation_type', 'occupation_type_code']],on = 'occupation_type', how = 'inner')"
   ]
  },
  {
   "cell_type": "code",
   "execution_count": 47,
   "id": "77afea9f",
   "metadata": {
    "ExecuteTime": {
     "end_time": "2023-11-02T12:47:16.478042Z",
     "start_time": "2023-11-02T12:47:16.412716Z"
    }
   },
   "outputs": [],
   "source": [
    "final_df.drop('occupation_type', axis = 1, inplace=True)"
   ]
  },
  {
   "cell_type": "code",
   "execution_count": 48,
   "id": "86194ced",
   "metadata": {
    "ExecuteTime": {
     "end_time": "2023-11-02T12:47:17.640668Z",
     "start_time": "2023-11-02T12:47:17.248122Z"
    }
   },
   "outputs": [],
   "source": [
    "from sklearn.preprocessing import *\n",
    "from sklearn.cluster import KMeans"
   ]
  },
  {
   "cell_type": "code",
   "execution_count": 49,
   "id": "0b4d8966",
   "metadata": {
    "ExecuteTime": {
     "end_time": "2023-11-02T12:47:18.020984Z",
     "start_time": "2023-11-02T12:47:17.973665Z"
    }
   },
   "outputs": [
    {
     "data": {
      "text/plain": [
       "name_income_type             0\n",
       "order_name_education_type    0\n",
       "id                           0\n",
       "cnt_children                 0\n",
       "amt_income_total             0\n",
       "name_family_status           0\n",
       "name_housing_type            0\n",
       "days_birth                   0\n",
       "days_employed                0\n",
       "cnt_fam_members              0\n",
       "months_balance               0\n",
       "status                       0\n",
       "flag_work_phone              0\n",
       "flag_phone                   0\n",
       "flag_email                   0\n",
       "code_gender_F                0\n",
       "code_gender_M                0\n",
       "flag_own_car_N               0\n",
       "flag_own_car_Y               0\n",
       "flag_own_realty_N            0\n",
       "flag_own_realty_Y            0\n",
       "occupation_type_code         0\n",
       "dtype: int64"
      ]
     },
     "execution_count": 49,
     "metadata": {},
     "output_type": "execute_result"
    }
   ],
   "source": [
    "final_df.isna().sum()"
   ]
  },
  {
   "cell_type": "code",
   "execution_count": 50,
   "id": "00a366a6",
   "metadata": {
    "ExecuteTime": {
     "end_time": "2023-11-02T12:47:20.527473Z",
     "start_time": "2023-11-02T12:47:20.472177Z"
    }
   },
   "outputs": [],
   "source": [
    "X1 = final_df.drop(['id','status'], axis = 1)\n",
    "y1 = final_df[['status']]"
   ]
  },
  {
   "cell_type": "code",
   "execution_count": 51,
   "id": "2e5615b6",
   "metadata": {
    "ExecuteTime": {
     "end_time": "2023-11-02T12:47:21.527373Z",
     "start_time": "2023-11-02T12:47:21.032161Z"
    }
   },
   "outputs": [],
   "source": [
    "scaler = MinMaxScaler()\n",
    "scaler.fit(X1)\n",
    "scaled_df = scaler.transform(X1)"
   ]
  },
  {
   "cell_type": "code",
   "execution_count": 52,
   "id": "8fe07cd2",
   "metadata": {
    "ExecuteTime": {
     "end_time": "2023-11-02T12:47:37.057699Z",
     "start_time": "2023-11-02T12:47:22.384136Z"
    }
   },
   "outputs": [],
   "source": [
    "import warnings\n",
    "import matplotlib.pyplot as plt\n",
    "\n",
    "\n",
    "wcss = []\n",
    "\n",
    "for i in (range(1, 6)):\n",
    "    warnings.filterwarnings('ignore')\n",
    "    kmean_model = KMeans(n_clusters = i)\n",
    "    kmean_model.fit(scaled_df)\n",
    "    wcss.append(kmean_model.inertia_)"
   ]
  },
  {
   "cell_type": "code",
   "execution_count": 54,
   "id": "33eba45d",
   "metadata": {
    "ExecuteTime": {
     "end_time": "2023-11-02T12:47:58.194292Z",
     "start_time": "2023-11-02T12:47:58.063158Z"
    }
   },
   "outputs": [
    {
     "data": {
      "image/png": "[encoded data removed]",
      "text/plain": [
       "<Figure size 1000x500 with 1 Axes>"
      ]
     },
     "metadata": {},
     "output_type": "display_data"
    }
   ],
   "source": [
    "plt.figure(figsize=(10,5))\n",
    "plt.plot(range(1,6,1), wcss,color = 'blue', marker = '*')\n",
    "plt.title('ELBOW METHOD')\n",
    "plt.xticks(range(1, 6))  # Setting x-axis ticks\n",
    "plt.show()"
   ]
  },
  {
   "cell_type": "code",
   "execution_count": 55,
   "id": "88c1480f",
   "metadata": {
    "ExecuteTime": {
     "end_time": "2023-11-02T12:49:49.781862Z",
     "start_time": "2023-11-02T12:49:47.408108Z"
    }
   },
   "outputs": [],
   "source": [
    "km = KMeans(n_clusters=2)\n",
    "km.fit(scaled_df)\n",
    "\n",
    "final_df['cluster_label'] = km.labels_"
   ]
  },
  {
   "cell_type": "code",
   "execution_count": 56,
   "id": "ef6b54f2",
   "metadata": {
    "ExecuteTime": {
     "end_time": "2023-11-02T12:49:58.031001Z",
     "start_time": "2023-11-02T12:49:58.015473Z"
    }
   },
   "outputs": [
    {
     "data": {
      "text/html": [
       "<div>\n",
       "<style scoped>\n",
       "    .dataframe tbody tr th:only-of-type {\n",
       "        vertical-align: middle;\n",
       "    }\n",
       "\n",
       "    .dataframe tbody tr th {\n",
       "        vertical-align: top;\n",
       "    }\n",
       "\n",
       "    .dataframe thead th {\n",
       "        text-align: right;\n",
       "    }\n",
       "</style>\n",
       "<table border=\"1\" class=\"dataframe\">\n",
       "  <thead>\n",
       "    <tr style=\"text-align: right;\">\n",
       "      <th></th>\n",
       "      <th>name_income_type</th>\n",
       "      <th>order_name_education_type</th>\n",
       "      <th>id</th>\n",
       "      <th>cnt_children</th>\n",
       "      <th>amt_income_total</th>\n",
       "      <th>name_family_status</th>\n",
       "      <th>name_housing_type</th>\n",
       "      <th>days_birth</th>\n",
       "      <th>days_employed</th>\n",
       "      <th>cnt_fam_members</th>\n",
       "      <th>...</th>\n",
       "      <th>flag_phone</th>\n",
       "      <th>flag_email</th>\n",
       "      <th>code_gender_F</th>\n",
       "      <th>code_gender_M</th>\n",
       "      <th>flag_own_car_N</th>\n",
       "      <th>flag_own_car_Y</th>\n",
       "      <th>flag_own_realty_N</th>\n",
       "      <th>flag_own_realty_Y</th>\n",
       "      <th>occupation_type_code</th>\n",
       "      <th>cluster_label</th>\n",
       "    </tr>\n",
       "  </thead>\n",
       "  <tbody>\n",
       "    <tr>\n",
       "      <th>0</th>\n",
       "      <td>1</td>\n",
       "      <td>1</td>\n",
       "      <td>5010848</td>\n",
       "      <td>0</td>\n",
       "      <td>54000.0</td>\n",
       "      <td>3</td>\n",
       "      <td>6</td>\n",
       "      <td>61.03</td>\n",
       "      <td>0.0</td>\n",
       "      <td>2.0</td>\n",
       "      <td>...</td>\n",
       "      <td>0</td>\n",
       "      <td>0</td>\n",
       "      <td>False</td>\n",
       "      <td>True</td>\n",
       "      <td>False</td>\n",
       "      <td>True</td>\n",
       "      <td>False</td>\n",
       "      <td>True</td>\n",
       "      <td>9</td>\n",
       "      <td>0</td>\n",
       "    </tr>\n",
       "    <tr>\n",
       "      <th>1</th>\n",
       "      <td>1</td>\n",
       "      <td>1</td>\n",
       "      <td>5010848</td>\n",
       "      <td>0</td>\n",
       "      <td>54000.0</td>\n",
       "      <td>3</td>\n",
       "      <td>6</td>\n",
       "      <td>61.03</td>\n",
       "      <td>0.0</td>\n",
       "      <td>2.0</td>\n",
       "      <td>...</td>\n",
       "      <td>0</td>\n",
       "      <td>0</td>\n",
       "      <td>False</td>\n",
       "      <td>True</td>\n",
       "      <td>False</td>\n",
       "      <td>True</td>\n",
       "      <td>False</td>\n",
       "      <td>True</td>\n",
       "      <td>9</td>\n",
       "      <td>0</td>\n",
       "    </tr>\n",
       "    <tr>\n",
       "      <th>2</th>\n",
       "      <td>1</td>\n",
       "      <td>1</td>\n",
       "      <td>5010848</td>\n",
       "      <td>0</td>\n",
       "      <td>54000.0</td>\n",
       "      <td>3</td>\n",
       "      <td>6</td>\n",
       "      <td>61.03</td>\n",
       "      <td>0.0</td>\n",
       "      <td>2.0</td>\n",
       "      <td>...</td>\n",
       "      <td>0</td>\n",
       "      <td>0</td>\n",
       "      <td>False</td>\n",
       "      <td>True</td>\n",
       "      <td>False</td>\n",
       "      <td>True</td>\n",
       "      <td>False</td>\n",
       "      <td>True</td>\n",
       "      <td>9</td>\n",
       "      <td>0</td>\n",
       "    </tr>\n",
       "    <tr>\n",
       "      <th>3</th>\n",
       "      <td>1</td>\n",
       "      <td>1</td>\n",
       "      <td>5010848</td>\n",
       "      <td>0</td>\n",
       "      <td>54000.0</td>\n",
       "      <td>3</td>\n",
       "      <td>6</td>\n",
       "      <td>61.03</td>\n",
       "      <td>0.0</td>\n",
       "      <td>2.0</td>\n",
       "      <td>...</td>\n",
       "      <td>0</td>\n",
       "      <td>0</td>\n",
       "      <td>False</td>\n",
       "      <td>True</td>\n",
       "      <td>False</td>\n",
       "      <td>True</td>\n",
       "      <td>False</td>\n",
       "      <td>True</td>\n",
       "      <td>9</td>\n",
       "      <td>0</td>\n",
       "    </tr>\n",
       "    <tr>\n",
       "      <th>4</th>\n",
       "      <td>1</td>\n",
       "      <td>1</td>\n",
       "      <td>5010848</td>\n",
       "      <td>0</td>\n",
       "      <td>54000.0</td>\n",
       "      <td>3</td>\n",
       "      <td>6</td>\n",
       "      <td>61.03</td>\n",
       "      <td>0.0</td>\n",
       "      <td>2.0</td>\n",
       "      <td>...</td>\n",
       "      <td>0</td>\n",
       "      <td>0</td>\n",
       "      <td>False</td>\n",
       "      <td>True</td>\n",
       "      <td>False</td>\n",
       "      <td>True</td>\n",
       "      <td>False</td>\n",
       "      <td>True</td>\n",
       "      <td>9</td>\n",
       "      <td>0</td>\n",
       "    </tr>\n",
       "  </tbody>\n",
       "</table>\n",
       "<p>5 rows × 23 columns</p>\n",
       "</div>"
      ],
      "text/plain": [
       "   name_income_type  order_name_education_type       id  cnt_children  \\\n",
       "0                 1                          1  5010848             0   \n",
       "1                 1                          1  5010848             0   \n",
       "2                 1                          1  5010848             0   \n",
       "3                 1                          1  5010848             0   \n",
       "4                 1                          1  5010848             0   \n",
       "\n",
       "   amt_income_total  name_family_status  name_housing_type  days_birth  \\\n",
       "0           54000.0                   3                  6       61.03   \n",
       "1           54000.0                   3                  6       61.03   \n",
       "2           54000.0                   3                  6       61.03   \n",
       "3           54000.0                   3                  6       61.03   \n",
       "4           54000.0                   3                  6       61.03   \n",
       "\n",
       "   days_employed  cnt_fam_members  ...  flag_phone flag_email  code_gender_F  \\\n",
       "0            0.0              2.0  ...           0          0          False   \n",
       "1            0.0              2.0  ...           0          0          False   \n",
       "2            0.0              2.0  ...           0          0          False   \n",
       "3            0.0              2.0  ...           0          0          False   \n",
       "4            0.0              2.0  ...           0          0          False   \n",
       "\n",
       "   code_gender_M  flag_own_car_N  flag_own_car_Y  flag_own_realty_N  \\\n",
       "0           True           False            True              False   \n",
       "1           True           False            True              False   \n",
       "2           True           False            True              False   \n",
       "3           True           False            True              False   \n",
       "4           True           False            True              False   \n",
       "\n",
       "   flag_own_realty_Y  occupation_type_code  cluster_label  \n",
       "0               True                     9              0  \n",
       "1               True                     9              0  \n",
       "2               True                     9              0  \n",
       "3               True                     9              0  \n",
       "4               True                     9              0  \n",
       "\n",
       "[5 rows x 23 columns]"
      ]
     },
     "execution_count": 56,
     "metadata": {},
     "output_type": "execute_result"
    }
   ],
   "source": [
    "final_df.head()"
   ]
  },
  {
   "cell_type": "code",
   "execution_count": 57,
   "id": "feb0df92",
   "metadata": {
    "ExecuteTime": {
     "end_time": "2023-11-02T12:50:19.543369Z",
     "start_time": "2023-11-02T12:50:19.471063Z"
    }
   },
   "outputs": [],
   "source": [
    "temp = pd.DataFrame(final_df.groupby('cluster_label')['status'].value_counts())"
   ]
  },
  {
   "cell_type": "code",
   "execution_count": 58,
   "id": "1481932b",
   "metadata": {
    "ExecuteTime": {
     "end_time": "2023-11-02T12:50:27.471935Z",
     "start_time": "2023-11-02T12:50:27.457894Z"
    }
   },
   "outputs": [
    {
     "data": {
      "text/html": [
       "<div>\n",
       "<style scoped>\n",
       "    .dataframe tbody tr th:only-of-type {\n",
       "        vertical-align: middle;\n",
       "    }\n",
       "\n",
       "    .dataframe tbody tr th {\n",
       "        vertical-align: top;\n",
       "    }\n",
       "\n",
       "    .dataframe thead th {\n",
       "        text-align: right;\n",
       "    }\n",
       "</style>\n",
       "<table border=\"1\" class=\"dataframe\">\n",
       "  <thead>\n",
       "    <tr style=\"text-align: right;\">\n",
       "      <th></th>\n",
       "      <th></th>\n",
       "      <th>count</th>\n",
       "    </tr>\n",
       "    <tr>\n",
       "      <th>cluster_label</th>\n",
       "      <th>status</th>\n",
       "      <th></th>\n",
       "    </tr>\n",
       "  </thead>\n",
       "  <tbody>\n",
       "    <tr>\n",
       "      <th rowspan=\"8\" valign=\"top\">0</th>\n",
       "      <th>C</th>\n",
       "      <td>127426</td>\n",
       "    </tr>\n",
       "    <tr>\n",
       "      <th>0</th>\n",
       "      <td>115099</td>\n",
       "    </tr>\n",
       "    <tr>\n",
       "      <th>X</th>\n",
       "      <td>57326</td>\n",
       "    </tr>\n",
       "    <tr>\n",
       "      <th>1</th>\n",
       "      <td>3407</td>\n",
       "    </tr>\n",
       "    <tr>\n",
       "      <th>5</th>\n",
       "      <td>594</td>\n",
       "    </tr>\n",
       "    <tr>\n",
       "      <th>2</th>\n",
       "      <td>304</td>\n",
       "    </tr>\n",
       "    <tr>\n",
       "      <th>3</th>\n",
       "      <td>122</td>\n",
       "    </tr>\n",
       "    <tr>\n",
       "      <th>4</th>\n",
       "      <td>82</td>\n",
       "    </tr>\n",
       "    <tr>\n",
       "      <th rowspan=\"8\" valign=\"top\">1</th>\n",
       "      <th>C</th>\n",
       "      <td>202110</td>\n",
       "    </tr>\n",
       "    <tr>\n",
       "      <th>0</th>\n",
       "      <td>175555</td>\n",
       "    </tr>\n",
       "    <tr>\n",
       "      <th>X</th>\n",
       "      <td>88624</td>\n",
       "    </tr>\n",
       "    <tr>\n",
       "      <th>1</th>\n",
       "      <td>5340</td>\n",
       "    </tr>\n",
       "    <tr>\n",
       "      <th>5</th>\n",
       "      <td>933</td>\n",
       "    </tr>\n",
       "    <tr>\n",
       "      <th>2</th>\n",
       "      <td>497</td>\n",
       "    </tr>\n",
       "    <tr>\n",
       "      <th>3</th>\n",
       "      <td>164</td>\n",
       "    </tr>\n",
       "    <tr>\n",
       "      <th>4</th>\n",
       "      <td>132</td>\n",
       "    </tr>\n",
       "  </tbody>\n",
       "</table>\n",
       "</div>"
      ],
      "text/plain": [
       "                       count\n",
       "cluster_label status        \n",
       "0             C       127426\n",
       "              0       115099\n",
       "              X        57326\n",
       "              1         3407\n",
       "              5          594\n",
       "              2          304\n",
       "              3          122\n",
       "              4           82\n",
       "1             C       202110\n",
       "              0       175555\n",
       "              X        88624\n",
       "              1         5340\n",
       "              5          933\n",
       "              2          497\n",
       "              3          164\n",
       "              4          132"
      ]
     },
     "execution_count": 58,
     "metadata": {},
     "output_type": "execute_result"
    }
   ],
   "source": [
    "temp.columns = ['count']\n",
    "temp"
   ]
  },
  {
   "cell_type": "code",
   "execution_count": 60,
   "id": "918d01ae",
   "metadata": {
    "ExecuteTime": {
     "end_time": "2023-11-02T12:51:57.364920Z",
     "start_time": "2023-11-02T12:51:57.280741Z"
    }
   },
   "outputs": [
    {
     "data": {
      "text/plain": [
       "cluster_label  occupation_type      \n",
       "0              Laborers                 115739\n",
       "               IT staff                  25669\n",
       "               Core staff                23749\n",
       "               HR staff                  22370\n",
       "               Sales staff               22292\n",
       "               Managers                  22139\n",
       "               Drivers                   13395\n",
       "               Medicine staff            11082\n",
       "               Cooking staff              8783\n",
       "               High skill tech staff      8273\n",
       "               Accountants                8204\n",
       "               Low-skill Laborers         5614\n",
       "               Cleaning staff             4515\n",
       "               Security staff             4457\n",
       "               Private service staff      2942\n",
       "               Secretaries                2260\n",
       "               Waiters/barmen staff       2133\n",
       "               Realty agents               744\n",
       "1              Laborers                 180034\n",
       "               IT staff                  38025\n",
       "               Sales staff               36434\n",
       "               Core staff                36408\n",
       "               Managers                  32511\n",
       "               HR staff                  31817\n",
       "               Drivers                   21714\n",
       "               High skill tech staff     15892\n",
       "               Medicine staff            15000\n",
       "               Cooking staff             13237\n",
       "               Accountants               12673\n",
       "               Low-skill Laborers        10565\n",
       "               Cleaning staff             8733\n",
       "               Security staff             5651\n",
       "               Secretaries                5393\n",
       "               Private service staff      4560\n",
       "               Waiters/barmen staff       3315\n",
       "               Realty agents              1393\n",
       "Name: count, dtype: int64"
      ]
     },
     "execution_count": 60,
     "metadata": {},
     "output_type": "execute_result"
    }
   ],
   "source": [
    "df3.groupby(final_df['cluster_label'])['occupation_type'].value_counts()"
   ]
  },
  {
   "cell_type": "code",
   "execution_count": 61,
   "id": "3c151878",
   "metadata": {
    "ExecuteTime": {
     "end_time": "2023-11-02T12:52:39.740321Z",
     "start_time": "2023-11-02T12:52:39.417988Z"
    }
   },
   "outputs": [],
   "source": [
    "final_df.loc[(final_df['status']=='X')|\n",
    "        (final_df['status']=='C')|\n",
    "        (final_df['status']=='0'),'response'] = 1\n",
    "final_df.loc[(final_df['status']=='1')|\n",
    "        (final_df['status']=='2')|\n",
    "        (final_df['status']=='3')|\n",
    "        (final_df['status']=='4')|\n",
    "        (final_df['status']=='5'),'response'] = 0"
   ]
  },
  {
   "cell_type": "code",
   "execution_count": 62,
   "id": "01660903",
   "metadata": {
    "ExecuteTime": {
     "end_time": "2023-11-02T12:52:49.750162Z",
     "start_time": "2023-11-02T12:52:49.728879Z"
    }
   },
   "outputs": [
    {
     "data": {
      "text/plain": [
       "response\n",
       "1.0    98.511666\n",
       "0.0     1.488334\n",
       "Name: count, dtype: float64"
      ]
     },
     "execution_count": 62,
     "metadata": {},
     "output_type": "execute_result"
    }
   ],
   "source": [
    "final_df.response.value_counts()/final_df.shape[0]*100"
   ]
  },
  {
   "cell_type": "code",
   "execution_count": 63,
   "id": "9dc3ed04",
   "metadata": {
    "ExecuteTime": {
     "end_time": "2023-11-02T12:53:24.066541Z",
     "start_time": "2023-11-02T12:53:24.016710Z"
    }
   },
   "outputs": [],
   "source": [
    "temp1 = final_df.drop(columns=['status'])\n",
    "from scipy.stats import pointbiserialr"
   ]
  },
  {
   "cell_type": "code",
   "execution_count": 64,
   "id": "2c74951c",
   "metadata": {
    "ExecuteTime": {
     "end_time": "2023-11-02T12:53:46.959874Z",
     "start_time": "2023-11-02T12:53:45.456343Z"
    }
   },
   "outputs": [
    {
     "data": {
      "text/html": [
       "<div>\n",
       "<style scoped>\n",
       "    .dataframe tbody tr th:only-of-type {\n",
       "        vertical-align: middle;\n",
       "    }\n",
       "\n",
       "    .dataframe tbody tr th {\n",
       "        vertical-align: top;\n",
       "    }\n",
       "\n",
       "    .dataframe thead th {\n",
       "        text-align: right;\n",
       "    }\n",
       "</style>\n",
       "<table border=\"1\" class=\"dataframe\">\n",
       "  <thead>\n",
       "    <tr style=\"text-align: right;\">\n",
       "      <th></th>\n",
       "      <th>var1</th>\n",
       "      <th>var2</th>\n",
       "      <th>result_point</th>\n",
       "    </tr>\n",
       "  </thead>\n",
       "  <tbody>\n",
       "    <tr>\n",
       "      <th>0</th>\n",
       "      <td>name_income_type</td>\n",
       "      <td>response</td>\n",
       "      <td>significant</td>\n",
       "    </tr>\n",
       "    <tr>\n",
       "      <th>1</th>\n",
       "      <td>order_name_education_type</td>\n",
       "      <td>response</td>\n",
       "      <td>significant</td>\n",
       "    </tr>\n",
       "    <tr>\n",
       "      <th>2</th>\n",
       "      <td>id</td>\n",
       "      <td>response</td>\n",
       "      <td>significant</td>\n",
       "    </tr>\n",
       "    <tr>\n",
       "      <th>3</th>\n",
       "      <td>cnt_children</td>\n",
       "      <td>response</td>\n",
       "      <td>significant</td>\n",
       "    </tr>\n",
       "    <tr>\n",
       "      <th>4</th>\n",
       "      <td>amt_income_total</td>\n",
       "      <td>response</td>\n",
       "      <td>significant</td>\n",
       "    </tr>\n",
       "    <tr>\n",
       "      <th>5</th>\n",
       "      <td>name_family_status</td>\n",
       "      <td>response</td>\n",
       "      <td>significant</td>\n",
       "    </tr>\n",
       "    <tr>\n",
       "      <th>6</th>\n",
       "      <td>name_housing_type</td>\n",
       "      <td>response</td>\n",
       "      <td>significant</td>\n",
       "    </tr>\n",
       "    <tr>\n",
       "      <th>7</th>\n",
       "      <td>days_birth</td>\n",
       "      <td>response</td>\n",
       "      <td>significant</td>\n",
       "    </tr>\n",
       "    <tr>\n",
       "      <th>8</th>\n",
       "      <td>days_employed</td>\n",
       "      <td>response</td>\n",
       "      <td>significant</td>\n",
       "    </tr>\n",
       "    <tr>\n",
       "      <th>9</th>\n",
       "      <td>cnt_fam_members</td>\n",
       "      <td>response</td>\n",
       "      <td>significant</td>\n",
       "    </tr>\n",
       "    <tr>\n",
       "      <th>10</th>\n",
       "      <td>months_balance</td>\n",
       "      <td>response</td>\n",
       "      <td>significant</td>\n",
       "    </tr>\n",
       "    <tr>\n",
       "      <th>11</th>\n",
       "      <td>flag_work_phone</td>\n",
       "      <td>response</td>\n",
       "      <td>insignificant</td>\n",
       "    </tr>\n",
       "    <tr>\n",
       "      <th>12</th>\n",
       "      <td>flag_phone</td>\n",
       "      <td>response</td>\n",
       "      <td>insignificant</td>\n",
       "    </tr>\n",
       "    <tr>\n",
       "      <th>13</th>\n",
       "      <td>flag_email</td>\n",
       "      <td>response</td>\n",
       "      <td>insignificant</td>\n",
       "    </tr>\n",
       "    <tr>\n",
       "      <th>14</th>\n",
       "      <td>code_gender_F</td>\n",
       "      <td>response</td>\n",
       "      <td>significant</td>\n",
       "    </tr>\n",
       "    <tr>\n",
       "      <th>15</th>\n",
       "      <td>code_gender_M</td>\n",
       "      <td>response</td>\n",
       "      <td>significant</td>\n",
       "    </tr>\n",
       "    <tr>\n",
       "      <th>16</th>\n",
       "      <td>flag_own_car_N</td>\n",
       "      <td>response</td>\n",
       "      <td>insignificant</td>\n",
       "    </tr>\n",
       "    <tr>\n",
       "      <th>17</th>\n",
       "      <td>flag_own_car_Y</td>\n",
       "      <td>response</td>\n",
       "      <td>insignificant</td>\n",
       "    </tr>\n",
       "    <tr>\n",
       "      <th>18</th>\n",
       "      <td>flag_own_realty_N</td>\n",
       "      <td>response</td>\n",
       "      <td>significant</td>\n",
       "    </tr>\n",
       "    <tr>\n",
       "      <th>19</th>\n",
       "      <td>flag_own_realty_Y</td>\n",
       "      <td>response</td>\n",
       "      <td>significant</td>\n",
       "    </tr>\n",
       "    <tr>\n",
       "      <th>20</th>\n",
       "      <td>occupation_type_code</td>\n",
       "      <td>response</td>\n",
       "      <td>significant</td>\n",
       "    </tr>\n",
       "    <tr>\n",
       "      <th>21</th>\n",
       "      <td>cluster_label</td>\n",
       "      <td>response</td>\n",
       "      <td>insignificant</td>\n",
       "    </tr>\n",
       "  </tbody>\n",
       "</table>\n",
       "</div>"
      ],
      "text/plain": [
       "                         var1      var2   result_point\n",
       "0            name_income_type  response    significant\n",
       "1   order_name_education_type  response    significant\n",
       "2                          id  response    significant\n",
       "3                cnt_children  response    significant\n",
       "4            amt_income_total  response    significant\n",
       "5          name_family_status  response    significant\n",
       "6           name_housing_type  response    significant\n",
       "7                  days_birth  response    significant\n",
       "8               days_employed  response    significant\n",
       "9             cnt_fam_members  response    significant\n",
       "10             months_balance  response    significant\n",
       "11            flag_work_phone  response  insignificant\n",
       "12                 flag_phone  response  insignificant\n",
       "13                 flag_email  response  insignificant\n",
       "14              code_gender_F  response    significant\n",
       "15              code_gender_M  response    significant\n",
       "16             flag_own_car_N  response  insignificant\n",
       "17             flag_own_car_Y  response  insignificant\n",
       "18          flag_own_realty_N  response    significant\n",
       "19          flag_own_realty_Y  response    significant\n",
       "20       occupation_type_code  response    significant\n",
       "21              cluster_label  response  insignificant"
      ]
     },
     "execution_count": 64,
     "metadata": {},
     "output_type": "execute_result"
    }
   ],
   "source": [
    "from scipy.stats import pointbiserialr\n",
    "from scipy.stats import chi2_contingency\n",
    "result_df = pd.DataFrame()\n",
    "result_point = []\n",
    "var1 = []\n",
    "var2 = []\n",
    "for i in temp1.columns:\n",
    "    if i == 'response':\n",
    "        continue\n",
    "    elif temp1[i].nunique() >= 10:\n",
    "        point = pointbiserialr(temp1[i],temp1['response'])\n",
    "        if point[1]<0.05:\n",
    "            result_point.append('significant')\n",
    "            var1.append(i)\n",
    "            var2.append('response')\n",
    "        else:\n",
    "            result_point.append('insignificant')\n",
    "    elif temp1[i].nunique() <10:\n",
    "        cross = pd.crosstab(temp1[i],temp1['response'])\n",
    "        chi2 = chi2_contingency(cross)\n",
    "        var1.append(i)\n",
    "        var2.append('response')\n",
    "        if chi2[1] <0.05:\n",
    "            result_point.append('significant')\n",
    "        else:\n",
    "            result_point.append('insignificant')\n",
    "result_df['var1'] = var1\n",
    "result_df['var2'] = var2\n",
    "result_df['result_point'] = result_point\n",
    "result_df\n",
    "\n"
   ]
  },
  {
   "cell_type": "code",
   "execution_count": 65,
   "id": "5c79a2cf",
   "metadata": {
    "ExecuteTime": {
     "end_time": "2023-11-02T12:56:09.739215Z",
     "start_time": "2023-11-02T12:56:09.734564Z"
    }
   },
   "outputs": [],
   "source": [
    "un_wanted = result_df[result_df['result_point']=='insignificant'].var1.to_list()"
   ]
  },
  {
   "cell_type": "code",
   "execution_count": 71,
   "id": "f7a4e231",
   "metadata": {
    "ExecuteTime": {
     "end_time": "2023-11-02T13:01:49.035112Z",
     "start_time": "2023-11-02T13:01:48.981572Z"
    }
   },
   "outputs": [],
   "source": [
    "model_df  = final_df.drop(columns=un_wanted, axis=1)"
   ]
  },
  {
   "cell_type": "code",
   "execution_count": 72,
   "id": "c54d6485",
   "metadata": {
    "ExecuteTime": {
     "end_time": "2023-11-02T13:02:17.096082Z",
     "start_time": "2023-11-02T13:02:17.086746Z"
    }
   },
   "outputs": [],
   "source": [
    "model_df['months_balance'] = abs(model_df['months_balance'])"
   ]
  },
  {
   "cell_type": "code",
   "execution_count": 78,
   "id": "d9963c3c",
   "metadata": {
    "ExecuteTime": {
     "end_time": "2023-11-02T13:03:22.876557Z",
     "start_time": "2023-11-02T13:03:22.870790Z"
    }
   },
   "outputs": [
    {
     "data": {
      "text/plain": [
       "Index(['name_income_type', 'order_name_education_type', 'id', 'cnt_children',\n",
       "       'amt_income_total', 'name_family_status', 'name_housing_type',\n",
       "       'days_birth', 'days_employed', 'cnt_fam_members', 'months_balance',\n",
       "       'status', 'code_gender_F', 'code_gender_M', 'flag_own_realty_N',\n",
       "       'flag_own_realty_Y', 'occupation_type_code', 'response'],\n",
       "      dtype='object')"
      ]
     },
     "execution_count": 78,
     "metadata": {},
     "output_type": "execute_result"
    }
   ],
   "source": [
    "model_df.columns"
   ]
  },
  {
   "cell_type": "code",
   "execution_count": 80,
   "id": "f54bdc8d",
   "metadata": {
    "ExecuteTime": {
     "end_time": "2023-11-02T13:04:16.591463Z",
     "start_time": "2023-11-02T13:04:16.576945Z"
    },
    "scrolled": true
   },
   "outputs": [
    {
     "data": {
      "text/html": [
       "<div>\n",
       "<style scoped>\n",
       "    .dataframe tbody tr th:only-of-type {\n",
       "        vertical-align: middle;\n",
       "    }\n",
       "\n",
       "    .dataframe tbody tr th {\n",
       "        vertical-align: top;\n",
       "    }\n",
       "\n",
       "    .dataframe thead th {\n",
       "        text-align: right;\n",
       "    }\n",
       "</style>\n",
       "<table border=\"1\" class=\"dataframe\">\n",
       "  <thead>\n",
       "    <tr style=\"text-align: right;\">\n",
       "      <th></th>\n",
       "      <th>name_income_type</th>\n",
       "      <th>order_name_education_type</th>\n",
       "      <th>id</th>\n",
       "      <th>cnt_children</th>\n",
       "      <th>amt_income_total</th>\n",
       "      <th>name_family_status</th>\n",
       "      <th>name_housing_type</th>\n",
       "      <th>days_birth</th>\n",
       "      <th>days_employed</th>\n",
       "      <th>cnt_fam_members</th>\n",
       "      <th>months_balance</th>\n",
       "      <th>status</th>\n",
       "      <th>code_gender_F</th>\n",
       "      <th>code_gender_M</th>\n",
       "      <th>flag_own_realty_N</th>\n",
       "      <th>flag_own_realty_Y</th>\n",
       "      <th>occupation_type_code</th>\n",
       "      <th>response</th>\n",
       "    </tr>\n",
       "  </thead>\n",
       "  <tbody>\n",
       "    <tr>\n",
       "      <th>0</th>\n",
       "      <td>1</td>\n",
       "      <td>1</td>\n",
       "      <td>5010848</td>\n",
       "      <td>0</td>\n",
       "      <td>54000.0</td>\n",
       "      <td>3</td>\n",
       "      <td>6</td>\n",
       "      <td>61.03</td>\n",
       "      <td>0.0</td>\n",
       "      <td>2.0</td>\n",
       "      <td>0</td>\n",
       "      <td>X</td>\n",
       "      <td>False</td>\n",
       "      <td>True</td>\n",
       "      <td>False</td>\n",
       "      <td>True</td>\n",
       "      <td>9</td>\n",
       "      <td>1.0</td>\n",
       "    </tr>\n",
       "    <tr>\n",
       "      <th>1</th>\n",
       "      <td>1</td>\n",
       "      <td>1</td>\n",
       "      <td>5010848</td>\n",
       "      <td>0</td>\n",
       "      <td>54000.0</td>\n",
       "      <td>3</td>\n",
       "      <td>6</td>\n",
       "      <td>61.03</td>\n",
       "      <td>0.0</td>\n",
       "      <td>2.0</td>\n",
       "      <td>1</td>\n",
       "      <td>X</td>\n",
       "      <td>False</td>\n",
       "      <td>True</td>\n",
       "      <td>False</td>\n",
       "      <td>True</td>\n",
       "      <td>9</td>\n",
       "      <td>1.0</td>\n",
       "    </tr>\n",
       "    <tr>\n",
       "      <th>2</th>\n",
       "      <td>1</td>\n",
       "      <td>1</td>\n",
       "      <td>5010848</td>\n",
       "      <td>0</td>\n",
       "      <td>54000.0</td>\n",
       "      <td>3</td>\n",
       "      <td>6</td>\n",
       "      <td>61.03</td>\n",
       "      <td>0.0</td>\n",
       "      <td>2.0</td>\n",
       "      <td>2</td>\n",
       "      <td>X</td>\n",
       "      <td>False</td>\n",
       "      <td>True</td>\n",
       "      <td>False</td>\n",
       "      <td>True</td>\n",
       "      <td>9</td>\n",
       "      <td>1.0</td>\n",
       "    </tr>\n",
       "    <tr>\n",
       "      <th>3</th>\n",
       "      <td>1</td>\n",
       "      <td>1</td>\n",
       "      <td>5010848</td>\n",
       "      <td>0</td>\n",
       "      <td>54000.0</td>\n",
       "      <td>3</td>\n",
       "      <td>6</td>\n",
       "      <td>61.03</td>\n",
       "      <td>0.0</td>\n",
       "      <td>2.0</td>\n",
       "      <td>3</td>\n",
       "      <td>X</td>\n",
       "      <td>False</td>\n",
       "      <td>True</td>\n",
       "      <td>False</td>\n",
       "      <td>True</td>\n",
       "      <td>9</td>\n",
       "      <td>1.0</td>\n",
       "    </tr>\n",
       "    <tr>\n",
       "      <th>4</th>\n",
       "      <td>1</td>\n",
       "      <td>1</td>\n",
       "      <td>5010848</td>\n",
       "      <td>0</td>\n",
       "      <td>54000.0</td>\n",
       "      <td>3</td>\n",
       "      <td>6</td>\n",
       "      <td>61.03</td>\n",
       "      <td>0.0</td>\n",
       "      <td>2.0</td>\n",
       "      <td>4</td>\n",
       "      <td>X</td>\n",
       "      <td>False</td>\n",
       "      <td>True</td>\n",
       "      <td>False</td>\n",
       "      <td>True</td>\n",
       "      <td>9</td>\n",
       "      <td>1.0</td>\n",
       "    </tr>\n",
       "  </tbody>\n",
       "</table>\n",
       "</div>"
      ],
      "text/plain": [
       "   name_income_type  order_name_education_type       id  cnt_children  \\\n",
       "0                 1                          1  5010848             0   \n",
       "1                 1                          1  5010848             0   \n",
       "2                 1                          1  5010848             0   \n",
       "3                 1                          1  5010848             0   \n",
       "4                 1                          1  5010848             0   \n",
       "\n",
       "   amt_income_total  name_family_status  name_housing_type  days_birth  \\\n",
       "0           54000.0                   3                  6       61.03   \n",
       "1           54000.0                   3                  6       61.03   \n",
       "2           54000.0                   3                  6       61.03   \n",
       "3           54000.0                   3                  6       61.03   \n",
       "4           54000.0                   3                  6       61.03   \n",
       "\n",
       "   days_employed  cnt_fam_members  months_balance status  code_gender_F  \\\n",
       "0            0.0              2.0               0      X          False   \n",
       "1            0.0              2.0               1      X          False   \n",
       "2            0.0              2.0               2      X          False   \n",
       "3            0.0              2.0               3      X          False   \n",
       "4            0.0              2.0               4      X          False   \n",
       "\n",
       "   code_gender_M  flag_own_realty_N  flag_own_realty_Y  occupation_type_code  \\\n",
       "0           True              False               True                     9   \n",
       "1           True              False               True                     9   \n",
       "2           True              False               True                     9   \n",
       "3           True              False               True                     9   \n",
       "4           True              False               True                     9   \n",
       "\n",
       "   response  \n",
       "0       1.0  \n",
       "1       1.0  \n",
       "2       1.0  \n",
       "3       1.0  \n",
       "4       1.0  "
      ]
     },
     "execution_count": 80,
     "metadata": {},
     "output_type": "execute_result"
    }
   ],
   "source": [
    "model_df.head()"
   ]
  },
  {
   "cell_type": "code",
   "execution_count": 81,
   "id": "0ef6256d",
   "metadata": {
    "ExecuteTime": {
     "end_time": "2023-11-02T13:05:30.023811Z",
     "start_time": "2023-11-02T13:05:29.982757Z"
    }
   },
   "outputs": [],
   "source": [
    "model_df.drop('status', axis= 1, inplace=True)"
   ]
  },
  {
   "cell_type": "code",
   "execution_count": 85,
   "id": "7d4dd720",
   "metadata": {
    "ExecuteTime": {
     "end_time": "2023-11-02T13:08:26.660710Z",
     "start_time": "2023-11-02T13:08:26.655628Z"
    }
   },
   "outputs": [],
   "source": [
    "os.chdir('/')"
   ]
  },
  {
   "cell_type": "code",
   "execution_count": 86,
   "id": "a0c6e878",
   "metadata": {
    "ExecuteTime": {
     "end_time": "2023-11-02T13:08:38.696707Z",
     "start_time": "2023-11-02T13:08:33.868606Z"
    }
   },
   "outputs": [],
   "source": [
    "model_df.to_csv('cleaned_df.csv')"
   ]
  },
  {
   "cell_type": "code",
   "execution_count": null,
   "id": "a38a99d2",
   "metadata": {},
   "outputs": [],
   "source": []
  }
 ],
 "metadata": {
  "kernelspec": {
   "display_name": "Python 3 (ipykernel)",
   "language": "python",
   "name": "python3"
  },
  "language_info": {
   "codemirror_mode": {
    "name": "ipython",
    "version": 3
   },
   "file_extension": ".py",
   "mimetype": "text/x-python",
   "name": "python",
   "nbconvert_exporter": "python",
   "pygments_lexer": "ipython3",
   "version": "3.11.5"
  },
  "toc": {
   "base_numbering": 1,
   "nav_menu": {},
   "number_sections": true,
   "sideBar": true,
   "skip_h1_title": false,
   "title_cell": "Table of Contents",
   "title_sidebar": "Contents",
   "toc_cell": false,
   "toc_position": {},
   "toc_section_display": true,
   "toc_window_display": false
  },
  "varInspector": {
   "cols": {
    "lenName": 16,
    "lenType": 16,
    "lenVar": 40
   },
   "kernels_config": {
    "python": {
     "delete_cmd_postfix": "",
     "delete_cmd_prefix": "del ",
     "library": "var_list.py",
     "varRefreshCmd": "print(var_dic_list())"
    },
    "r": {
     "delete_cmd_postfix": ") ",
     "delete_cmd_prefix": "rm(",
     "library": "var_list.r",
     "varRefreshCmd": "cat(var_dic_list()) "
    }
   },
   "types_to_exclude": [
    "module",
    "function",
    "builtin_function_or_method",
    "instance",
    "_Feature"
   ],
   "window_display": false
  }
 },
 "nbformat": 4,
 "nbformat_minor": 5
}
